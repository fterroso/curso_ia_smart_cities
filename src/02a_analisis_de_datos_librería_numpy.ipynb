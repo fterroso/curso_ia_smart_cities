{
  "cells": [
    {
      "cell_type": "markdown",
      "metadata": {
        "id": "3KNmtNNb4H2U"
      },
      "source": [
        "___\n",
        "\n",
        "<a href='http://www.pieriandata.com'> <img src='../Pierian_Data_Logo.png' /></a>\n",
        "___"
      ]
    },
    {
      "cell_type": "markdown",
      "metadata": {
        "id": "HNyy0PGO4H2V"
      },
      "source": [
        "# NumPy\n",
        "\n",
        "`numpy` es una biblioteca de álgebra lineal para Python. La razón por la que es tan importante para la ciencia de datos con Python es que casi todas las bibliotecas del ecosistema PyData se basan en `numpy` como uno de sus principales componentes básicos.\n",
        "\n",
        "Numpy también es increíblemente rápido, ya que tiene enlaces a bibliotecas C. Para obtener más información sobre por qué es mejor utilizar matrices en lugar de listas, echa un vistazo a esta excelente [publicación de StackOverflow](http://stackoverflow.com/questions/993984/why-numpy-instead-of-python-lists).\n",
        "\n"
      ]
    },
    {
      "cell_type": "markdown",
      "metadata": {
        "id": "hmwnCU_24H2V"
      },
      "source": [
        "## Instrucciones de instalación\n",
        "\n",
        "Si vas a usar esta librería en local, se recomienda encarecidamente instalar Python utilizando la distribución Anaconda para asegurarse de que todas las dependencias subyacentes (como las bibliotecas de álgebra lineal) se sincronizan con el uso de una instalación conda. Si tiene Anaconda, instale NumPy yendo a su terminal o símbolo del sistema y escribiendo:\n",
        "    \n",
        "    conda install numpy\n",
        "    \n"
      ]
    },
    {
      "cell_type": "markdown",
      "metadata": {
        "id": "O9kr3ggD4H2V"
      },
      "source": [
        "## Uso de `numpy`\n",
        "\n",
        "Una vez instalado, ya podemos importarlo en nuestro código:"
      ]
    },
    {
      "cell_type": "code",
      "execution_count": null,
      "metadata": {
        "collapsed": true,
        "id": "H3ksImxp4H2W"
      },
      "outputs": [],
      "source": [
        "import numpy as np"
      ]
    },
    {
      "cell_type": "markdown",
      "metadata": {
        "id": "9dIHBDjw4H2W"
      },
      "source": [
        "`numpy` tiene muchas funciones y capacidades integradas. No las cubriremos todas en este taller, sino que nos centraremos en algunos de sus aspectos más importantes: vectores, matrices y generación de números. Comencemos hablando de las matrices.\n",
        "\n",
        "# Matrices `numpy`\n",
        "\n",
        "Las matrices `numpy` son la forma principal en que utilizaremos `numpy` a lo largo del curso. Las matrices `numpy` se dividen básicamente en dos tipos: vectores y matrices. Los vectores son matrices estrictamente unidimensionales y las matrices son bidimensionales (pero hay que tener en cuenta que una matriz puede tener solo una fila o una columna).\n",
        "\n",
        "## Creación de matrices `numpy`\n",
        "\n",
        "### A partir de una lista Python\n",
        "\n",
        "Podemos crear una matriz convirtiendo directamente una lista o una lista de listas:"
      ]
    },
    {
      "cell_type": "code",
      "execution_count": null,
      "metadata": {
        "id": "f5o8rWu34H2X",
        "outputId": "c93b456a-d3a9-4919-bd4f-e1b1a8a100bb"
      },
      "outputs": [
        {
          "data": {
            "text/plain": [
              "[1, 2, 3]"
            ]
          },
          "execution_count": 19,
          "metadata": {},
          "output_type": "execute_result"
        }
      ],
      "source": [
        "my_list = [1,2,3]\n",
        "my_list"
      ]
    },
    {
      "cell_type": "code",
      "execution_count": null,
      "metadata": {
        "id": "IDwjnvPN4H2X",
        "outputId": "2c2c679f-4140-46b0-abf6-61598a26c8eb"
      },
      "outputs": [
        {
          "data": {
            "text/plain": [
              "array([1, 2, 3])"
            ]
          },
          "execution_count": 16,
          "metadata": {},
          "output_type": "execute_result"
        }
      ],
      "source": [
        "np.array(my_list)"
      ]
    },
    {
      "cell_type": "code",
      "execution_count": null,
      "metadata": {
        "id": "22zlImC34H2X",
        "outputId": "5a2767fe-ba80-4743-d2ff-499cc4931d28"
      },
      "outputs": [
        {
          "data": {
            "text/plain": [
              "[[1, 2, 3], [4, 5, 6], [7, 8, 9]]"
            ]
          },
          "execution_count": 20,
          "metadata": {},
          "output_type": "execute_result"
        }
      ],
      "source": [
        "my_matrix = [[1,2,3],[4,5,6],[7,8,9]]\n",
        "my_matrix"
      ]
    },
    {
      "cell_type": "code",
      "execution_count": null,
      "metadata": {
        "id": "J7XKVEMo4H2Y",
        "outputId": "c1e17625-2f04-4501-ec69-9ea8c5d1f610"
      },
      "outputs": [
        {
          "data": {
            "text/plain": [
              "array([[1, 2, 3],\n",
              "       [4, 5, 6],\n",
              "       [7, 8, 9]])"
            ]
          },
          "execution_count": 21,
          "metadata": {},
          "output_type": "execute_result"
        }
      ],
      "source": [
        "np.array(my_matrix)"
      ]
    },
    {
      "cell_type": "markdown",
      "metadata": {
        "id": "-t-wPKZn4H2Y"
      },
      "source": [
        "## Built-in Methods\n",
        "\n",
        "There are lots of built-in ways to generate Arrays"
      ]
    },
    {
      "cell_type": "markdown",
      "metadata": {
        "id": "8Cd_0ufa4H2Y"
      },
      "source": [
        "### arange\n",
        "\n",
        "Devuelve valores espaciados uniformemente dentro de un intervalo dado."
      ]
    },
    {
      "cell_type": "code",
      "execution_count": null,
      "metadata": {
        "id": "BIY9vP2d4H2Y",
        "outputId": "316e7fe7-621a-4263-c05d-e9257d9f50a6"
      },
      "outputs": [
        {
          "data": {
            "text/plain": [
              "array([0, 1, 2, 3, 4, 5, 6, 7, 8, 9])"
            ]
          },
          "execution_count": 22,
          "metadata": {},
          "output_type": "execute_result"
        }
      ],
      "source": [
        "np.arange(0,10)"
      ]
    },
    {
      "cell_type": "code",
      "execution_count": null,
      "metadata": {
        "id": "GkgrdrST4H2Y",
        "outputId": "f8fece07-6a2b-4069-cb01-85310f317dbb"
      },
      "outputs": [
        {
          "data": {
            "text/plain": [
              "array([ 0,  2,  4,  6,  8, 10])"
            ]
          },
          "execution_count": 23,
          "metadata": {},
          "output_type": "execute_result"
        }
      ],
      "source": [
        "np.arange(0,11,2)"
      ]
    },
    {
      "cell_type": "markdown",
      "metadata": {
        "id": "zMZh6c6M4H2Y"
      },
      "source": [
        "### `zeros` y `ones`\n",
        "Generar matrices de ceros o unos"
      ]
    },
    {
      "cell_type": "code",
      "execution_count": null,
      "metadata": {
        "id": "hPFjNWm04H2Z",
        "outputId": "9ee5d596-9de3-4c13-d0a2-d22824a0cd2e"
      },
      "outputs": [
        {
          "data": {
            "text/plain": [
              "array([ 0.,  0.,  0.])"
            ]
          },
          "execution_count": 24,
          "metadata": {},
          "output_type": "execute_result"
        }
      ],
      "source": [
        "np.zeros(3)"
      ]
    },
    {
      "cell_type": "code",
      "execution_count": null,
      "metadata": {
        "id": "7z6Y-Dzn4H2Z",
        "outputId": "adb4272e-1a7a-4d47-966b-8f44bbf92fa7"
      },
      "outputs": [
        {
          "data": {
            "text/plain": [
              "array([[ 0.,  0.,  0.,  0.,  0.],\n",
              "       [ 0.,  0.,  0.,  0.,  0.],\n",
              "       [ 0.,  0.,  0.,  0.,  0.],\n",
              "       [ 0.,  0.,  0.,  0.,  0.],\n",
              "       [ 0.,  0.,  0.,  0.,  0.]])"
            ]
          },
          "execution_count": 26,
          "metadata": {},
          "output_type": "execute_result"
        }
      ],
      "source": [
        "np.zeros((5,5))"
      ]
    },
    {
      "cell_type": "code",
      "execution_count": null,
      "metadata": {
        "id": "qXEujpM74H2Z",
        "outputId": "4bb71044-bd36-4775-b43e-fdf34560279e"
      },
      "outputs": [
        {
          "data": {
            "text/plain": [
              "array([ 1.,  1.,  1.])"
            ]
          },
          "execution_count": 27,
          "metadata": {},
          "output_type": "execute_result"
        }
      ],
      "source": [
        "np.ones(3)"
      ]
    },
    {
      "cell_type": "code",
      "execution_count": null,
      "metadata": {
        "id": "kniEV_0R4H2Z",
        "outputId": "1c96c7f5-4b31-46f8-f75f-cb16df26fc82"
      },
      "outputs": [
        {
          "data": {
            "text/plain": [
              "array([[ 1.,  1.,  1.],\n",
              "       [ 1.,  1.,  1.],\n",
              "       [ 1.,  1.,  1.]])"
            ]
          },
          "execution_count": 28,
          "metadata": {},
          "output_type": "execute_result"
        }
      ],
      "source": [
        "np.ones((3,3))"
      ]
    },
    {
      "cell_type": "markdown",
      "metadata": {
        "id": "5tC_3EW84H2Z"
      },
      "source": [
        "### linspace\n",
        "Devuelve números espaciados uniformemente en un intervalo especificado."
      ]
    },
    {
      "cell_type": "code",
      "execution_count": null,
      "metadata": {
        "id": "4OCltIaJ4H2Z",
        "outputId": "ee606a58-8478-48d1-edac-a0e00c281584"
      },
      "outputs": [
        {
          "data": {
            "text/plain": [
              "array([  0.,   5.,  10.])"
            ]
          },
          "execution_count": 29,
          "metadata": {},
          "output_type": "execute_result"
        }
      ],
      "source": [
        "np.linspace(0,10,3)"
      ]
    },
    {
      "cell_type": "code",
      "execution_count": null,
      "metadata": {
        "id": "FmLNoTKM4H2Z",
        "outputId": "6c5047e0-2092-4b8d-a926-a32182bebf19"
      },
      "outputs": [
        {
          "data": {
            "text/plain": [
              "array([  0.        ,   0.20408163,   0.40816327,   0.6122449 ,\n",
              "         0.81632653,   1.02040816,   1.2244898 ,   1.42857143,\n",
              "         1.63265306,   1.83673469,   2.04081633,   2.24489796,\n",
              "         2.44897959,   2.65306122,   2.85714286,   3.06122449,\n",
              "         3.26530612,   3.46938776,   3.67346939,   3.87755102,\n",
              "         4.08163265,   4.28571429,   4.48979592,   4.69387755,\n",
              "         4.89795918,   5.10204082,   5.30612245,   5.51020408,\n",
              "         5.71428571,   5.91836735,   6.12244898,   6.32653061,\n",
              "         6.53061224,   6.73469388,   6.93877551,   7.14285714,\n",
              "         7.34693878,   7.55102041,   7.75510204,   7.95918367,\n",
              "         8.16326531,   8.36734694,   8.57142857,   8.7755102 ,\n",
              "         8.97959184,   9.18367347,   9.3877551 ,   9.59183673,\n",
              "         9.79591837,  10.        ])"
            ]
          },
          "execution_count": 31,
          "metadata": {},
          "output_type": "execute_result"
        }
      ],
      "source": [
        "np.linspace(0,10,50)"
      ]
    },
    {
      "cell_type": "markdown",
      "metadata": {
        "id": "qTn8SbxK4H2Z"
      },
      "source": [
        "## `eye`\n",
        "\n",
        "Crea una matriz identidad."
      ]
    },
    {
      "cell_type": "code",
      "execution_count": null,
      "metadata": {
        "id": "t18mI4kD4H2Z",
        "outputId": "ee8fed8a-1011-49de-9d99-39f9aa546676"
      },
      "outputs": [
        {
          "data": {
            "text/plain": [
              "array([[ 1.,  0.,  0.,  0.],\n",
              "       [ 0.,  1.,  0.,  0.],\n",
              "       [ 0.,  0.,  1.,  0.],\n",
              "       [ 0.,  0.,  0.,  1.]])"
            ]
          },
          "execution_count": 37,
          "metadata": {},
          "output_type": "execute_result"
        }
      ],
      "source": [
        "np.eye(4)"
      ]
    },
    {
      "cell_type": "markdown",
      "metadata": {
        "id": "wqdUnRjI4H2a"
      },
      "source": [
        "## Generación aletatoria\n",
        "\n",
        "`numpy` también ofrece muchas formas de crear matrices de números aleatorios:\n",
        "\n",
        "### `rand`\n",
        "Crea una matriz con la forma dada y la rellena con\n",
        "muestras aleatorias de una distribución uniforme\n",
        "entre ``[0, 1)``."
      ]
    },
    {
      "cell_type": "code",
      "execution_count": null,
      "metadata": {
        "id": "ZNYlYBlN4H2a",
        "outputId": "f079f162-80b1-469f-a239-a5b3090ae11a"
      },
      "outputs": [
        {
          "data": {
            "text/plain": [
              "array([ 0.11570539,  0.35279769])"
            ]
          },
          "execution_count": 47,
          "metadata": {},
          "output_type": "execute_result"
        }
      ],
      "source": [
        "np.random.rand(2)"
      ]
    },
    {
      "cell_type": "code",
      "execution_count": null,
      "metadata": {
        "id": "dTBYg76N4H2a",
        "outputId": "f86193c2-1c7c-4f03-c0a8-e3e28dcb67fb"
      },
      "outputs": [
        {
          "data": {
            "text/plain": [
              "array([[ 0.66660768,  0.87589888,  0.12421056,  0.65074126,  0.60260888],\n",
              "       [ 0.70027668,  0.85572434,  0.8464595 ,  0.2735416 ,  0.10955384],\n",
              "       [ 0.0670566 ,  0.83267738,  0.9082729 ,  0.58249129,  0.12305748],\n",
              "       [ 0.27948423,  0.66422017,  0.95639833,  0.34238788,  0.9578872 ],\n",
              "       [ 0.72155386,  0.3035422 ,  0.85249683,  0.30414307,  0.79718816]])"
            ]
          },
          "execution_count": 46,
          "metadata": {},
          "output_type": "execute_result"
        }
      ],
      "source": [
        "np.random.rand(5,5)"
      ]
    },
    {
      "cell_type": "markdown",
      "metadata": {
        "id": "yYeWkpj94H2a"
      },
      "source": [
        "### `randn`\n",
        "\n",
        "Devuelve una muestra (o muestras) de la distribución *normal estándar*. A diferencia de rand, que es uniforme:"
      ]
    },
    {
      "cell_type": "code",
      "execution_count": null,
      "metadata": {
        "id": "KEXnEW344H2a",
        "outputId": "dab6a90a-da3d-49d2-ad27-96d7bdfe8ace"
      },
      "outputs": [
        {
          "data": {
            "text/plain": [
              "array([-0.27954018,  0.90078368])"
            ]
          },
          "execution_count": 48,
          "metadata": {},
          "output_type": "execute_result"
        }
      ],
      "source": [
        "np.random.randn(2)"
      ]
    },
    {
      "cell_type": "code",
      "execution_count": null,
      "metadata": {
        "id": "zhLTkgIv4H2a",
        "outputId": "9ba788bd-3d2d-4657-b6fa-0d8aece8e596"
      },
      "outputs": [
        {
          "data": {
            "text/plain": [
              "array([[ 0.70154515,  0.22441999,  1.33563186,  0.82872577, -0.28247509],\n",
              "       [ 0.64489788,  0.61815094, -0.81693168, -0.30102424, -0.29030574],\n",
              "       [ 0.8695976 ,  0.413755  ,  2.20047208,  0.17955692, -0.82159344],\n",
              "       [ 0.59264235,  1.29869894, -1.18870241,  0.11590888, -0.09181687],\n",
              "       [-0.96924265, -1.62888685, -2.05787102, -0.29705576,  0.68915542]])"
            ]
          },
          "execution_count": 45,
          "metadata": {},
          "output_type": "execute_result"
        }
      ],
      "source": [
        "np.random.randn(5,5)"
      ]
    },
    {
      "cell_type": "markdown",
      "metadata": {
        "id": "rbhigyhH4H2a"
      },
      "source": [
        "### `randint`\n",
        "Devuelve números enteros aleatorios entre `low` (incluido) y `high` (excluido)."
      ]
    },
    {
      "cell_type": "code",
      "execution_count": null,
      "metadata": {
        "id": "9G6MhFvV4H2a",
        "outputId": "41fd8c80-f166-48b1-f796-4baaeeaafedd"
      },
      "outputs": [
        {
          "data": {
            "text/plain": [
              "44"
            ]
          },
          "execution_count": 50,
          "metadata": {},
          "output_type": "execute_result"
        }
      ],
      "source": [
        "np.random.randint(1,100)"
      ]
    },
    {
      "cell_type": "code",
      "execution_count": null,
      "metadata": {
        "id": "8Y8-iXud4H2a",
        "outputId": "d84b00a1-c5e1-4cd1-b998-9276e7e754a1"
      },
      "outputs": [
        {
          "data": {
            "text/plain": [
              "array([13, 64, 27, 63, 46, 68, 92, 10, 58, 24])"
            ]
          },
          "execution_count": 51,
          "metadata": {},
          "output_type": "execute_result"
        }
      ],
      "source": [
        "np.random.randint(1,100,10)"
      ]
    },
    {
      "cell_type": "markdown",
      "metadata": {
        "id": "YKOnGC7X4H2a"
      },
      "source": [
        "## Atributos y métodos de las matrices\n",
        "\n",
        "Veamos algunos atributos y métodos útiles de las matrices:"
      ]
    },
    {
      "cell_type": "code",
      "execution_count": null,
      "metadata": {
        "collapsed": true,
        "id": "4JSSHMmY4H2a"
      },
      "outputs": [],
      "source": [
        "arr = np.arange(25)\n",
        "ranarr = np.random.randint(0,50,10)"
      ]
    },
    {
      "cell_type": "code",
      "execution_count": null,
      "metadata": {
        "id": "4WaeLz2Z4H2a",
        "outputId": "9d1e8284-2010-43af-bb06-9518fe55b566"
      },
      "outputs": [
        {
          "data": {
            "text/plain": [
              "array([ 0,  1,  2,  3,  4,  5,  6,  7,  8,  9, 10, 11, 12, 13, 14, 15, 16,\n",
              "       17, 18, 19, 20, 21, 22, 23, 24])"
            ]
          },
          "execution_count": 56,
          "metadata": {},
          "output_type": "execute_result"
        }
      ],
      "source": [
        "arr"
      ]
    },
    {
      "cell_type": "code",
      "execution_count": null,
      "metadata": {
        "id": "5M9KzkD24H2b",
        "outputId": "2517723c-23b6-4d3f-a936-888c6f535456"
      },
      "outputs": [
        {
          "data": {
            "text/plain": [
              "array([10, 12, 41, 17, 49,  2, 46,  3, 19, 39])"
            ]
          },
          "execution_count": 57,
          "metadata": {},
          "output_type": "execute_result"
        }
      ],
      "source": [
        "ranarr"
      ]
    },
    {
      "cell_type": "markdown",
      "metadata": {
        "id": "4yKR01iM4H2b"
      },
      "source": [
        "### `reshape`\n",
        "Devuelve una matriz que contiene los mismos datos con una nueva forma."
      ]
    },
    {
      "cell_type": "code",
      "execution_count": null,
      "metadata": {
        "id": "vWuPY8oF4H2b",
        "outputId": "e6d0ea12-7b56-468d-d8c0-a4e7cbe979c0"
      },
      "outputs": [
        {
          "data": {
            "text/plain": [
              "array([[ 0,  1,  2,  3,  4],\n",
              "       [ 5,  6,  7,  8,  9],\n",
              "       [10, 11, 12, 13, 14],\n",
              "       [15, 16, 17, 18, 19],\n",
              "       [20, 21, 22, 23, 24]])"
            ]
          },
          "execution_count": 54,
          "metadata": {},
          "output_type": "execute_result"
        }
      ],
      "source": [
        "arr.reshape(5,5)"
      ]
    },
    {
      "cell_type": "markdown",
      "metadata": {
        "id": "HYLRc1hr4H2e"
      },
      "source": [
        "### `max,min,argmax,argmin`\n",
        "\n",
        "Estos son métodos útiles para encontrar valores máximos o mínimos. O para encontrar sus ubicaciones de índice utilizando argmin o argmax."
      ]
    },
    {
      "cell_type": "code",
      "execution_count": null,
      "metadata": {
        "id": "zocpIF1b4H2f",
        "outputId": "48010afa-7879-4fcb-fbfb-ce2fdeb2435e"
      },
      "outputs": [
        {
          "data": {
            "text/plain": [
              "array([10, 12, 41, 17, 49,  2, 46,  3, 19, 39])"
            ]
          },
          "execution_count": 64,
          "metadata": {},
          "output_type": "execute_result"
        }
      ],
      "source": [
        "ranarr"
      ]
    },
    {
      "cell_type": "code",
      "execution_count": null,
      "metadata": {
        "id": "qCRqAUvV4H2f",
        "outputId": "6f60776b-e0dd-4800-fc5f-e5b1f91a1d7d"
      },
      "outputs": [
        {
          "data": {
            "text/plain": [
              "49"
            ]
          },
          "execution_count": 61,
          "metadata": {},
          "output_type": "execute_result"
        }
      ],
      "source": [
        "ranarr.max()"
      ]
    },
    {
      "cell_type": "code",
      "execution_count": null,
      "metadata": {
        "id": "7FlfZIs-4H2f",
        "outputId": "a42bddee-d721-4f2b-a210-8d5ebc15b5df"
      },
      "outputs": [
        {
          "data": {
            "text/plain": [
              "4"
            ]
          },
          "execution_count": 62,
          "metadata": {},
          "output_type": "execute_result"
        }
      ],
      "source": [
        "ranarr.argmax()"
      ]
    },
    {
      "cell_type": "code",
      "execution_count": null,
      "metadata": {
        "id": "6X89ebK_4H2f",
        "outputId": "c5e70db1-bfc7-405e-f26f-5719d3924b50"
      },
      "outputs": [
        {
          "data": {
            "text/plain": [
              "2"
            ]
          },
          "execution_count": 63,
          "metadata": {},
          "output_type": "execute_result"
        }
      ],
      "source": [
        "ranarr.min()"
      ]
    },
    {
      "cell_type": "code",
      "execution_count": null,
      "metadata": {
        "id": "sRMwyjDY4H2f",
        "outputId": "f63b21bd-9f0b-41eb-f94f-883b891d3ea1"
      },
      "outputs": [
        {
          "data": {
            "text/plain": [
              "5"
            ]
          },
          "execution_count": 60,
          "metadata": {},
          "output_type": "execute_result"
        }
      ],
      "source": [
        "ranarr.argmin()"
      ]
    },
    {
      "cell_type": "markdown",
      "metadata": {
        "id": "3fM-7wCS4H2f"
      },
      "source": [
        "### `shape`\n",
        "\n",
        "`shape` es un atributo que tienen las matrices (no un método):"
      ]
    },
    {
      "cell_type": "code",
      "execution_count": null,
      "metadata": {
        "id": "tGFV21pD4H2f",
        "outputId": "3ce29841-d937-4723-cb6f-18f474fa6917"
      },
      "outputs": [
        {
          "data": {
            "text/plain": [
              "(25,)"
            ]
          },
          "execution_count": 65,
          "metadata": {},
          "output_type": "execute_result"
        }
      ],
      "source": [
        "# Vector\n",
        "arr.shape"
      ]
    },
    {
      "cell_type": "code",
      "execution_count": null,
      "metadata": {
        "id": "UtFSFWr94H2f",
        "outputId": "b7de0bf7-91bc-478d-8c45-dd7aabf2ac56"
      },
      "outputs": [
        {
          "data": {
            "text/plain": [
              "array([[ 0,  1,  2,  3,  4,  5,  6,  7,  8,  9, 10, 11, 12, 13, 14, 15, 16,\n",
              "        17, 18, 19, 20, 21, 22, 23, 24]])"
            ]
          },
          "execution_count": 66,
          "metadata": {},
          "output_type": "execute_result"
        }
      ],
      "source": [
        "# Notice the two sets of brackets\n",
        "arr.reshape(1,25)"
      ]
    },
    {
      "cell_type": "code",
      "execution_count": null,
      "metadata": {
        "id": "we21DHga4H2f",
        "outputId": "8ea5023d-033d-4358-fbea-d29e13c46f39"
      },
      "outputs": [
        {
          "data": {
            "text/plain": [
              "(1, 25)"
            ]
          },
          "execution_count": 69,
          "metadata": {},
          "output_type": "execute_result"
        }
      ],
      "source": [
        "arr.reshape(1,25).shape"
      ]
    },
    {
      "cell_type": "code",
      "execution_count": null,
      "metadata": {
        "id": "RAnGm4894H2f",
        "outputId": "627f95c4-04d6-4c35-9c6b-8178d021a1c6"
      },
      "outputs": [
        {
          "data": {
            "text/plain": [
              "array([[ 0],\n",
              "       [ 1],\n",
              "       [ 2],\n",
              "       [ 3],\n",
              "       [ 4],\n",
              "       [ 5],\n",
              "       [ 6],\n",
              "       [ 7],\n",
              "       [ 8],\n",
              "       [ 9],\n",
              "       [10],\n",
              "       [11],\n",
              "       [12],\n",
              "       [13],\n",
              "       [14],\n",
              "       [15],\n",
              "       [16],\n",
              "       [17],\n",
              "       [18],\n",
              "       [19],\n",
              "       [20],\n",
              "       [21],\n",
              "       [22],\n",
              "       [23],\n",
              "       [24]])"
            ]
          },
          "execution_count": 70,
          "metadata": {},
          "output_type": "execute_result"
        }
      ],
      "source": [
        "arr.reshape(25,1)"
      ]
    },
    {
      "cell_type": "code",
      "execution_count": null,
      "metadata": {
        "id": "aCDA-Oki4H2f",
        "outputId": "ca382bb5-9225-4d1d-afb7-ce4783492a24"
      },
      "outputs": [
        {
          "data": {
            "text/plain": [
              "(25, 1)"
            ]
          },
          "execution_count": 76,
          "metadata": {},
          "output_type": "execute_result"
        }
      ],
      "source": [
        "arr.reshape(25,1).shape"
      ]
    },
    {
      "cell_type": "markdown",
      "metadata": {
        "id": "JL7OQZob4H2f"
      },
      "source": [
        "### `dtype`\n",
        "\n",
        "También puede obtener el tipo de datos del objeto en la matriz:"
      ]
    },
    {
      "cell_type": "code",
      "execution_count": null,
      "metadata": {
        "id": "6C8IUgIP4H2g",
        "outputId": "54b7bedb-69a8-4f91-c514-acc57388ed2c"
      },
      "outputs": [
        {
          "data": {
            "text/plain": [
              "dtype('int64')"
            ]
          },
          "execution_count": 75,
          "metadata": {},
          "output_type": "execute_result"
        }
      ],
      "source": [
        "arr.dtype"
      ]
    },
    {
      "cell_type": "markdown",
      "source": [
        "# Indexación y selección\n",
        "\n",
        "En esta clase veremos cómo seleccionar elementos o grupos de elementos de una matriz."
      ],
      "metadata": {
        "id": "Xk0iEsOS9ZaF"
      }
    },
    {
      "cell_type": "code",
      "source": [
        "#Vamos a crear un array muy simple\n",
        "arr = np.arange(0,11)\n",
        "arr"
      ],
      "metadata": {
        "id": "CKiFnKCm9col"
      },
      "execution_count": null,
      "outputs": []
    },
    {
      "cell_type": "markdown",
      "source": [
        "## Indexación y selección de corchetes\n",
        "La forma más sencilla de seleccionar uno o varios elementos de una matriz es muy similar a las listas de Python:"
      ],
      "metadata": {
        "id": "yzCZ_Jfi9lLk"
      }
    },
    {
      "cell_type": "code",
      "source": [
        "arr[8]"
      ],
      "metadata": {
        "id": "Eyf_28ZJ9f_8"
      },
      "execution_count": null,
      "outputs": []
    },
    {
      "cell_type": "code",
      "source": [
        "\n",
        "arr[1:5]"
      ],
      "metadata": {
        "id": "J9qTOMd19o3l"
      },
      "execution_count": null,
      "outputs": []
    },
    {
      "cell_type": "markdown",
      "source": [
        "## Difusión\n",
        "\n",
        "Las matrices `numpy` se diferencian de una lista Python normal por su capacidad de difusión:"
      ],
      "metadata": {
        "id": "rNqBlLEv9tGl"
      }
    },
    {
      "cell_type": "code",
      "source": [
        "\n",
        "arr[0:5]=100\n",
        "arr\n"
      ],
      "metadata": {
        "id": "lE9tboGy9wl8"
      },
      "execution_count": null,
      "outputs": []
    },
    {
      "cell_type": "code",
      "source": [
        "arr = np.arange(0,11)\n",
        "arr"
      ],
      "metadata": {
        "id": "XMCPovs990QM"
      },
      "execution_count": null,
      "outputs": []
    },
    {
      "cell_type": "code",
      "source": [
        "slice_of_arr = arr[0:6]\n",
        "slice_of_arr"
      ],
      "metadata": {
        "id": "-wwgctoR936W"
      },
      "execution_count": null,
      "outputs": []
    },
    {
      "cell_type": "code",
      "source": [
        "slice_of_arr[:]=99\n",
        "slice_of_arr"
      ],
      "metadata": {
        "id": "y_Dx7OPR960l"
      },
      "execution_count": null,
      "outputs": []
    },
    {
      "cell_type": "markdown",
      "source": [
        "Ahora fíjate en que los cambios también se producen en nuestra matriz original."
      ],
      "metadata": {
        "id": "qaD81Kgw9_89"
      }
    },
    {
      "cell_type": "code",
      "source": [
        "arr"
      ],
      "metadata": {
        "id": "aLsHMJ-L-Ci_"
      },
      "execution_count": null,
      "outputs": []
    },
    {
      "cell_type": "markdown",
      "source": [
        "Los datos no se copian, ¡es una vista de la matriz original! Esto evita problemas de memoria."
      ],
      "metadata": {
        "id": "7mYg1hrF-HwF"
      }
    },
    {
      "cell_type": "code",
      "source": [
        "#Para obtener una copia debemos usar el método copy\n",
        "arr_copy = arr.copy()\n",
        "\n",
        "arr_copy"
      ],
      "metadata": {
        "id": "vTtxR-9p-MS1"
      },
      "execution_count": null,
      "outputs": []
    },
    {
      "cell_type": "markdown",
      "source": [
        "## Indexación de una matriz 2D (matrices)\n",
        "\n",
        "El formato general es **arr_2d[row][col]** o **arr_2d[row,col]**. Recomiendo utilizar normalmente la notación con comas para mayor claridad."
      ],
      "metadata": {
        "id": "JzbLVycH-YYN"
      }
    },
    {
      "cell_type": "code",
      "source": [
        "arr_2d = np.array(([5,10,15],[20,25,30],[35,40,45]))\n",
        "arr_2d"
      ],
      "metadata": {
        "id": "Z-JSVTFS-aR1"
      },
      "execution_count": null,
      "outputs": []
    },
    {
      "cell_type": "code",
      "source": [
        "#Obteniendo una fila\n",
        "arr_2d[1]"
      ],
      "metadata": {
        "id": "1vBv8eAV-cbm"
      },
      "execution_count": null,
      "outputs": []
    },
    {
      "cell_type": "code",
      "source": [
        "# El formato es arr_2d[fila][columna] o arr_2d[fila,columna]\n",
        "\n",
        "# Obtener el valor de un elemento individual\n",
        "arr_2d[1][0]"
      ],
      "metadata": {
        "id": "tdli9Q5m-jEN"
      },
      "execution_count": null,
      "outputs": []
    },
    {
      "cell_type": "code",
      "source": [
        "# Obtener el valor de un elemento individual\n",
        "arr_2d[1,0]"
      ],
      "metadata": {
        "id": "xkPf5aZn-l14"
      },
      "execution_count": null,
      "outputs": []
    },
    {
      "cell_type": "code",
      "source": [
        "# Segmentación de matriz 2D\n",
        "\n",
        "#Forma (2,2) desde la esquina superior derecha\n",
        "arr_2d[:2,1:]"
      ],
      "metadata": {
        "id": "jA0BhK9m-q_u"
      },
      "execution_count": null,
      "outputs": []
    },
    {
      "cell_type": "code",
      "source": [
        "#Forma fila inferior\n",
        "arr_2d[2]"
      ],
      "metadata": {
        "id": "ebcFR9zg-tEn"
      },
      "execution_count": null,
      "outputs": []
    },
    {
      "cell_type": "markdown",
      "source": [
        "## Fancy Indexing\n",
        "\n",
        "Esta forma de indexacción nos permite seleccionar filas o columnas completas fuera de orden. Para mostrarlo, creemos rápidamente una matriz numpy:"
      ],
      "metadata": {
        "id": "vQrHlCwE-5E_"
      }
    },
    {
      "cell_type": "code",
      "source": [
        "arr2d = np.zeros((10,10))\n",
        "arr_length = arr2d.shape[1]\n",
        "\n",
        "for i in range(arr_length):\n",
        "    arr2d[i] = i\n",
        "\n",
        "arr2d"
      ],
      "metadata": {
        "id": "q20eu6ws_AhX"
      },
      "execution_count": null,
      "outputs": []
    },
    {
      "cell_type": "markdown",
      "source": [
        "Usando *fancy indexing* podemos hacer lo siguiente:"
      ],
      "metadata": {
        "id": "wu9cpaHI_NCn"
      }
    },
    {
      "cell_type": "code",
      "source": [
        "arr2d[[2,4,6,8]]"
      ],
      "metadata": {
        "id": "s1omkE_E_H9w"
      },
      "execution_count": null,
      "outputs": []
    },
    {
      "cell_type": "code",
      "source": [
        "arr2d[[6,4,2,7]]"
      ],
      "metadata": {
        "id": "zdWfYhgn_CfJ"
      },
      "execution_count": null,
      "outputs": []
    },
    {
      "cell_type": "markdown",
      "source": [
        "## Selección\n",
        "\n",
        "Repasemos brevemente cómo utilizar los corchetes para la selección basada en operadores de comparación."
      ],
      "metadata": {
        "id": "iDMxEOA3_yKR"
      }
    },
    {
      "cell_type": "code",
      "source": [
        "arr = np.arange(1,11)\n",
        "arr"
      ],
      "metadata": {
        "id": "o2WR-RxP_zfY"
      },
      "execution_count": null,
      "outputs": []
    },
    {
      "cell_type": "code",
      "source": [
        "arr > 4"
      ],
      "metadata": {
        "id": "g6IkS0gv_0t6"
      },
      "execution_count": null,
      "outputs": []
    },
    {
      "cell_type": "code",
      "source": [
        "bool_arr = arr>4\n",
        "bool_arr"
      ],
      "metadata": {
        "id": "50m7l7ic_12i"
      },
      "execution_count": null,
      "outputs": []
    },
    {
      "cell_type": "code",
      "source": [
        "arr[bool_arr]"
      ],
      "metadata": {
        "id": "jFdO5yg8_4lw"
      },
      "execution_count": null,
      "outputs": []
    },
    {
      "cell_type": "code",
      "source": [
        "arr[arr>2]"
      ],
      "metadata": {
        "id": "fVBidjXT_5rQ"
      },
      "execution_count": null,
      "outputs": []
    },
    {
      "cell_type": "code",
      "source": [
        "x = 2\n",
        "arr[arr>x]"
      ],
      "metadata": {
        "id": "HXbzF3HM_6sw"
      },
      "execution_count": null,
      "outputs": []
    },
    {
      "cell_type": "markdown",
      "source": [
        "# Operaciones\n",
        "\n"
      ],
      "metadata": {
        "id": "Umxe4ydF__Dq"
      }
    },
    {
      "cell_type": "markdown",
      "source": [
        "## Aritméticas\n",
        "\n",
        "Puedes realizar fácilmente operaciones aritméticas con matrices o con escalares. Veamos algunos ejemplos:"
      ],
      "metadata": {
        "id": "GToQCalnAaFq"
      }
    },
    {
      "cell_type": "code",
      "source": [
        "arr = np.arange(0,10)\n",
        "arr + arr"
      ],
      "metadata": {
        "id": "Y-CGzCKgAcj0"
      },
      "execution_count": null,
      "outputs": []
    },
    {
      "cell_type": "code",
      "source": [
        "arr * arr"
      ],
      "metadata": {
        "id": "CBwB13gRAfka"
      },
      "execution_count": null,
      "outputs": []
    },
    {
      "cell_type": "code",
      "source": [
        "arr - arr"
      ],
      "metadata": {
        "id": "3CvqZY3yAgjB"
      },
      "execution_count": null,
      "outputs": []
    },
    {
      "cell_type": "code",
      "source": [
        "# Obtenemos un warning sobre división por cero\n",
        "\n",
        "arr/arr"
      ],
      "metadata": {
        "id": "XExBy7r2Amq7"
      },
      "execution_count": null,
      "outputs": []
    },
    {
      "cell_type": "code",
      "source": [
        "# También obtenemos un warning\n",
        "1/arr"
      ],
      "metadata": {
        "id": "jB-JIXd0Apl0"
      },
      "execution_count": null,
      "outputs": []
    },
    {
      "cell_type": "code",
      "source": [
        "arr**3"
      ],
      "metadata": {
        "id": "MrjyTfbzAvf6"
      },
      "execution_count": null,
      "outputs": []
    },
    {
      "cell_type": "markdown",
      "source": [
        "## Funciones universales de matrices\n",
        "\n",
        "Numpy incluye muchas [funciones universales de matrices](http://docs.scipy.org/doc/numpy/reference/ufuncs.html), que son básicamente operaciones matemáticas que se pueden utilizar para realizar operaciones en toda la matriz. Veamos algunas de las más comunes:"
      ],
      "metadata": {
        "id": "5xuj-N7JAzjs"
      }
    },
    {
      "cell_type": "code",
      "source": [
        "# Raíz cuadrada\n",
        "np.sqrt(arr)"
      ],
      "metadata": {
        "id": "0SblkZLxA5JD"
      },
      "execution_count": null,
      "outputs": []
    },
    {
      "cell_type": "code",
      "source": [
        "#Cálculo exponencial (e^)\n",
        "np.exp(arr)"
      ],
      "metadata": {
        "id": "GSguD9lMA9fL"
      },
      "execution_count": null,
      "outputs": []
    },
    {
      "cell_type": "code",
      "source": [
        "np.max(arr) #igual que arr.max()"
      ],
      "metadata": {
        "id": "QarNvknRA_HU"
      },
      "execution_count": null,
      "outputs": []
    },
    {
      "cell_type": "code",
      "source": [
        "np.sin(arr)"
      ],
      "metadata": {
        "id": "YB9OEkeXBBeT"
      },
      "execution_count": null,
      "outputs": []
    },
    {
      "cell_type": "markdown",
      "source": [
        "# Ejercicios\n",
        "\n",
        "Vamos ahora a dedicar algo de tiempo a intentar realizar una serie de ejercicios para asentar todo lo que hemos visto de la librearía `numpy`"
      ],
      "metadata": {
        "id": "_3iVWOFxCsJ3"
      }
    },
    {
      "cell_type": "markdown",
      "source": [
        "#### Importa NumPy como np\n"
      ],
      "metadata": {
        "id": "WA38lZlcIE10"
      }
    },
    {
      "cell_type": "code",
      "source": [],
      "metadata": {
        "id": "Zb85RYqJC3BF"
      },
      "execution_count": null,
      "outputs": []
    },
    {
      "cell_type": "markdown",
      "source": [
        "#### Crea un array de 10 unos\n"
      ],
      "metadata": {
        "id": "K-PDnO1SILI5"
      }
    },
    {
      "cell_type": "code",
      "source": [],
      "metadata": {
        "id": "XL6GCa3CIoww"
      },
      "execution_count": null,
      "outputs": []
    },
    {
      "cell_type": "markdown",
      "source": [
        "#### Crea un array de 10 cincos\n"
      ],
      "metadata": {
        "id": "lNrTPzn5IMwx"
      }
    },
    {
      "cell_type": "code",
      "source": [],
      "metadata": {
        "id": "nk2dNauiIpOx"
      },
      "execution_count": null,
      "outputs": []
    },
    {
      "cell_type": "markdown",
      "source": [
        "#### Crea un array con los enteros del 10 al 50\n"
      ],
      "metadata": {
        "id": "01c3UtdvIOD1"
      }
    },
    {
      "cell_type": "code",
      "source": [],
      "metadata": {
        "id": "1MEncsKCIpzS"
      },
      "execution_count": null,
      "outputs": []
    },
    {
      "cell_type": "markdown",
      "source": [
        "#### Crea un array con todos los números pares del 10 al 50\n"
      ],
      "metadata": {
        "id": "tXqXKYv6IPtL"
      }
    },
    {
      "cell_type": "code",
      "source": [],
      "metadata": {
        "id": "s7IWsPbRIqpP"
      },
      "execution_count": null,
      "outputs": []
    },
    {
      "cell_type": "markdown",
      "source": [
        "#### Crea una matriz 3x3 con valores del 0 al 8\n"
      ],
      "metadata": {
        "id": "8Tjh6Bg1IR38"
      }
    },
    {
      "cell_type": "code",
      "source": [],
      "metadata": {
        "id": "1aXwatndIrQd"
      },
      "execution_count": null,
      "outputs": []
    },
    {
      "cell_type": "markdown",
      "source": [
        "#### Crea una matriz identidad 3x3\n"
      ],
      "metadata": {
        "id": "NSqK58hzIWAj"
      }
    },
    {
      "cell_type": "code",
      "source": [],
      "metadata": {
        "id": "p8j8BpOAIUQU"
      },
      "execution_count": null,
      "outputs": []
    },
    {
      "cell_type": "markdown",
      "source": [
        "#### Usa NumPy para generar un número aleatorio entre 0 y 1\n"
      ],
      "metadata": {
        "id": "K0AXWNZIIW9F"
      }
    },
    {
      "cell_type": "code",
      "source": [],
      "metadata": {
        "id": "wU9FfXlMIrxX"
      },
      "execution_count": null,
      "outputs": []
    },
    {
      "cell_type": "markdown",
      "source": [
        "#### Usa `numpy` para generar un array de 25 números aleatorios sacados de una distribución normal estándar\n"
      ],
      "metadata": {
        "id": "DKUCnVPEIX-U"
      }
    },
    {
      "cell_type": "code",
      "source": [],
      "metadata": {
        "id": "H9iGF_DnIsxV"
      },
      "execution_count": null,
      "outputs": []
    },
    {
      "cell_type": "markdown",
      "source": [
        "#### Crea un array de 20 puntos espaciados linealmente entre 0 y 1\n"
      ],
      "metadata": {
        "id": "OW1apk4BIcNX"
      }
    },
    {
      "cell_type": "code",
      "source": [],
      "metadata": {
        "id": "XMKIGR_HIta0"
      },
      "execution_count": null,
      "outputs": []
    },
    {
      "cell_type": "markdown",
      "source": [
        "## Indexación y selección en NumPy\n",
        "\n",
        "Ahora se te darán algunas matrices y tendrás que replicar los resultados que se muestran:\n"
      ],
      "metadata": {
        "id": "HIw9eI8qIfkh"
      }
    },
    {
      "cell_type": "code",
      "source": [
        "mat = np.arange(1,26).reshape(5,5)\n",
        "mat"
      ],
      "metadata": {
        "id": "m6_JZjN6Iu0d"
      },
      "execution_count": null,
      "outputs": []
    },
    {
      "cell_type": "markdown",
      "source": [
        "### Ahora haz lo siguiente\n"
      ],
      "metadata": {
        "id": "oaxyx64UIh4o"
      }
    },
    {
      "cell_type": "code",
      "source": [
        "#ESCRIBE AQUÍ EL CÓDIGO QUE REPRODUCE EL RESULTADO DE LA CELDA DE ABAJO.\n"
      ],
      "metadata": {
        "id": "2ejE-Q5wIvnb"
      },
      "execution_count": null,
      "outputs": []
    },
    {
      "cell_type": "markdown",
      "source": [
        "array([[12, 13, 14, 15],\n",
        "       [17, 18, 19, 20],\n",
        "       [22, 23, 24, 25]])"
      ],
      "metadata": {
        "id": "1tsBYnAhKcSX"
      }
    },
    {
      "cell_type": "code",
      "source": [
        "#ESCRIBE AQUÍ EL CÓDIGO QUE REPRODUCE EL RESULTADO DE LA CELDA DE ABAJO.\n"
      ],
      "metadata": {
        "id": "ZlWUM8D2Kts9"
      },
      "execution_count": null,
      "outputs": []
    },
    {
      "cell_type": "markdown",
      "source": [
        "20"
      ],
      "metadata": {
        "id": "J_9J38FRKrL8"
      }
    },
    {
      "cell_type": "code",
      "source": [
        "#ESCRIBE AQUÍ EL CÓDIGO QUE REPRODUCE EL RESULTADO DE LA CELDA DE ABAJO.\n"
      ],
      "metadata": {
        "id": "NFx0DwKfKq_l"
      },
      "execution_count": null,
      "outputs": []
    },
    {
      "cell_type": "markdown",
      "source": [
        "array([[ 2],\n",
        "       [ 7],\n",
        "       [12]])"
      ],
      "metadata": {
        "id": "30UdstXXKySx"
      }
    },
    {
      "cell_type": "code",
      "source": [
        "#ESCRIBE AQUÍ EL CÓDIGO QUE REPRODUCE EL RESULTADO DE LA CELDA DE ABAJO.\n"
      ],
      "metadata": {
        "id": "Gw55xT1yK24r"
      },
      "execution_count": null,
      "outputs": []
    },
    {
      "cell_type": "markdown",
      "source": [
        "array([21, 22, 23, 24, 25])\n"
      ],
      "metadata": {
        "id": "n3m0ZIK2K54q"
      }
    },
    {
      "cell_type": "code",
      "source": [
        "#ESCRIBE AQUÍ EL CÓDIGO QUE REPRODUCE EL RESULTADO DE LA CELDA DE ABAJO.\n"
      ],
      "metadata": {
        "id": "Me5fq5JhLBWR"
      },
      "execution_count": null,
      "outputs": []
    },
    {
      "cell_type": "markdown",
      "source": [
        "array([[16, 17, 18, 19, 20],\n",
        "       [21, 22, 23, 24, 25]])"
      ],
      "metadata": {
        "id": "zmfLp6lbLB0x"
      }
    },
    {
      "cell_type": "markdown",
      "source": [
        "#### Saca la suma de todos los valores en `mat`\n"
      ],
      "metadata": {
        "id": "8qgA7_DjIi7h"
      }
    },
    {
      "cell_type": "code",
      "source": [],
      "metadata": {
        "id": "Sp4hZTxSIwEE"
      },
      "execution_count": null,
      "outputs": []
    },
    {
      "cell_type": "markdown",
      "source": [
        "#### Calcula la desviación estándar de los valores en `mat`\n"
      ],
      "metadata": {
        "id": "o3Y0t-BrIkTI"
      }
    },
    {
      "cell_type": "code",
      "source": [],
      "metadata": {
        "id": "ataGX9ZdIw4V"
      },
      "execution_count": null,
      "outputs": []
    },
    {
      "cell_type": "markdown",
      "source": [
        "#### Saca la suma de todas las columnas en `mat`\n"
      ],
      "metadata": {
        "id": "8UoQyZkTIlep"
      }
    },
    {
      "cell_type": "code",
      "source": [],
      "metadata": {
        "id": "Ry2WWtxOIxm0"
      },
      "execution_count": null,
      "outputs": []
    },
    {
      "cell_type": "markdown",
      "source": [
        "¡Eso es todo amigos!"
      ],
      "metadata": {
        "id": "VZLzKJedIyD8"
      }
    }
  ],
  "metadata": {
    "kernelspec": {
      "display_name": "Python 3",
      "language": "python",
      "name": "python3"
    },
    "language_info": {
      "codemirror_mode": {
        "name": "ipython",
        "version": 3
      },
      "file_extension": ".py",
      "mimetype": "text/x-python",
      "name": "python",
      "nbconvert_exporter": "python",
      "pygments_lexer": "ipython3",
      "version": "3.6.3"
    },
    "colab": {
      "provenance": [],
      "toc_visible": true
    }
  },
  "nbformat": 4,
  "nbformat_minor": 0
}