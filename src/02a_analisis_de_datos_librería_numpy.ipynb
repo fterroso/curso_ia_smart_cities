{
  "cells": [
    {
      "cell_type": "markdown",
      "metadata": {
        "id": "HNyy0PGO4H2V"
      },
      "source": [
        "# Introduccion a la librería NumPy\n",
        "\n",
        "`numpy` es una biblioteca de álgebra lineal para Python. La razón por la que es tan importante para la ciencia de datos con Python es que casi todas las bibliotecas del ecosistema PyData se basan en `numpy` como uno de sus principales componentes básicos.\n",
        "\n",
        "Numpy también es increíblemente rápido, ya que tiene enlaces a bibliotecas C. Para obtener más información sobre por qué es mejor utilizar matrices en lugar de listas, echa un vistazo a esta excelente [publicación de StackOverflow](http://stackoverflow.com/questions/993984/why-numpy-instead-of-python-lists).\n",
        "\n"
      ]
    },
    {
      "cell_type": "markdown",
      "metadata": {
        "id": "hmwnCU_24H2V"
      },
      "source": [
        "## Instrucciones de instalación\n",
        "\n",
        "Si vas a usar esta librería en local, se recomienda encarecidamente instalar Python utilizando la distribución Anaconda para asegurarse de que todas las dependencias subyacentes (como las bibliotecas de álgebra lineal) se sincronizan con el uso de una instalación conda.\n",
        "    \n",
        "    conda install numpy\n",
        "    \n"
      ]
    },
    {
      "cell_type": "markdown",
      "metadata": {
        "id": "O9kr3ggD4H2V"
      },
      "source": [
        "## Uso de `numpy`\n",
        "\n",
        "Una vez instalado, ya podemos importarlo en nuestro código:"
      ]
    },
    {
      "cell_type": "code",
      "execution_count": null,
      "metadata": {
        "collapsed": true,
        "id": "H3ksImxp4H2W"
      },
      "outputs": [],
      "source": [
        "import numpy as np"
      ]
    },
    {
      "cell_type": "markdown",
      "metadata": {
        "id": "9dIHBDjw4H2W"
      },
      "source": [
        "`numpy` tiene muchas funciones y capacidades integradas. No las cubriremos todas en este taller, sino que nos centraremos en algunos de sus aspectos más importantes: vectores, matrices y generación de números. Comencemos hablando de las matrices.\n",
        "\n",
        "# Matrices `numpy`\n",
        "\n",
        "Las matrices `numpy` son la forma principal en que utilizaremos `numpy` a lo largo del taller. Las matrices `numpy` se dividen básicamente en dos tipos: vectores y matrices.\n",
        "\n",
        "- Los vectores son matrices estrictamente unidimensionales y\n",
        "- las matrices son bidimensionales (pero hay que tener en cuenta que una matriz puede tener solo una fila o una columna).\n",
        "\n",
        "## Creación de matrices `numpy`\n",
        "\n",
        "### A partir de una lista Python\n",
        "\n",
        "Podemos crear una matriz convirtiendo directamente una lista o una lista de listas:"
      ]
    },
    {
      "cell_type": "code",
      "execution_count": null,
      "metadata": {
        "id": "f5o8rWu34H2X"
      },
      "outputs": [],
      "source": [
        "my_list = [1,2,3]\n",
        "my_list"
      ]
    },
    {
      "cell_type": "code",
      "execution_count": null,
      "metadata": {
        "id": "IDwjnvPN4H2X"
      },
      "outputs": [],
      "source": [
        "np.array(my_list)"
      ]
    },
    {
      "cell_type": "code",
      "execution_count": null,
      "metadata": {
        "id": "22zlImC34H2X"
      },
      "outputs": [],
      "source": [
        "my_matrix = [[1,2,3],[4,5,6],[7,8,9]]\n",
        "my_matrix"
      ]
    },
    {
      "cell_type": "code",
      "execution_count": null,
      "metadata": {
        "id": "J7XKVEMo4H2Y"
      },
      "outputs": [],
      "source": [
        "np.array(my_matrix)"
      ]
    },
    {
      "cell_type": "markdown",
      "metadata": {
        "id": "-t-wPKZn4H2Y"
      },
      "source": [
        "## Built-in Methods\n",
        "\n",
        "`numpy` contiene una gran cantidad de métodos propios para generar listas con un determinado contenido."
      ]
    },
    {
      "cell_type": "markdown",
      "metadata": {
        "id": "8Cd_0ufa4H2Y"
      },
      "source": [
        "### arange\n",
        "\n",
        "Devuelve valores espaciados uniformemente dentro de un intervalo dado."
      ]
    },
    {
      "cell_type": "code",
      "execution_count": null,
      "metadata": {
        "id": "BIY9vP2d4H2Y"
      },
      "outputs": [],
      "source": [
        "np.arange(0,10)"
      ]
    },
    {
      "cell_type": "code",
      "execution_count": null,
      "metadata": {
        "id": "GkgrdrST4H2Y"
      },
      "outputs": [],
      "source": [
        "np.arange(0,11,2)"
      ]
    },
    {
      "cell_type": "markdown",
      "metadata": {
        "id": "zMZh6c6M4H2Y"
      },
      "source": [
        "### `zeros` y `ones`\n",
        "Generar matrices de ceros o unos"
      ]
    },
    {
      "cell_type": "code",
      "execution_count": null,
      "metadata": {
        "id": "hPFjNWm04H2Z"
      },
      "outputs": [],
      "source": [
        "np.zeros(3)"
      ]
    },
    {
      "cell_type": "code",
      "execution_count": null,
      "metadata": {
        "id": "7z6Y-Dzn4H2Z"
      },
      "outputs": [],
      "source": [
        "np.zeros((5,5))"
      ]
    },
    {
      "cell_type": "code",
      "execution_count": null,
      "metadata": {
        "id": "qXEujpM74H2Z"
      },
      "outputs": [],
      "source": [
        "np.ones(3)"
      ]
    },
    {
      "cell_type": "code",
      "execution_count": null,
      "metadata": {
        "id": "kniEV_0R4H2Z"
      },
      "outputs": [],
      "source": [
        "np.ones((3,3))"
      ]
    },
    {
      "cell_type": "markdown",
      "metadata": {
        "id": "5tC_3EW84H2Z"
      },
      "source": [
        "### `linspace`\n",
        "Devuelve números espaciados uniformemente en un intervalo especificado."
      ]
    },
    {
      "cell_type": "code",
      "execution_count": null,
      "metadata": {
        "id": "4OCltIaJ4H2Z"
      },
      "outputs": [],
      "source": [
        "np.linspace(0,10,3)"
      ]
    },
    {
      "cell_type": "code",
      "execution_count": null,
      "metadata": {
        "id": "FmLNoTKM4H2Z"
      },
      "outputs": [],
      "source": [
        "np.linspace(0,10,50)"
      ]
    },
    {
      "cell_type": "markdown",
      "metadata": {
        "id": "qTn8SbxK4H2Z"
      },
      "source": [
        "### `eye`\n",
        "\n",
        "Crea una matriz identidad."
      ]
    },
    {
      "cell_type": "code",
      "execution_count": null,
      "metadata": {
        "id": "t18mI4kD4H2Z"
      },
      "outputs": [],
      "source": [
        "np.eye(4)"
      ]
    },
    {
      "cell_type": "markdown",
      "metadata": {
        "id": "wqdUnRjI4H2a"
      },
      "source": [
        "## Generación aletatoria\n",
        "\n",
        "`numpy` también ofrece muchas formas de crear matrices de números aleatorios:\n",
        "\n",
        "### `rand`\n",
        "Crea una matriz con la forma dada y la rellena con\n",
        "muestras aleatorias de una distribución uniforme\n",
        "entre ``[0, 1)``."
      ]
    },
    {
      "cell_type": "code",
      "execution_count": null,
      "metadata": {
        "id": "ZNYlYBlN4H2a"
      },
      "outputs": [],
      "source": [
        "np.random.rand(2)"
      ]
    },
    {
      "cell_type": "code",
      "execution_count": null,
      "metadata": {
        "id": "dTBYg76N4H2a"
      },
      "outputs": [],
      "source": [
        "np.random.rand(5,5)"
      ]
    },
    {
      "cell_type": "markdown",
      "metadata": {
        "id": "yYeWkpj94H2a"
      },
      "source": [
        "### `randn`\n",
        "\n",
        "Devuelve una muestra (o muestras) de la distribución *normal estándar*. A diferencia de rand, que es uniforme:"
      ]
    },
    {
      "cell_type": "code",
      "execution_count": null,
      "metadata": {
        "id": "KEXnEW344H2a"
      },
      "outputs": [],
      "source": [
        "np.random.randn(2)"
      ]
    },
    {
      "cell_type": "code",
      "execution_count": null,
      "metadata": {
        "id": "zhLTkgIv4H2a"
      },
      "outputs": [],
      "source": [
        "np.random.randn(5,5)"
      ]
    },
    {
      "cell_type": "markdown",
      "metadata": {
        "id": "rbhigyhH4H2a"
      },
      "source": [
        "### `randint`\n",
        "Devuelve números enteros aleatorios entre `low` (incluido) y `high` (excluido)."
      ]
    },
    {
      "cell_type": "code",
      "execution_count": null,
      "metadata": {
        "id": "9G6MhFvV4H2a"
      },
      "outputs": [],
      "source": [
        "np.random.randint(1,100)"
      ]
    },
    {
      "cell_type": "code",
      "execution_count": null,
      "metadata": {
        "id": "8Y8-iXud4H2a"
      },
      "outputs": [],
      "source": [
        "np.random.randint(1,100,10)"
      ]
    },
    {
      "cell_type": "markdown",
      "metadata": {
        "id": "YKOnGC7X4H2a"
      },
      "source": [
        "## Atributos y métodos de las matrices\n",
        "\n",
        "Veamos algunos atributos y métodos útiles de las matrices:"
      ]
    },
    {
      "cell_type": "code",
      "execution_count": null,
      "metadata": {
        "collapsed": true,
        "id": "4JSSHMmY4H2a"
      },
      "outputs": [],
      "source": [
        "arr = np.arange(25)\n",
        "ranarr = np.random.randint(0,50,10)"
      ]
    },
    {
      "cell_type": "code",
      "execution_count": null,
      "metadata": {
        "id": "4WaeLz2Z4H2a"
      },
      "outputs": [],
      "source": [
        "arr"
      ]
    },
    {
      "cell_type": "code",
      "execution_count": null,
      "metadata": {
        "id": "5M9KzkD24H2b"
      },
      "outputs": [],
      "source": [
        "ranarr"
      ]
    },
    {
      "cell_type": "markdown",
      "metadata": {
        "id": "HYLRc1hr4H2e"
      },
      "source": [
        "### `max,min,argmax,argmin`\n",
        "\n",
        "Estos son métodos útiles para encontrar valores máximos o mínimos. O para encontrar sus ubicaciones de índice utilizando argmin o argmax."
      ]
    },
    {
      "cell_type": "code",
      "execution_count": null,
      "metadata": {
        "id": "zocpIF1b4H2f"
      },
      "outputs": [],
      "source": [
        "ranarr"
      ]
    },
    {
      "cell_type": "code",
      "execution_count": null,
      "metadata": {
        "id": "qCRqAUvV4H2f"
      },
      "outputs": [],
      "source": [
        "ranarr.max()"
      ]
    },
    {
      "cell_type": "code",
      "execution_count": null,
      "metadata": {
        "id": "7FlfZIs-4H2f"
      },
      "outputs": [],
      "source": [
        "ranarr.argmax()"
      ]
    },
    {
      "cell_type": "code",
      "execution_count": null,
      "metadata": {
        "id": "6X89ebK_4H2f"
      },
      "outputs": [],
      "source": [
        "ranarr.min()"
      ]
    },
    {
      "cell_type": "code",
      "execution_count": null,
      "metadata": {
        "id": "sRMwyjDY4H2f"
      },
      "outputs": [],
      "source": [
        "ranarr.argmin()"
      ]
    },
    {
      "cell_type": "markdown",
      "metadata": {
        "id": "3fM-7wCS4H2f"
      },
      "source": [
        "### `shape` y `reshape`\n",
        "\n",
        "`shape` es un atributo que tienen las matrices (no un método) y `reshape` devuelve una matriz que contiene los mismos datos con una nueva forma."
      ]
    },
    {
      "cell_type": "code",
      "execution_count": null,
      "metadata": {
        "id": "tGFV21pD4H2f"
      },
      "outputs": [],
      "source": [
        "# Vector\n",
        "arr.shape"
      ]
    },
    {
      "cell_type": "code",
      "execution_count": null,
      "metadata": {
        "id": "UtFSFWr94H2f"
      },
      "outputs": [],
      "source": [
        "# Notice the two sets of brackets\n",
        "arr.reshape(1,25)"
      ]
    },
    {
      "cell_type": "code",
      "execution_count": null,
      "metadata": {
        "id": "we21DHga4H2f"
      },
      "outputs": [],
      "source": [
        "arr.reshape(1,25).shape"
      ]
    },
    {
      "cell_type": "code",
      "execution_count": null,
      "metadata": {
        "id": "RAnGm4894H2f"
      },
      "outputs": [],
      "source": [
        "arr.reshape(25,1)"
      ]
    },
    {
      "cell_type": "code",
      "execution_count": null,
      "metadata": {
        "id": "aCDA-Oki4H2f"
      },
      "outputs": [],
      "source": [
        "arr.reshape(25,1).shape"
      ]
    },
    {
      "cell_type": "markdown",
      "metadata": {
        "id": "JL7OQZob4H2f"
      },
      "source": [
        "### `dtype`\n",
        "\n",
        "También puede obtener el tipo de datos del objeto en la matriz:"
      ]
    },
    {
      "cell_type": "code",
      "execution_count": null,
      "metadata": {
        "id": "6C8IUgIP4H2g"
      },
      "outputs": [],
      "source": [
        "arr.dtype"
      ]
    },
    {
      "cell_type": "markdown",
      "source": [
        "# Indexación y selección\n",
        "\n",
        "En esta clase veremos cómo seleccionar elementos o grupos de elementos de una matriz."
      ],
      "metadata": {
        "id": "Xk0iEsOS9ZaF"
      }
    },
    {
      "cell_type": "code",
      "source": [
        "#Vamos a crear un array muy simple\n",
        "arr = np.arange(0,11)\n",
        "arr"
      ],
      "metadata": {
        "id": "CKiFnKCm9col"
      },
      "execution_count": null,
      "outputs": []
    },
    {
      "cell_type": "markdown",
      "source": [
        "## Indexación y selección de corchetes\n",
        "La forma más sencilla de seleccionar uno o varios elementos de una matriz es muy similar a las listas de Python:"
      ],
      "metadata": {
        "id": "yzCZ_Jfi9lLk"
      }
    },
    {
      "cell_type": "code",
      "source": [
        "arr[8]"
      ],
      "metadata": {
        "id": "Eyf_28ZJ9f_8"
      },
      "execution_count": null,
      "outputs": []
    },
    {
      "cell_type": "code",
      "source": [
        "\n",
        "arr[1:5]"
      ],
      "metadata": {
        "id": "J9qTOMd19o3l"
      },
      "execution_count": null,
      "outputs": []
    },
    {
      "cell_type": "markdown",
      "source": [
        "## Difusión\n",
        "\n",
        "Las matrices `numpy` se diferencian de una lista Python normal por su capacidad de difusión:"
      ],
      "metadata": {
        "id": "rNqBlLEv9tGl"
      }
    },
    {
      "cell_type": "code",
      "source": [
        "arr[0:5]=100\n",
        "arr"
      ],
      "metadata": {
        "id": "lE9tboGy9wl8"
      },
      "execution_count": null,
      "outputs": []
    },
    {
      "cell_type": "code",
      "source": [
        "arr = np.arange(0,11)\n",
        "arr"
      ],
      "metadata": {
        "id": "XMCPovs990QM"
      },
      "execution_count": null,
      "outputs": []
    },
    {
      "cell_type": "code",
      "source": [
        "slice_of_arr = arr[0:6]\n",
        "slice_of_arr"
      ],
      "metadata": {
        "id": "-wwgctoR936W"
      },
      "execution_count": null,
      "outputs": []
    },
    {
      "cell_type": "code",
      "source": [
        "slice_of_arr[:]=99\n",
        "slice_of_arr"
      ],
      "metadata": {
        "id": "y_Dx7OPR960l"
      },
      "execution_count": null,
      "outputs": []
    },
    {
      "cell_type": "markdown",
      "source": [
        "Ahora fíjate en que los cambios también se producen en nuestra matriz original."
      ],
      "metadata": {
        "id": "qaD81Kgw9_89"
      }
    },
    {
      "cell_type": "code",
      "source": [
        "arr"
      ],
      "metadata": {
        "id": "aLsHMJ-L-Ci_"
      },
      "execution_count": null,
      "outputs": []
    },
    {
      "cell_type": "markdown",
      "source": [
        "Los datos no se copian, ¡es una vista de la matriz original! Esto evita problemas de memoria."
      ],
      "metadata": {
        "id": "7mYg1hrF-HwF"
      }
    },
    {
      "cell_type": "code",
      "source": [
        "#Para obtener una copia debemos usar el método copy\n",
        "arr_copy = arr.copy()\n",
        "\n",
        "arr_copy"
      ],
      "metadata": {
        "id": "vTtxR-9p-MS1"
      },
      "execution_count": null,
      "outputs": []
    },
    {
      "cell_type": "markdown",
      "source": [
        "## Indexación de una matriz 2D\n",
        "\n",
        "El formato general es `arr_2d[row][col]` o `arr_2d[row,col]`. Recomiendo utilizar normalmente la notación con comas para mayor claridad."
      ],
      "metadata": {
        "id": "JzbLVycH-YYN"
      }
    },
    {
      "cell_type": "code",
      "source": [
        "arr_2d = np.array(([5,10,15],[20,25,30],[35,40,45]))\n",
        "arr_2d"
      ],
      "metadata": {
        "id": "Z-JSVTFS-aR1"
      },
      "execution_count": null,
      "outputs": []
    },
    {
      "cell_type": "code",
      "source": [
        "#Obteniendo una fila\n",
        "arr_2d[1]"
      ],
      "metadata": {
        "id": "1vBv8eAV-cbm"
      },
      "execution_count": null,
      "outputs": []
    },
    {
      "cell_type": "code",
      "source": [
        "# El formato es arr_2d[fila][columna] o arr_2d[fila,columna]\n",
        "\n",
        "# Obtener el valor de un elemento individual\n",
        "arr_2d[1][0]"
      ],
      "metadata": {
        "id": "tdli9Q5m-jEN"
      },
      "execution_count": null,
      "outputs": []
    },
    {
      "cell_type": "code",
      "source": [
        "# Obtener el valor de un elemento individual\n",
        "arr_2d[1,0]"
      ],
      "metadata": {
        "id": "xkPf5aZn-l14"
      },
      "execution_count": null,
      "outputs": []
    },
    {
      "cell_type": "code",
      "source": [
        "# Segmentación de matriz 2D\n",
        "\n",
        "#Forma (2,2) desde la esquina superior derecha\n",
        "arr_2d[:2,1:]"
      ],
      "metadata": {
        "id": "jA0BhK9m-q_u"
      },
      "execution_count": null,
      "outputs": []
    },
    {
      "cell_type": "code",
      "source": [
        "#Forma fila inferior\n",
        "arr_2d[2]"
      ],
      "metadata": {
        "id": "ebcFR9zg-tEn"
      },
      "execution_count": null,
      "outputs": []
    },
    {
      "cell_type": "markdown",
      "source": [
        "## Fancy Indexing\n",
        "\n",
        "Esta forma de indexacción nos permite seleccionar filas o columnas completas fuera de orden. Para mostrarlo, creemos rápidamente una matriz numpy:"
      ],
      "metadata": {
        "id": "vQrHlCwE-5E_"
      }
    },
    {
      "cell_type": "code",
      "source": [
        "arr2d = np.zeros((10,10))\n",
        "arr_length = arr2d.shape[1]\n",
        "\n",
        "for i in range(arr_length):\n",
        "    arr2d[i] = i\n",
        "\n",
        "arr2d"
      ],
      "metadata": {
        "id": "q20eu6ws_AhX"
      },
      "execution_count": null,
      "outputs": []
    },
    {
      "cell_type": "markdown",
      "source": [
        "Usando *fancy indexing* podemos hacer lo siguiente:"
      ],
      "metadata": {
        "id": "wu9cpaHI_NCn"
      }
    },
    {
      "cell_type": "code",
      "source": [
        "arr2d[[2,4,6,8]]"
      ],
      "metadata": {
        "id": "s1omkE_E_H9w"
      },
      "execution_count": null,
      "outputs": []
    },
    {
      "cell_type": "code",
      "source": [
        "arr2d[[6,4,2,7]]"
      ],
      "metadata": {
        "id": "zdWfYhgn_CfJ"
      },
      "execution_count": null,
      "outputs": []
    },
    {
      "cell_type": "markdown",
      "source": [
        "## Selección\n",
        "\n",
        "Repasemos brevemente cómo utilizar los corchetes para la selección basada en operadores de comparación."
      ],
      "metadata": {
        "id": "iDMxEOA3_yKR"
      }
    },
    {
      "cell_type": "code",
      "source": [
        "arr = np.arange(1,11)\n",
        "arr"
      ],
      "metadata": {
        "id": "o2WR-RxP_zfY"
      },
      "execution_count": null,
      "outputs": []
    },
    {
      "cell_type": "code",
      "source": [
        "arr > 4"
      ],
      "metadata": {
        "id": "g6IkS0gv_0t6"
      },
      "execution_count": null,
      "outputs": []
    },
    {
      "cell_type": "code",
      "source": [
        "bool_arr = arr>4\n",
        "bool_arr"
      ],
      "metadata": {
        "id": "50m7l7ic_12i"
      },
      "execution_count": null,
      "outputs": []
    },
    {
      "cell_type": "code",
      "source": [
        "arr[bool_arr]"
      ],
      "metadata": {
        "id": "jFdO5yg8_4lw"
      },
      "execution_count": null,
      "outputs": []
    },
    {
      "cell_type": "code",
      "source": [
        "arr[arr>2]"
      ],
      "metadata": {
        "id": "fVBidjXT_5rQ"
      },
      "execution_count": null,
      "outputs": []
    },
    {
      "cell_type": "code",
      "source": [
        "x = 2\n",
        "arr[arr>x]"
      ],
      "metadata": {
        "id": "HXbzF3HM_6sw"
      },
      "execution_count": null,
      "outputs": []
    },
    {
      "cell_type": "markdown",
      "source": [
        "# Operaciones\n",
        "\n"
      ],
      "metadata": {
        "id": "Umxe4ydF__Dq"
      }
    },
    {
      "cell_type": "markdown",
      "source": [
        "## Aritméticas\n",
        "\n",
        "Puedes realizar fácilmente operaciones aritméticas con matrices o con escalares. Veamos algunos ejemplos:"
      ],
      "metadata": {
        "id": "GToQCalnAaFq"
      }
    },
    {
      "cell_type": "code",
      "source": [
        "arr = np.arange(0,10)\n",
        "arr + arr"
      ],
      "metadata": {
        "id": "Y-CGzCKgAcj0"
      },
      "execution_count": null,
      "outputs": []
    },
    {
      "cell_type": "code",
      "source": [
        "arr * arr"
      ],
      "metadata": {
        "id": "CBwB13gRAfka"
      },
      "execution_count": null,
      "outputs": []
    },
    {
      "cell_type": "code",
      "source": [
        "arr - arr"
      ],
      "metadata": {
        "id": "3CvqZY3yAgjB"
      },
      "execution_count": null,
      "outputs": []
    },
    {
      "cell_type": "code",
      "source": [
        "# Obtenemos un warning sobre división por cero\n",
        "\n",
        "arr/arr"
      ],
      "metadata": {
        "id": "XExBy7r2Amq7"
      },
      "execution_count": null,
      "outputs": []
    },
    {
      "cell_type": "code",
      "source": [
        "# También obtenemos un warning\n",
        "1/arr"
      ],
      "metadata": {
        "id": "jB-JIXd0Apl0"
      },
      "execution_count": null,
      "outputs": []
    },
    {
      "cell_type": "code",
      "source": [
        "arr**3"
      ],
      "metadata": {
        "id": "MrjyTfbzAvf6"
      },
      "execution_count": null,
      "outputs": []
    },
    {
      "cell_type": "markdown",
      "source": [
        "## Funciones universales de matrices\n",
        "\n",
        "Numpy incluye muchas [funciones universales de matrices](http://docs.scipy.org/doc/numpy/reference/ufuncs.html), que son básicamente operaciones matemáticas que se pueden utilizar para realizar operaciones en toda la matriz. Veamos algunas de las más comunes:"
      ],
      "metadata": {
        "id": "5xuj-N7JAzjs"
      }
    },
    {
      "cell_type": "code",
      "source": [
        "# Raíz cuadrada\n",
        "np.sqrt(arr)"
      ],
      "metadata": {
        "id": "0SblkZLxA5JD"
      },
      "execution_count": null,
      "outputs": []
    },
    {
      "cell_type": "code",
      "source": [
        "#Cálculo exponencial (e^)\n",
        "np.exp(arr)"
      ],
      "metadata": {
        "id": "GSguD9lMA9fL"
      },
      "execution_count": null,
      "outputs": []
    },
    {
      "cell_type": "code",
      "source": [
        "np.max(arr) #igual que arr.max()"
      ],
      "metadata": {
        "id": "QarNvknRA_HU"
      },
      "execution_count": null,
      "outputs": []
    },
    {
      "cell_type": "code",
      "source": [
        "np.sin(arr)"
      ],
      "metadata": {
        "id": "YB9OEkeXBBeT"
      },
      "execution_count": null,
      "outputs": []
    },
    {
      "cell_type": "markdown",
      "source": [
        "# Ejercicios\n",
        "\n",
        "Vamos ahora a dedicar algo de tiempo a intentar realizar una serie de ejercicios para asentar todo lo que hemos visto de la librearía `numpy`"
      ],
      "metadata": {
        "id": "_3iVWOFxCsJ3"
      }
    },
    {
      "cell_type": "markdown",
      "source": [
        "Importa NumPy como np\n"
      ],
      "metadata": {
        "id": "WA38lZlcIE10"
      }
    },
    {
      "cell_type": "code",
      "source": [],
      "metadata": {
        "id": "Zb85RYqJC3BF"
      },
      "execution_count": null,
      "outputs": []
    },
    {
      "cell_type": "markdown",
      "source": [
        "Crea un array de 10 unos\n"
      ],
      "metadata": {
        "id": "K-PDnO1SILI5"
      }
    },
    {
      "cell_type": "code",
      "source": [],
      "metadata": {
        "id": "XL6GCa3CIoww"
      },
      "execution_count": null,
      "outputs": []
    },
    {
      "cell_type": "markdown",
      "source": [
        "Crea un array de 10 cincos\n"
      ],
      "metadata": {
        "id": "lNrTPzn5IMwx"
      }
    },
    {
      "cell_type": "code",
      "source": [],
      "metadata": {
        "id": "nk2dNauiIpOx"
      },
      "execution_count": null,
      "outputs": []
    },
    {
      "cell_type": "markdown",
      "source": [
        "Crea un array con los enteros del 10 al 50\n"
      ],
      "metadata": {
        "id": "01c3UtdvIOD1"
      }
    },
    {
      "cell_type": "code",
      "source": [],
      "metadata": {
        "id": "1MEncsKCIpzS"
      },
      "execution_count": null,
      "outputs": []
    },
    {
      "cell_type": "markdown",
      "source": [
        "Crea un array con todos los números pares del 10 al 50\n"
      ],
      "metadata": {
        "id": "tXqXKYv6IPtL"
      }
    },
    {
      "cell_type": "code",
      "source": [],
      "metadata": {
        "id": "s7IWsPbRIqpP"
      },
      "execution_count": null,
      "outputs": []
    },
    {
      "cell_type": "markdown",
      "source": [
        "Crea una matriz 3x3 con valores del 0 al 8\n"
      ],
      "metadata": {
        "id": "8Tjh6Bg1IR38"
      }
    },
    {
      "cell_type": "code",
      "source": [],
      "metadata": {
        "id": "1aXwatndIrQd"
      },
      "execution_count": null,
      "outputs": []
    },
    {
      "cell_type": "markdown",
      "source": [
        "Crea una matriz identidad 3x3\n"
      ],
      "metadata": {
        "id": "NSqK58hzIWAj"
      }
    },
    {
      "cell_type": "code",
      "source": [],
      "metadata": {
        "id": "p8j8BpOAIUQU"
      },
      "execution_count": null,
      "outputs": []
    },
    {
      "cell_type": "markdown",
      "source": [
        "Usa NumPy para generar un número aleatorio entre 0 y 1\n"
      ],
      "metadata": {
        "id": "K0AXWNZIIW9F"
      }
    },
    {
      "cell_type": "code",
      "source": [],
      "metadata": {
        "id": "wU9FfXlMIrxX"
      },
      "execution_count": null,
      "outputs": []
    },
    {
      "cell_type": "markdown",
      "source": [
        "Usa `numpy` para generar un array de 25 números aleatorios sacados de una distribución normal estándar\n"
      ],
      "metadata": {
        "id": "DKUCnVPEIX-U"
      }
    },
    {
      "cell_type": "code",
      "source": [],
      "metadata": {
        "id": "H9iGF_DnIsxV"
      },
      "execution_count": null,
      "outputs": []
    },
    {
      "cell_type": "markdown",
      "source": [
        "Crea un array de 20 puntos espaciados linealmente entre 0 y 1\n"
      ],
      "metadata": {
        "id": "OW1apk4BIcNX"
      }
    },
    {
      "cell_type": "code",
      "source": [],
      "metadata": {
        "id": "XMKIGR_HIta0"
      },
      "execution_count": null,
      "outputs": []
    },
    {
      "cell_type": "markdown",
      "source": [
        "## Indexación y selección en NumPy\n",
        "\n",
        "Ahora se te darán algunas matrices y tendrás que replicar los resultados que se muestran:\n"
      ],
      "metadata": {
        "id": "HIw9eI8qIfkh"
      }
    },
    {
      "cell_type": "code",
      "source": [
        "mat = np.arange(1,26).reshape(5,5)\n",
        "mat"
      ],
      "metadata": {
        "id": "m6_JZjN6Iu0d"
      },
      "execution_count": null,
      "outputs": []
    },
    {
      "cell_type": "markdown",
      "source": [
        "Ahora haz lo siguiente\n"
      ],
      "metadata": {
        "id": "oaxyx64UIh4o"
      }
    },
    {
      "cell_type": "code",
      "source": [
        "#ESCRIBE AQUÍ EL CÓDIGO QUE REPRODUCE EL RESULTADO DE LA CELDA DE ABAJO.\n"
      ],
      "metadata": {
        "id": "2ejE-Q5wIvnb"
      },
      "execution_count": null,
      "outputs": []
    },
    {
      "cell_type": "markdown",
      "source": [
        "array([[12, 13, 14, 15],\n",
        "       [17, 18, 19, 20],\n",
        "       [22, 23, 24, 25]])"
      ],
      "metadata": {
        "id": "1tsBYnAhKcSX"
      }
    },
    {
      "cell_type": "code",
      "source": [
        "#ESCRIBE AQUÍ EL CÓDIGO QUE REPRODUCE EL RESULTADO DE LA CELDA DE ABAJO.\n"
      ],
      "metadata": {
        "id": "ZlWUM8D2Kts9"
      },
      "execution_count": null,
      "outputs": []
    },
    {
      "cell_type": "markdown",
      "source": [
        "20"
      ],
      "metadata": {
        "id": "J_9J38FRKrL8"
      }
    },
    {
      "cell_type": "code",
      "source": [
        "#ESCRIBE AQUÍ EL CÓDIGO QUE REPRODUCE EL RESULTADO DE LA CELDA DE ABAJO.\n"
      ],
      "metadata": {
        "id": "NFx0DwKfKq_l"
      },
      "execution_count": null,
      "outputs": []
    },
    {
      "cell_type": "markdown",
      "source": [
        "array([[ 2],\n",
        "       [ 7],\n",
        "       [12]])"
      ],
      "metadata": {
        "id": "30UdstXXKySx"
      }
    },
    {
      "cell_type": "code",
      "source": [
        "#ESCRIBE AQUÍ EL CÓDIGO QUE REPRODUCE EL RESULTADO DE LA CELDA DE ABAJO.\n"
      ],
      "metadata": {
        "id": "Gw55xT1yK24r"
      },
      "execution_count": null,
      "outputs": []
    },
    {
      "cell_type": "markdown",
      "source": [
        "array([21, 22, 23, 24, 25])\n"
      ],
      "metadata": {
        "id": "n3m0ZIK2K54q"
      }
    },
    {
      "cell_type": "code",
      "source": [
        "#ESCRIBE AQUÍ EL CÓDIGO QUE REPRODUCE EL RESULTADO DE LA CELDA DE ABAJO.\n"
      ],
      "metadata": {
        "id": "Me5fq5JhLBWR"
      },
      "execution_count": null,
      "outputs": []
    },
    {
      "cell_type": "markdown",
      "source": [
        "array([[16, 17, 18, 19, 20],\n",
        "       [21, 22, 23, 24, 25]])"
      ],
      "metadata": {
        "id": "zmfLp6lbLB0x"
      }
    },
    {
      "cell_type": "markdown",
      "source": [
        "Saca la suma de todos los valores en `mat`\n"
      ],
      "metadata": {
        "id": "8qgA7_DjIi7h"
      }
    },
    {
      "cell_type": "code",
      "source": [],
      "metadata": {
        "id": "Sp4hZTxSIwEE"
      },
      "execution_count": null,
      "outputs": []
    },
    {
      "cell_type": "markdown",
      "source": [
        "Calcula la desviación estándar de los valores en `mat`\n"
      ],
      "metadata": {
        "id": "o3Y0t-BrIkTI"
      }
    },
    {
      "cell_type": "code",
      "source": [],
      "metadata": {
        "id": "ataGX9ZdIw4V"
      },
      "execution_count": null,
      "outputs": []
    },
    {
      "cell_type": "markdown",
      "source": [
        "Saca la suma de todas las columnas en `mat`\n"
      ],
      "metadata": {
        "id": "8UoQyZkTIlep"
      }
    },
    {
      "cell_type": "code",
      "source": [],
      "metadata": {
        "id": "Ry2WWtxOIxm0"
      },
      "execution_count": null,
      "outputs": []
    },
    {
      "cell_type": "markdown",
      "source": [
        "¡Eso es todo amigos!"
      ],
      "metadata": {
        "id": "VZLzKJedIyD8"
      }
    }
  ],
  "metadata": {
    "kernelspec": {
      "display_name": "Python 3",
      "language": "python",
      "name": "python3"
    },
    "language_info": {
      "codemirror_mode": {
        "name": "ipython",
        "version": 3
      },
      "file_extension": ".py",
      "mimetype": "text/x-python",
      "name": "python",
      "nbconvert_exporter": "python",
      "pygments_lexer": "ipython3",
      "version": "3.6.3"
    },
    "colab": {
      "provenance": [],
      "toc_visible": true
    }
  },
  "nbformat": 4,
  "nbformat_minor": 0
}