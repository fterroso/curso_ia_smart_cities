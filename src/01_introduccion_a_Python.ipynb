{
  "cells": [
    {
      "cell_type": "markdown",
      "metadata": {
        "id": "1yHYENP-1rXB"
      },
      "source": [
        "# Introducción al languaje de programación Python\n",
        "\n",
        "Este cuaderno repasará los temas básicos del lenguaje de Python en orden:\n",
        "\n",
        "* Tipos de datos\n",
        "    * Números\n",
        "    * Cadenas\n",
        "    * Impresión\n",
        "    * Listas\n",
        "    * Diccionarios\n",
        "    * Booleanos\n",
        "    * Tuplas\n",
        "    * Conjuntos\n",
        "* Operadores de comparación\n",
        "* Sentencias `if`, `elif`, `else`\n",
        "* Bucles `for`\n",
        "* Bucles `while`\n",
        "* `range()`\n",
        "* Comprensión de listas\n",
        "* Funciones\n",
        "* Expresiones lambda\n",
        "* Map y filter\n",
        "* Métodos\n",
        "____"
      ]
    },
    {
      "cell_type": "markdown",
      "source": [
        "## Pero, ¿por qué Python?\n",
        "\n",
        "El uso de **Python** como lenguaje de programación en este taller está  justificado por varias razones:\n",
        "\n",
        "- En primer lugar, Python se ha consolidado como el estándar *de facto* en el ámbito de la IA y el análisis de datos, gracias a su sintaxis sencilla y legible, que facilita tanto el aprendizaje como la rápida implementación de prototipos funcionales. Esto resulta especialmente ventajoso en un entorno de formación, donde se busca reducir la curva de entrada y maximizar el tiempo dedicado a la construcción de soluciones.\n",
        "\n",
        "- En segundo lugar, Python cuenta con un *ecosistema* muy amplio de librerías y frameworks especializados en aprendizaje automático, visión por computador, análisis de datos y visualización (como `scikit-learn`, `TensorFlow`, `keras`, `pandas` o `matplotlib`), que permiten abordar con eficacia los desafíos típicos de las Smart Cities: predicción del tráfico, optimización energética, análisis de datos medioambientales, gestión de servicios urbanos, entre otros.\n",
        "\n",
        "- Además, Python dispone de una gran comunidad activa de desarrolladores e investigadores, lo que asegura un flujo constante de recursos, tutoriales y soporte para la resolución de problemas. Este aspecto es clave en proyectos de Smart Cities, donde las soluciones deben ser flexibles y escalables, pero también accesibles para distintos perfiles profesionales (ingenieros, científicos de datos, urbanistas, etc.).\n",
        "\n",
        "- Finalmente, la compatibilidad de Python con entornos de integración y despliegue en la nube, APIs y sistemas IoT lo convierte en una herramienta idónea para desarrollar soluciones que no solo funcionen en un entorno académico o experimental, sino que puedan trasladarse a escenarios reales de ciudades inteligentes.\n",
        "\n",
        "---\n",
        "\n",
        "\n"
      ],
      "metadata": {
        "id": "RUUbRG9hVpmo"
      }
    },
    {
      "cell_type": "markdown",
      "metadata": {
        "id": "2TLbfAOp1rXD"
      },
      "source": [
        "## Tipos de datos básicos en Python\n",
        "\n",
        "Python es un lenguaje **dinámicamente tipado**, lo que significa que no necesitamos indicar el tipo de dato al declarar una variable:  \n",
        "el intérprete lo deduce automáticamente en función del valor asignado.  \n",
        "\n",
        "Los principales tipos de datos básicos en Python son:\n",
        "\n"
      ]
    },
    {
      "cell_type": "markdown",
      "source": [
        "### 1. **Numéricos**\n",
        "   - `int`: números enteros (positivos, negativos o cero).\n",
        "   - `float`: números decimales (con parte fraccionaria).\n",
        "   - `complex`: números complejos con parte real e imaginaria."
      ],
      "metadata": {
        "id": "UeujfH-k6YCw"
      }
    },
    {
      "cell_type": "code",
      "source": [
        "# Ejemplos de tipos de datos básicos en Python\n",
        "\n",
        "# Números\n",
        "entero = 42\n",
        "decimal = 3.14\n",
        "complejo = 2 + 3j\n",
        "\n",
        "print(type(entero))    # <class 'int'>\n",
        "print(type(decimal))   # <class 'float'>\n",
        "print(type(complejo))  # <class 'complex'>"
      ],
      "metadata": {
        "id": "GZ-uOBYU3ZMo"
      },
      "execution_count": null,
      "outputs": []
    },
    {
      "cell_type": "markdown",
      "source": [
        "#### Operadores Numéricos"
      ],
      "metadata": {
        "id": "st3C3Bo13M2i"
      }
    },
    {
      "cell_type": "code",
      "execution_count": null,
      "metadata": {
        "id": "J_PMi7bo1rXD"
      },
      "outputs": [],
      "source": [
        "1 + 1"
      ]
    },
    {
      "cell_type": "code",
      "execution_count": null,
      "metadata": {
        "id": "f-nFr8VJ1rXE"
      },
      "outputs": [],
      "source": [
        "1 * 3"
      ]
    },
    {
      "cell_type": "code",
      "execution_count": null,
      "metadata": {
        "id": "98RWP-oG1rXF"
      },
      "outputs": [],
      "source": [
        "1 / 2"
      ]
    },
    {
      "cell_type": "code",
      "execution_count": null,
      "metadata": {
        "id": "61C2m2wO1rXF"
      },
      "outputs": [],
      "source": [
        "2 ** 4"
      ]
    },
    {
      "cell_type": "code",
      "execution_count": null,
      "metadata": {
        "id": "k1npqJ0M1rXF"
      },
      "outputs": [],
      "source": [
        "4 % 2"
      ]
    },
    {
      "cell_type": "code",
      "execution_count": null,
      "metadata": {
        "id": "hIQ0d0Zf1rXF"
      },
      "outputs": [],
      "source": [
        "5 % 2"
      ]
    },
    {
      "cell_type": "code",
      "execution_count": null,
      "metadata": {
        "id": "fSi9u4Rx1rXF"
      },
      "outputs": [],
      "source": [
        "(2 + 3) * (5 + 5)"
      ]
    },
    {
      "cell_type": "markdown",
      "metadata": {
        "id": "JWDkAKDg1rXG"
      },
      "source": [
        "#### Asignación a variables"
      ]
    },
    {
      "cell_type": "code",
      "execution_count": null,
      "metadata": {
        "collapsed": true,
        "id": "r1a-_OEJ1rXG"
      },
      "outputs": [],
      "source": [
        "name_of_var = 2"
      ]
    },
    {
      "cell_type": "code",
      "execution_count": null,
      "metadata": {
        "collapsed": true,
        "id": "cBWR5z4g1rXG"
      },
      "outputs": [],
      "source": [
        "x = 2\n",
        "y = 3"
      ]
    },
    {
      "cell_type": "code",
      "execution_count": null,
      "metadata": {
        "collapsed": true,
        "id": "yHJKtOqN1rXG"
      },
      "outputs": [],
      "source": [
        "z = x + y"
      ]
    },
    {
      "cell_type": "code",
      "execution_count": null,
      "metadata": {
        "id": "HPMqfTRy1rXG"
      },
      "outputs": [],
      "source": [
        "z"
      ]
    },
    {
      "cell_type": "markdown",
      "metadata": {
        "id": "wJG3PKkE1rXG"
      },
      "source": [
        "### 2. **Cadenas de texto**\n",
        "   - `str`: cadenas de texto, delimitadas con comillas simples `'...'` o dobles `\"...\"`.\n",
        "\n"
      ]
    },
    {
      "cell_type": "code",
      "source": [
        "# Texto\n",
        "nombre = \"Ana\"\n",
        "print(type(nombre))    # <class 'str'>\n"
      ],
      "metadata": {
        "id": "aTVGC_0O3mbn"
      },
      "execution_count": null,
      "outputs": []
    },
    {
      "cell_type": "code",
      "execution_count": null,
      "metadata": {
        "id": "LnFgA3uH1rXG"
      },
      "outputs": [],
      "source": [
        "'comillas simples'"
      ]
    },
    {
      "cell_type": "code",
      "execution_count": null,
      "metadata": {
        "id": "WJVSUk4a1rXG"
      },
      "outputs": [],
      "source": [
        "\"comillas dobles\""
      ]
    },
    {
      "cell_type": "code",
      "execution_count": null,
      "metadata": {
        "id": "AjS9ivXw1rXG"
      },
      "outputs": [],
      "source": [
        "\" wrap lot's of other quotes\""
      ]
    },
    {
      "cell_type": "markdown",
      "metadata": {
        "id": "qy3Bnv_L1rXG"
      },
      "source": [
        "#### Impresión por pantalla"
      ]
    },
    {
      "cell_type": "code",
      "execution_count": null,
      "metadata": {
        "collapsed": true,
        "id": "txFQG2QL1rXG"
      },
      "outputs": [],
      "source": [
        "x = 'hola'"
      ]
    },
    {
      "cell_type": "code",
      "execution_count": null,
      "metadata": {
        "id": "molgBArl1rXH"
      },
      "outputs": [],
      "source": [
        "x"
      ]
    },
    {
      "cell_type": "code",
      "execution_count": null,
      "metadata": {
        "id": "ZZuqv3-P1rXH"
      },
      "outputs": [],
      "source": [
        "print(x)"
      ]
    },
    {
      "cell_type": "code",
      "execution_count": null,
      "metadata": {
        "collapsed": true,
        "id": "XMrFdPHW1rXH"
      },
      "outputs": [],
      "source": [
        "num = 12\n",
        "name = 'Sam'"
      ]
    },
    {
      "cell_type": "code",
      "execution_count": null,
      "metadata": {
        "id": "geuv0h1t1rXH"
      },
      "outputs": [],
      "source": [
        "print('Mi número es: {one}, y mi nombre es: {two}'.format(one=num,two=name))"
      ]
    },
    {
      "cell_type": "code",
      "execution_count": null,
      "metadata": {
        "id": "mkKT1hUj1rXH"
      },
      "outputs": [],
      "source": [
        "print('Mi número es: {}, y mi nombre es: {}'.format(num,name))"
      ]
    },
    {
      "cell_type": "markdown",
      "metadata": {
        "id": "Qo7uql461rXH"
      },
      "source": [
        "\n",
        "\n",
        "### 3. **Secuencias**\n",
        "   - `list`: listas, ordenadas y mutables.\n",
        "   - `tuple`: tuplas, ordenadas e inmutables.\n",
        "   - `range`: secuencia de enteros generados automáticamente.\n",
        "\n",
        "\n"
      ]
    },
    {
      "cell_type": "markdown",
      "source": [
        "#### Listas"
      ],
      "metadata": {
        "id": "tW5i7Fyr4o1Q"
      }
    },
    {
      "cell_type": "code",
      "execution_count": null,
      "metadata": {
        "id": "7F5Qe0_C1rXH"
      },
      "outputs": [],
      "source": [
        "[1,2,3]"
      ]
    },
    {
      "cell_type": "code",
      "execution_count": null,
      "metadata": {
        "id": "5UA0NVTk1rXH"
      },
      "outputs": [],
      "source": [
        "['hi',1,[1,2]]"
      ]
    },
    {
      "cell_type": "code",
      "execution_count": null,
      "metadata": {
        "collapsed": true,
        "id": "RENYqxNp1rXH"
      },
      "outputs": [],
      "source": [
        "my_list = ['a','b','c']"
      ]
    },
    {
      "cell_type": "code",
      "execution_count": null,
      "metadata": {
        "collapsed": true,
        "id": "r78atmea1rXH"
      },
      "outputs": [],
      "source": [
        "my_list.append('d')"
      ]
    },
    {
      "cell_type": "code",
      "execution_count": null,
      "metadata": {
        "id": "zw7TKU2C1rXH"
      },
      "outputs": [],
      "source": [
        "my_list"
      ]
    },
    {
      "cell_type": "code",
      "execution_count": null,
      "metadata": {
        "id": "Ij9qLQWD1rXH"
      },
      "outputs": [],
      "source": [
        "my_list[0]"
      ]
    },
    {
      "cell_type": "code",
      "execution_count": null,
      "metadata": {
        "id": "7jbzAMSF1rXH"
      },
      "outputs": [],
      "source": [
        "my_list[1]"
      ]
    },
    {
      "cell_type": "code",
      "execution_count": null,
      "metadata": {
        "id": "NhKAngxw1rXH"
      },
      "outputs": [],
      "source": [
        "my_list[1:]"
      ]
    },
    {
      "cell_type": "code",
      "execution_count": null,
      "metadata": {
        "id": "V_52BmZX1rXH"
      },
      "outputs": [],
      "source": [
        "my_list[:1]"
      ]
    },
    {
      "cell_type": "code",
      "execution_count": null,
      "metadata": {
        "collapsed": true,
        "id": "D1NpfFhx1rXH"
      },
      "outputs": [],
      "source": [
        "my_list[0] = 'NUEVO'"
      ]
    },
    {
      "cell_type": "code",
      "execution_count": null,
      "metadata": {
        "id": "1dVwE3Fx1rXH"
      },
      "outputs": [],
      "source": [
        "my_list"
      ]
    },
    {
      "cell_type": "code",
      "execution_count": null,
      "metadata": {
        "collapsed": true,
        "id": "C2jWLH2u1rXH"
      },
      "outputs": [],
      "source": [
        "nest = [1,2,3,[4,5,['target']]]"
      ]
    },
    {
      "cell_type": "code",
      "execution_count": null,
      "metadata": {
        "id": "ItWJVIXe1rXH"
      },
      "outputs": [],
      "source": [
        "nest[3]"
      ]
    },
    {
      "cell_type": "code",
      "execution_count": null,
      "metadata": {
        "id": "DsvFAb8q1rXK"
      },
      "outputs": [],
      "source": [
        "nest[3][2]"
      ]
    },
    {
      "cell_type": "code",
      "execution_count": null,
      "metadata": {
        "id": "L_sFIzFR1rXK"
      },
      "outputs": [],
      "source": [
        "nest[3][2][0]"
      ]
    },
    {
      "cell_type": "markdown",
      "source": [
        "#### Tuplas"
      ],
      "metadata": {
        "id": "IQ93A_Di4xVP"
      }
    },
    {
      "cell_type": "code",
      "source": [
        "t = (1,2,3)"
      ],
      "metadata": {
        "id": "eeSbSe5v4zUH"
      },
      "execution_count": null,
      "outputs": []
    },
    {
      "cell_type": "code",
      "source": [
        "t[0]"
      ],
      "metadata": {
        "id": "oGbMMvw642A4"
      },
      "execution_count": null,
      "outputs": []
    },
    {
      "cell_type": "code",
      "source": [
        "t[0] = 'NEW'"
      ],
      "metadata": {
        "id": "5nYEebly45Ip"
      },
      "execution_count": null,
      "outputs": []
    },
    {
      "cell_type": "markdown",
      "metadata": {
        "id": "CTa57sGY1rXK"
      },
      "source": [
        "\n",
        " ### 4. **Diccionarios**\n",
        "   - `dict`: pares clave–valor."
      ]
    },
    {
      "cell_type": "code",
      "execution_count": null,
      "metadata": {
        "collapsed": true,
        "id": "Dkbac-9V1rXK"
      },
      "outputs": [],
      "source": [
        "d = {'key1':'item1','key2':'item2'}"
      ]
    },
    {
      "cell_type": "code",
      "execution_count": null,
      "metadata": {
        "id": "aluqgwB11rXL"
      },
      "outputs": [],
      "source": [
        "d"
      ]
    },
    {
      "cell_type": "code",
      "execution_count": null,
      "metadata": {
        "id": "F_PTQ5oc1rXL"
      },
      "outputs": [],
      "source": [
        "d['key1']"
      ]
    },
    {
      "cell_type": "markdown",
      "metadata": {
        "id": "EVdR76L71rXL"
      },
      "source": [
        "### 5. **Booleanos**\n",
        "   - `bool`: valores lógicos `True` o `False`."
      ]
    },
    {
      "cell_type": "code",
      "execution_count": null,
      "metadata": {
        "id": "rAIv_ZC11rXL"
      },
      "outputs": [],
      "source": [
        "True"
      ]
    },
    {
      "cell_type": "code",
      "execution_count": null,
      "metadata": {
        "id": "6PreE2p01rXL"
      },
      "outputs": [],
      "source": [
        "False"
      ]
    },
    {
      "cell_type": "markdown",
      "metadata": {
        "id": "czPofyC41rXL"
      },
      "source": [
        "### 6. **Conjuntos**\n",
        "   - `set`: colección de elementos únicos, sin orden.\n",
        "   - `frozenset`: como `set` pero inmutable."
      ]
    },
    {
      "cell_type": "code",
      "execution_count": null,
      "metadata": {
        "id": "lXSX5rYk1rXL"
      },
      "outputs": [],
      "source": [
        "{1,2,3}"
      ]
    },
    {
      "cell_type": "code",
      "execution_count": null,
      "metadata": {
        "id": "eeIYhG3y1rXL"
      },
      "outputs": [],
      "source": [
        "{1,2,3,1,2,1,2,3,3,3,3,2,2,2,1,1,2}"
      ]
    },
    {
      "cell_type": "markdown",
      "metadata": {
        "id": "8E1TX7hZ1rXL"
      },
      "source": [
        "## Operadores de comparación"
      ]
    },
    {
      "cell_type": "code",
      "execution_count": null,
      "metadata": {
        "id": "LNiVTbOi1rXL"
      },
      "outputs": [],
      "source": [
        "1 > 2"
      ]
    },
    {
      "cell_type": "code",
      "execution_count": null,
      "metadata": {
        "id": "p6YImM0i1rXL"
      },
      "outputs": [],
      "source": [
        "1 < 2"
      ]
    },
    {
      "cell_type": "code",
      "execution_count": null,
      "metadata": {
        "id": "XPjo-4an1rXL"
      },
      "outputs": [],
      "source": [
        "1 >= 1"
      ]
    },
    {
      "cell_type": "code",
      "execution_count": null,
      "metadata": {
        "id": "AVRA-mf61rXL"
      },
      "outputs": [],
      "source": [
        "1 <= 4"
      ]
    },
    {
      "cell_type": "code",
      "execution_count": null,
      "metadata": {
        "id": "jpeQLaK91rXL"
      },
      "outputs": [],
      "source": [
        "1 == 1"
      ]
    },
    {
      "cell_type": "code",
      "execution_count": null,
      "metadata": {
        "id": "1sXel_fO1rXM"
      },
      "outputs": [],
      "source": [
        "'hi' == 'bye'"
      ]
    },
    {
      "cell_type": "markdown",
      "metadata": {
        "id": "n29DT3Sf1rXM"
      },
      "source": [
        "## Operadores Lógicos"
      ]
    },
    {
      "cell_type": "code",
      "execution_count": null,
      "metadata": {
        "id": "lsKJTFTC1rXM"
      },
      "outputs": [],
      "source": [
        "(1 > 2) and (2 < 3)"
      ]
    },
    {
      "cell_type": "code",
      "execution_count": null,
      "metadata": {
        "id": "2BhNRkhz1rXM"
      },
      "outputs": [],
      "source": [
        "(1 > 2) or (2 < 3)"
      ]
    },
    {
      "cell_type": "code",
      "execution_count": null,
      "metadata": {
        "id": "G934-M9g1rXM"
      },
      "outputs": [],
      "source": [
        "(1 == 2) or (2 == 3) or (4 == 4)"
      ]
    },
    {
      "cell_type": "markdown",
      "metadata": {
        "id": "5jMavisN1rXM"
      },
      "source": [
        "## Operadores condicionales\n",
        "\n",
        "`if,elif, else`"
      ]
    },
    {
      "cell_type": "code",
      "execution_count": null,
      "metadata": {
        "id": "oPrQoLlv1rXM"
      },
      "outputs": [],
      "source": [
        "if 1 < 2:\n",
        "    print('Yep!')"
      ]
    },
    {
      "cell_type": "code",
      "execution_count": null,
      "metadata": {
        "id": "jHjRBNd31rXM"
      },
      "outputs": [],
      "source": [
        "if 1 < 2:\n",
        "    print('yep!')"
      ]
    },
    {
      "cell_type": "code",
      "execution_count": null,
      "metadata": {
        "id": "qeSbT6p21rXM"
      },
      "outputs": [],
      "source": [
        "if 1 < 2:\n",
        "    print('first')\n",
        "else:\n",
        "    print('last')"
      ]
    },
    {
      "cell_type": "code",
      "execution_count": null,
      "metadata": {
        "id": "fovabCNd1rXM"
      },
      "outputs": [],
      "source": [
        "if 1 > 2:\n",
        "    print('first')\n",
        "else:\n",
        "    print('last')"
      ]
    },
    {
      "cell_type": "code",
      "execution_count": null,
      "metadata": {
        "id": "dG_JcyVl1rXM"
      },
      "outputs": [],
      "source": [
        "if 1 == 2:\n",
        "    print('first')\n",
        "elif 3 == 3:\n",
        "    print('middle')\n",
        "else:\n",
        "    print('Last')"
      ]
    },
    {
      "cell_type": "markdown",
      "metadata": {
        "id": "SIhIZPUr1rXM"
      },
      "source": [
        "## Bucles `for`"
      ]
    },
    {
      "cell_type": "code",
      "execution_count": null,
      "metadata": {
        "id": "S3VDFk0R1rXM"
      },
      "outputs": [],
      "source": [
        "seq = [1,2,3,4,5]"
      ]
    },
    {
      "cell_type": "code",
      "execution_count": null,
      "metadata": {
        "id": "aOJ28gV01rXM"
      },
      "outputs": [],
      "source": [
        "for item in seq:\n",
        "    print(item)"
      ]
    },
    {
      "cell_type": "code",
      "execution_count": null,
      "metadata": {
        "id": "SToDAijC1rXM"
      },
      "outputs": [],
      "source": [
        "for item in seq:\n",
        "    print('Sí')"
      ]
    },
    {
      "cell_type": "code",
      "execution_count": null,
      "metadata": {
        "id": "DwW4Kd4k1rXN"
      },
      "outputs": [],
      "source": [
        "for jelly in seq:\n",
        "    print(jelly+jelly)"
      ]
    },
    {
      "cell_type": "markdown",
      "metadata": {
        "id": "yLJIiTKV1rXN"
      },
      "source": [
        "## Bucles `while`"
      ]
    },
    {
      "cell_type": "code",
      "execution_count": null,
      "metadata": {
        "id": "mgdF_3R41rXN"
      },
      "outputs": [],
      "source": [
        "i = 1\n",
        "while i < 5:\n",
        "    print('i is: {}'.format(i))\n",
        "    i = i+1"
      ]
    },
    {
      "cell_type": "markdown",
      "metadata": {
        "id": "93YvKLoT1rXN"
      },
      "source": [
        "## Operador `range`"
      ]
    },
    {
      "cell_type": "code",
      "execution_count": null,
      "metadata": {
        "id": "zEarqp-I1rXN"
      },
      "outputs": [],
      "source": [
        "range(5)"
      ]
    },
    {
      "cell_type": "code",
      "execution_count": null,
      "metadata": {
        "id": "4wtmGBoK1rXN"
      },
      "outputs": [],
      "source": [
        "for i in range(5):\n",
        "    print(i)"
      ]
    },
    {
      "cell_type": "code",
      "execution_count": null,
      "metadata": {
        "id": "L2jYegdr1rXN"
      },
      "outputs": [],
      "source": [
        "list(range(5))"
      ]
    },
    {
      "cell_type": "markdown",
      "metadata": {
        "id": "i0ZN--LE1rXN"
      },
      "source": [
        "## list comprehension"
      ]
    },
    {
      "cell_type": "code",
      "execution_count": null,
      "metadata": {
        "collapsed": true,
        "id": "QQicoR5i1rXN"
      },
      "outputs": [],
      "source": [
        "x = [1,2,3,4]"
      ]
    },
    {
      "cell_type": "code",
      "execution_count": null,
      "metadata": {
        "id": "4q76Dqcp1rXN"
      },
      "outputs": [],
      "source": [
        "out = []\n",
        "for item in x:\n",
        "    out.append(item**2)\n",
        "print(out)"
      ]
    },
    {
      "cell_type": "code",
      "execution_count": null,
      "metadata": {
        "id": "55fF0xF_1rXN"
      },
      "outputs": [],
      "source": [
        "[item**2 for item in x]"
      ]
    },
    {
      "cell_type": "markdown",
      "metadata": {
        "id": "X2oHpP911rXN"
      },
      "source": [
        "## Funciones"
      ]
    },
    {
      "cell_type": "code",
      "execution_count": null,
      "metadata": {
        "collapsed": true,
        "id": "H5WVIy8-1rXN"
      },
      "outputs": [],
      "source": [
        "def my_func(param1='default'):\n",
        "    \"\"\"\n",
        "    Docstring para explicar la funcionalidad, entrada y salida de la función.\n",
        "    \"\"\"\n",
        "    print(param1)"
      ]
    },
    {
      "cell_type": "code",
      "execution_count": null,
      "metadata": {
        "id": "ypyLkXRe1rXN"
      },
      "outputs": [],
      "source": [
        "my_func"
      ]
    },
    {
      "cell_type": "code",
      "execution_count": null,
      "metadata": {
        "id": "7QxRUTj91rXN"
      },
      "outputs": [],
      "source": [
        "my_func()"
      ]
    },
    {
      "cell_type": "code",
      "execution_count": null,
      "metadata": {
        "id": "UJo-gkKl1rXN"
      },
      "outputs": [],
      "source": [
        "my_func('new param')"
      ]
    },
    {
      "cell_type": "code",
      "execution_count": null,
      "metadata": {
        "id": "ddhce1LX1rXN"
      },
      "outputs": [],
      "source": [
        "my_func(param1='new param')"
      ]
    },
    {
      "cell_type": "code",
      "execution_count": null,
      "metadata": {
        "collapsed": true,
        "id": "BBONEmb61rXN"
      },
      "outputs": [],
      "source": [
        "def square(x):\n",
        "    return x**2"
      ]
    },
    {
      "cell_type": "code",
      "execution_count": null,
      "metadata": {
        "collapsed": true,
        "id": "SCt74fjh1rXO"
      },
      "outputs": [],
      "source": [
        "out = square(2)"
      ]
    },
    {
      "cell_type": "code",
      "execution_count": null,
      "metadata": {
        "scrolled": true,
        "id": "jXZ8FozJ1rXO"
      },
      "outputs": [],
      "source": [
        "print(out)"
      ]
    },
    {
      "cell_type": "markdown",
      "source": [
        "#### Definición de funciones con anotaciones de tipo\n",
        "\n",
        "En Python se pueden indicar los **tipos de datos esperados** en los argumentos de una función, así como el **tipo de dato de salida**, usando *type hints*.  \n",
        "Esto no obliga a Python a verificar los tipos en tiempo de ejecución, pero ayuda a la legibilidad del código.\n"
      ],
      "metadata": {
        "id": "oEiSmLTz7ipA"
      }
    },
    {
      "cell_type": "code",
      "source": [
        "def suma(a: int, b: int) -> int:\n",
        "    \"\"\"\n",
        "    Suma dos números enteros.\n",
        "\n",
        "    Args:\n",
        "        a (int): Primer número.\n",
        "        b (int): Segundo número.\n",
        "\n",
        "    Returns:\n",
        "        int: La suma de ambos números.\n",
        "    \"\"\"\n",
        "    return a + b\n",
        "\n",
        "print(suma(3, 5))  # 8\n"
      ],
      "metadata": {
        "id": "2Z4XqAjm7oUG"
      },
      "execution_count": null,
      "outputs": []
    },
    {
      "cell_type": "markdown",
      "source": [
        "También se pueden usar tipos más complejos, como `list`, `dict`, `tuple`, etc.\n"
      ],
      "metadata": {
        "id": "r4HRAI9x7wMy"
      }
    },
    {
      "cell_type": "code",
      "source": [
        "from typing import List, Dict, Tuple\n",
        "\n",
        "def promedio(numeros: List[float]) -> float:\n",
        "    \"\"\"\n",
        "    Calcula el promedio de una lista de números.\n",
        "    \"\"\"\n",
        "    return sum(numeros) / len(numeros)\n",
        "\n",
        "print(promedio([10, 20, 30]))  # 20.0\n"
      ],
      "metadata": {
        "id": "8lqWvSOZ7vpQ"
      },
      "execution_count": null,
      "outputs": []
    },
    {
      "cell_type": "markdown",
      "metadata": {
        "id": "18uHKepD1rXO"
      },
      "source": [
        "## Expresiones `lambda`\n",
        "\n",
        "Las funciones *lambda* son funciones anónimas (sin nombre) que se definen en una sola línea.  \n",
        "Se usan principalmente cuando necesitamos una función \"rápida\" y de corta duración."
      ]
    },
    {
      "cell_type": "code",
      "source": [
        "# Sintaxis general:\n",
        "# lambda argumentos: expresión\n",
        "\n",
        "cuadrado = lambda x: x ** 2\n",
        "print(cuadrado(5))  # 25\n",
        "\n",
        "suma = lambda a, b: a + b\n",
        "print(suma(3, 7))  # 10"
      ],
      "metadata": {
        "id": "UerdhzNl8OHH"
      },
      "execution_count": null,
      "outputs": []
    },
    {
      "cell_type": "code",
      "execution_count": null,
      "metadata": {
        "collapsed": true,
        "id": "89dHwCP91rXO"
      },
      "outputs": [],
      "source": [
        "def times2(var):\n",
        "    return var*2"
      ]
    },
    {
      "cell_type": "code",
      "execution_count": null,
      "metadata": {
        "id": "qkOIGQN51rXO"
      },
      "outputs": [],
      "source": [
        "times2(2)"
      ]
    },
    {
      "cell_type": "code",
      "execution_count": null,
      "metadata": {
        "id": "xMnvy8ef1rXO"
      },
      "outputs": [],
      "source": [
        "lambda var: var*2"
      ]
    },
    {
      "cell_type": "code",
      "source": [],
      "metadata": {
        "id": "IQr7V3A88Mnv"
      },
      "execution_count": null,
      "outputs": []
    },
    {
      "cell_type": "markdown",
      "metadata": {
        "id": "5jjxGs7r1rXO"
      },
      "source": [
        "### Funciones `map` y `filter`"
      ]
    },
    {
      "cell_type": "code",
      "execution_count": null,
      "metadata": {
        "collapsed": true,
        "id": "wR55QjTn1rXO"
      },
      "outputs": [],
      "source": [
        "seq = [1,2,3,4,5]"
      ]
    },
    {
      "cell_type": "code",
      "execution_count": null,
      "metadata": {
        "id": "2P7zptXY1rXO"
      },
      "outputs": [],
      "source": [
        "map(times2,seq)"
      ]
    },
    {
      "cell_type": "code",
      "execution_count": null,
      "metadata": {
        "id": "CH3btrlT1rXO"
      },
      "outputs": [],
      "source": [
        "list(map(times2,seq))"
      ]
    },
    {
      "cell_type": "code",
      "execution_count": null,
      "metadata": {
        "id": "3IAqK32h1rXO"
      },
      "outputs": [],
      "source": [
        "list(map(lambda var: var*2,seq))"
      ]
    },
    {
      "cell_type": "code",
      "execution_count": null,
      "metadata": {
        "id": "nsYIbHm01rXO"
      },
      "outputs": [],
      "source": [
        "filter(lambda item: item%2 == 0,seq)"
      ]
    },
    {
      "cell_type": "code",
      "execution_count": null,
      "metadata": {
        "id": "R1rksRcJ1rXO"
      },
      "outputs": [],
      "source": [
        "list(filter(lambda item: item%2 == 0,seq))"
      ]
    },
    {
      "cell_type": "markdown",
      "source": [
        "Vamos a usar `map` y `filter` de forma conjunta"
      ],
      "metadata": {
        "id": "0cliJVqq8kPg"
      }
    },
    {
      "cell_type": "code",
      "source": [
        "from IPython.display import Image, display\n",
        "display(Image(url=\"https://raw.githubusercontent.com/fterroso/curso_ia_smart_cities/main/img/ml_map_reduce.png\",width=900, height=400))\n"
      ],
      "metadata": {
        "id": "J8P-Kh5UYcUA"
      },
      "execution_count": null,
      "outputs": []
    },
    {
      "cell_type": "code",
      "source": [
        "# Lista de números\n",
        "numeros = [1, 2, 3, 4, 5, 6, 7, 8, 9]\n",
        "\n",
        "# Paso 1: elevar al cuadrado cada número usando map\n",
        "cuadrados = map(lambda x: x**2, numeros)\n",
        "\n",
        "# Paso 2: quedarnos solo con los pares usando filter\n",
        "cuadrados_pares = filter(lambda x: x % 2 == 0, cuadrados)\n",
        "\n",
        "# Convertimos a lista para ver el resultado\n",
        "resultado = list(cuadrados_pares)\n",
        "print(resultado)  # [4, 16, 36, 64]"
      ],
      "metadata": {
        "id": "TwQt_6pD8jR_"
      },
      "execution_count": null,
      "outputs": []
    },
    {
      "cell_type": "markdown",
      "source": [
        "## Importación de librerías en Python\n",
        "\n",
        "Una de las grandes ventajas de Python es la cantidad de **librerías** disponibles que amplían sus funcionalidades.  \n",
        "\n",
        "- La **biblioteca estándar** de Python incluye módulos como `math`, `random` o `datetime`, que ya vienen instalados.  \n",
        "- También existen **librerías externas** (por ejemplo, `numpy`, `pandas`, `matplotlib`) que deben instalarse antes de usarse con `pip install nombre_libreria`.  \n",
        "\n",
        "### Sintaxis básica de importación\n",
        "\n",
        "```python\n",
        "import nombre_libreria\n",
        "import nombre_libreria as alias\n",
        "from nombre_libreria import funcion, clase\n"
      ],
      "metadata": {
        "id": "122fVIJD10Me"
      }
    },
    {
      "cell_type": "code",
      "source": [
        "# Importar todo el módulo\n",
        "import math\n",
        "\n",
        "print(math.sqrt(16))   # 4.0\n",
        "print(math.pi)         # 3.141592653589793\n"
      ],
      "metadata": {
        "id": "UCaCfuaN14Y1"
      },
      "execution_count": null,
      "outputs": []
    },
    {
      "cell_type": "code",
      "source": [
        "# Importar solo una función\n",
        "from random import randint\n",
        "print(randint(1, 10))  # número entero aleatorio entre 1 y 10"
      ],
      "metadata": {
        "id": "hqtUbEtD16ZV"
      },
      "execution_count": null,
      "outputs": []
    },
    {
      "cell_type": "code",
      "source": [
        "# Usar un alias para abreviar\n",
        "import datetime as dt\n",
        "print(dt.date.today())  # Fecha actual"
      ],
      "metadata": {
        "id": "iuOkBbDo16LF"
      },
      "execution_count": null,
      "outputs": []
    },
    {
      "cell_type": "markdown",
      "source": [
        "## Métodos adicionales en Python\n",
        "\n",
        "Además de los métodos más comunes, Python ofrece muchos otros que pueden resultar muy prácticos en el día a día.  \n",
        "A continuación se muestran algunos ejemplos organizados por tipo de dato."
      ],
      "metadata": {
        "id": "4i09gYUpAo1-"
      }
    },
    {
      "cell_type": "markdown",
      "source": [
        "### Listas"
      ],
      "metadata": {
        "id": "JQn9IJv9_Gcn"
      }
    },
    {
      "cell_type": "code",
      "execution_count": null,
      "metadata": {
        "id": "Rm-QZjqG1rXP"
      },
      "outputs": [],
      "source": [
        "numeros = [1, 2, 3, 4, 5]\n",
        "\n",
        "# Invertir la lista (sin crear una nueva)\n",
        "numeros.reverse()\n",
        "print(numeros)  # [5, 4, 3, 2, 1]"
      ]
    },
    {
      "cell_type": "code",
      "source": [
        "# Copiar una lista\n",
        "copia = numeros.copy()\n",
        "print(copia)  # [5, 4, 3, 2, 1]"
      ],
      "metadata": {
        "id": "5BTjQPwf_OCP"
      },
      "execution_count": null,
      "outputs": []
    },
    {
      "cell_type": "code",
      "source": [
        "# Contar ocurrencias de un elemento\n",
        "print(copia.count(3))  # 1\n"
      ],
      "metadata": {
        "id": "tr0-_GM-_N5o"
      },
      "execution_count": null,
      "outputs": []
    },
    {
      "cell_type": "code",
      "source": [
        "# Insertar en una posición concreta\n",
        "copia.insert(0, 100)\n",
        "print(copia)  # [100, 5, 4, 3, 2, 1]"
      ],
      "metadata": {
        "id": "mqctHfoL_Nno"
      },
      "execution_count": null,
      "outputs": []
    },
    {
      "cell_type": "markdown",
      "source": [
        "### Cadenas de texto"
      ],
      "metadata": {
        "id": "mx5ScRn4_YqI"
      }
    },
    {
      "cell_type": "code",
      "source": [
        "texto = \"   Python es divertido!!!   \"\n",
        "\n",
        "# Elimina espacios en blanco al inicio y al final\n",
        "print(texto.strip())"
      ],
      "metadata": {
        "id": "gnK0Gp7x_X_4"
      },
      "execution_count": null,
      "outputs": []
    },
    {
      "cell_type": "code",
      "source": [
        "# Reemplazar\n",
        "print(texto.replace(\"divertido\", \"potente\"))  # \"   Python es potente!!!   \""
      ],
      "metadata": {
        "id": "7XKShH0t_jU_"
      },
      "execution_count": null,
      "outputs": []
    },
    {
      "cell_type": "code",
      "source": [
        "# Contar ocurrencias\n",
        "print(texto.count(\"!\"))  # 3"
      ],
      "metadata": {
        "id": "73PzQFUJ_jPX"
      },
      "execution_count": null,
      "outputs": []
    },
    {
      "cell_type": "code",
      "source": [
        "# Verificar prefijo o sufijo\n",
        "print(texto.startswith(\"   Py\"))  # True\n",
        "print(texto.endswith(\"!!!   \"))   # True"
      ],
      "metadata": {
        "id": "mOz5eLVh_jIg"
      },
      "execution_count": null,
      "outputs": []
    },
    {
      "cell_type": "code",
      "source": [
        "# Dividir en lista\n",
        "palabras = texto.split()\n",
        "print(palabras)  # ['Python', 'es', 'divertido!!!']"
      ],
      "metadata": {
        "id": "y81azYdc_i2P"
      },
      "execution_count": null,
      "outputs": []
    },
    {
      "cell_type": "code",
      "source": [
        "# Unir lista en un string\n",
        "print(\"-\".join(palabras))  # \"Python-es-divertido!!!\""
      ],
      "metadata": {
        "id": "34uFhVSg_ivQ"
      },
      "execution_count": null,
      "outputs": []
    },
    {
      "cell_type": "markdown",
      "source": [
        "### Diccionarios"
      ],
      "metadata": {
        "id": "VEaoG-4ZACo4"
      }
    },
    {
      "cell_type": "code",
      "source": [
        "persona = {\"nombre\": \"Ana\", \"edad\": 25, \"ciudad\": \"Madrid\"}\n",
        "\n",
        "# Obtener todas las claves\n",
        "print(persona.keys())  # dict_keys(['nombre', 'edad', 'ciudad'])"
      ],
      "metadata": {
        "id": "R-se_551_weY"
      },
      "execution_count": null,
      "outputs": []
    },
    {
      "cell_type": "code",
      "source": [
        "\n",
        "# Obtener todos los valores\n",
        "print(persona.values())  # dict_values(['Ana', 25, 'Madrid'])"
      ],
      "metadata": {
        "id": "23SO2KQNAHng"
      },
      "execution_count": null,
      "outputs": []
    },
    {
      "cell_type": "code",
      "source": [
        "# Obtener todos los pares clave-valor\n",
        "print(persona.items())  # dict_items([('nombre', 'Ana'), ('edad', 25), ('ciudad', 'Madrid')])"
      ],
      "metadata": {
        "id": "e8LksphFAHg_"
      },
      "execution_count": null,
      "outputs": []
    },
    {
      "cell_type": "code",
      "source": [
        "# Eliminar una clave y devolver su valor\n",
        "edad = persona.pop(\"edad\")\n",
        "print(edad)       # 25\n",
        "print(persona)    # {'nombre': 'Ana', 'ciudad': 'Madrid'}"
      ],
      "metadata": {
        "id": "aZ_WFRKtAHa5"
      },
      "execution_count": null,
      "outputs": []
    },
    {
      "cell_type": "code",
      "source": [
        "# Establecer un valor por defecto si la clave no existe\n",
        "ciudad = persona.setdefault(\"ciudad\", \"Barcelona\")\n",
        "print(ciudad)     # Madrid\n",
        "print(persona)    # {'nombre': 'Ana', 'ciudad': 'Madrid'}"
      ],
      "metadata": {
        "id": "xhHLFA0xAHUH"
      },
      "execution_count": null,
      "outputs": []
    },
    {
      "cell_type": "code",
      "source": [
        "edad= persona.setdefault(\"edad\", 18)\n",
        "print(edad)"
      ],
      "metadata": {
        "id": "i17jcUGabmNI"
      },
      "execution_count": null,
      "outputs": []
    },
    {
      "cell_type": "markdown",
      "source": [
        "### Conjuntos"
      ],
      "metadata": {
        "id": "x0NsYN2hAPmg"
      }
    },
    {
      "cell_type": "code",
      "source": [
        "conjunto1 = {1, 2, 3}\n",
        "conjunto2 = {3, 4, 5}\n",
        "\n",
        "# Unión\n",
        "print(conjunto1.union(conjunto2))  # {1, 2, 3, 4, 5}"
      ],
      "metadata": {
        "id": "bDdMU8l6APXo"
      },
      "execution_count": null,
      "outputs": []
    },
    {
      "cell_type": "code",
      "source": [
        "# Intersección\n",
        "print(conjunto1.intersection(conjunto2))  # {3}"
      ],
      "metadata": {
        "id": "4Nfjzy0CAeKP"
      },
      "execution_count": null,
      "outputs": []
    },
    {
      "cell_type": "code",
      "source": [
        "# Diferencia\n",
        "print(conjunto1.difference(conjunto2))  # {1, 2}"
      ],
      "metadata": {
        "id": "ciDQrwdOAeCv"
      },
      "execution_count": null,
      "outputs": []
    },
    {
      "cell_type": "code",
      "source": [
        "# Diferencia simétrica\n",
        "print(conjunto1.symmetric_difference(conjunto2))  # {1, 2, 4, 5}"
      ],
      "metadata": {
        "id": "QBZ5b79VAd6P"
      },
      "execution_count": null,
      "outputs": []
    },
    {
      "cell_type": "markdown",
      "metadata": {
        "id": "0zfvKuwh1rXP"
      },
      "source": [
        "¡Eso es todo amigos!"
      ]
    }
  ],
  "metadata": {
    "kernelspec": {
      "display_name": "Python 3",
      "language": "python",
      "name": "python3"
    },
    "language_info": {
      "codemirror_mode": {
        "name": "ipython",
        "version": 3
      },
      "file_extension": ".py",
      "mimetype": "text/x-python",
      "name": "python",
      "nbconvert_exporter": "python",
      "pygments_lexer": "ipython3",
      "version": "3.6.3"
    },
    "colab": {
      "provenance": [],
      "toc_visible": true
    }
  },
  "nbformat": 4,
  "nbformat_minor": 0
}