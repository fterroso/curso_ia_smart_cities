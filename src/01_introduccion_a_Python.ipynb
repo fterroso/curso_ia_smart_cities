{
  "cells": [
    {
      "cell_type": "markdown",
      "metadata": {
        "id": "1yHYENP-1rXB"
      },
      "source": [
        "# Introducción al languaje de programación Python\n",
        "\n",
        "Este cuaderno repasará los temas básicos del lenguaje de Python en orden:\n",
        "\n",
        "* Tipos de datos\n",
        "    * Números\n",
        "    * Cadenas\n",
        "    * Impresión\n",
        "    * Listas\n",
        "    * Diccionarios\n",
        "    * Booleanos\n",
        "    * Tuplas\n",
        "    * Conjuntos\n",
        "* Operadores de comparación\n",
        "* Sentencias if, elif, else\n",
        "* Bucles for\n",
        "* Bucles while\n",
        "* range()\n",
        "* Comprensión de listas\n",
        "* Funciones\n",
        "* Expresiones lambda\n",
        "* Map y filter\n",
        "* Métodos\n",
        "____"
      ]
    },
    {
      "cell_type": "markdown",
      "metadata": {
        "id": "2TLbfAOp1rXD"
      },
      "source": [
        "## Tipos de datos básicos en Python\n",
        "\n",
        "Python es un lenguaje **dinámicamente tipado**, lo que significa que no necesitamos indicar el tipo de dato al declarar una variable:  \n",
        "el intérprete lo deduce automáticamente en función del valor asignado.  \n",
        "\n",
        "Los principales tipos de datos básicos en Python son:\n",
        "\n"
      ]
    },
    {
      "cell_type": "markdown",
      "source": [
        "### 1. **Numéricos**\n",
        "   - `int`: números enteros (positivos, negativos o cero).\n",
        "   - `float`: números decimales (con parte fraccionaria).\n",
        "   - `complex`: números complejos con parte real e imaginaria."
      ],
      "metadata": {
        "id": "UeujfH-k6YCw"
      }
    },
    {
      "cell_type": "code",
      "source": [
        "# Ejemplos de tipos de datos básicos en Python\n",
        "\n",
        "# Números\n",
        "entero = 42\n",
        "decimal = 3.14\n",
        "complejo = 2 + 3j\n",
        "\n",
        "print(type(entero))    # <class 'int'>\n",
        "print(type(decimal))   # <class 'float'>\n",
        "print(type(complejo))  # <class 'complex'>"
      ],
      "metadata": {
        "id": "GZ-uOBYU3ZMo"
      },
      "execution_count": null,
      "outputs": []
    },
    {
      "cell_type": "markdown",
      "source": [
        "#### Operadores Numéricos"
      ],
      "metadata": {
        "id": "st3C3Bo13M2i"
      }
    },
    {
      "cell_type": "code",
      "execution_count": null,
      "metadata": {
        "id": "J_PMi7bo1rXD",
        "outputId": "696992a2-2c92-4a84-81dc-2466a243c9b8"
      },
      "outputs": [
        {
          "data": {
            "text/plain": [
              "2"
            ]
          },
          "execution_count": 6,
          "metadata": {},
          "output_type": "execute_result"
        }
      ],
      "source": [
        "1 + 1"
      ]
    },
    {
      "cell_type": "code",
      "execution_count": null,
      "metadata": {
        "id": "f-nFr8VJ1rXE",
        "outputId": "823e3ee6-733e-425c-b511-497323f42c54"
      },
      "outputs": [
        {
          "data": {
            "text/plain": [
              "3"
            ]
          },
          "execution_count": 7,
          "metadata": {},
          "output_type": "execute_result"
        }
      ],
      "source": [
        "1 * 3"
      ]
    },
    {
      "cell_type": "code",
      "execution_count": null,
      "metadata": {
        "id": "98RWP-oG1rXF",
        "outputId": "83ab108b-b3dc-4d9d-edf8-22f78df426bc"
      },
      "outputs": [
        {
          "data": {
            "text/plain": [
              "0.5"
            ]
          },
          "execution_count": 8,
          "metadata": {},
          "output_type": "execute_result"
        }
      ],
      "source": [
        "1 / 2"
      ]
    },
    {
      "cell_type": "code",
      "execution_count": null,
      "metadata": {
        "id": "61C2m2wO1rXF",
        "outputId": "fe56850d-7898-4b0a-f825-3f6af6c197b8"
      },
      "outputs": [
        {
          "data": {
            "text/plain": [
              "16"
            ]
          },
          "execution_count": 9,
          "metadata": {},
          "output_type": "execute_result"
        }
      ],
      "source": [
        "2 ** 4"
      ]
    },
    {
      "cell_type": "code",
      "execution_count": null,
      "metadata": {
        "id": "k1npqJ0M1rXF",
        "outputId": "cdd11e66-ddb1-416b-92ef-a8ca10916be8"
      },
      "outputs": [
        {
          "data": {
            "text/plain": [
              "0"
            ]
          },
          "execution_count": 10,
          "metadata": {},
          "output_type": "execute_result"
        }
      ],
      "source": [
        "4 % 2"
      ]
    },
    {
      "cell_type": "code",
      "execution_count": null,
      "metadata": {
        "id": "hIQ0d0Zf1rXF",
        "outputId": "779019a8-176f-46f4-9173-8baa9620810d"
      },
      "outputs": [
        {
          "data": {
            "text/plain": [
              "1"
            ]
          },
          "execution_count": 11,
          "metadata": {},
          "output_type": "execute_result"
        }
      ],
      "source": [
        "5 % 2"
      ]
    },
    {
      "cell_type": "code",
      "execution_count": null,
      "metadata": {
        "id": "fSi9u4Rx1rXF",
        "outputId": "fb91a3a8-3bdd-422f-f191-3ab04e8c8cf8"
      },
      "outputs": [
        {
          "data": {
            "text/plain": [
              "50"
            ]
          },
          "execution_count": 12,
          "metadata": {},
          "output_type": "execute_result"
        }
      ],
      "source": [
        "(2 + 3) * (5 + 5)"
      ]
    },
    {
      "cell_type": "markdown",
      "metadata": {
        "id": "JWDkAKDg1rXG"
      },
      "source": [
        "#### Asignación a variables"
      ]
    },
    {
      "cell_type": "code",
      "execution_count": null,
      "metadata": {
        "collapsed": true,
        "id": "r1a-_OEJ1rXG"
      },
      "outputs": [],
      "source": [
        "name_of_var = 2"
      ]
    },
    {
      "cell_type": "code",
      "execution_count": null,
      "metadata": {
        "collapsed": true,
        "id": "cBWR5z4g1rXG"
      },
      "outputs": [],
      "source": [
        "x = 2\n",
        "y = 3"
      ]
    },
    {
      "cell_type": "code",
      "execution_count": null,
      "metadata": {
        "collapsed": true,
        "id": "yHJKtOqN1rXG"
      },
      "outputs": [],
      "source": [
        "z = x + y"
      ]
    },
    {
      "cell_type": "code",
      "execution_count": null,
      "metadata": {
        "id": "HPMqfTRy1rXG",
        "outputId": "41078a04-0e14-495f-e7bc-3e8c8943b21e"
      },
      "outputs": [
        {
          "data": {
            "text/plain": [
              "5"
            ]
          },
          "execution_count": 16,
          "metadata": {},
          "output_type": "execute_result"
        }
      ],
      "source": [
        "z"
      ]
    },
    {
      "cell_type": "markdown",
      "metadata": {
        "id": "wJG3PKkE1rXG"
      },
      "source": [
        "### 2. **Texto**\n",
        "   - `str`: cadenas de texto, delimitadas con comillas simples `'...'` o dobles `\"...\"`.\n",
        "\n"
      ]
    },
    {
      "cell_type": "code",
      "source": [
        "# Texto\n",
        "nombre = \"Ana\"\n",
        "print(type(nombre))    # <class 'str'>\n"
      ],
      "metadata": {
        "colab": {
          "base_uri": "https://localhost:8080/"
        },
        "id": "aTVGC_0O3mbn",
        "outputId": "e04aff3e-59c5-42d8-fb24-ba663c45e794"
      },
      "execution_count": 1,
      "outputs": [
        {
          "output_type": "stream",
          "name": "stdout",
          "text": [
            "<class 'str'>\n"
          ]
        }
      ]
    },
    {
      "cell_type": "code",
      "execution_count": 2,
      "metadata": {
        "colab": {
          "base_uri": "https://localhost:8080/",
          "height": 36
        },
        "id": "LnFgA3uH1rXG",
        "outputId": "6d86016a-974e-410f-a1c3-19e16af05951"
      },
      "outputs": [
        {
          "output_type": "execute_result",
          "data": {
            "text/plain": [
              "'comillas simples'"
            ],
            "application/vnd.google.colaboratory.intrinsic+json": {
              "type": "string"
            }
          },
          "metadata": {},
          "execution_count": 2
        }
      ],
      "source": [
        "'comillas simples'"
      ]
    },
    {
      "cell_type": "code",
      "execution_count": 3,
      "metadata": {
        "colab": {
          "base_uri": "https://localhost:8080/",
          "height": 36
        },
        "id": "WJVSUk4a1rXG",
        "outputId": "48a85331-b666-416f-fc99-f3d8d7acf907"
      },
      "outputs": [
        {
          "output_type": "execute_result",
          "data": {
            "text/plain": [
              "'comillas dobles'"
            ],
            "application/vnd.google.colaboratory.intrinsic+json": {
              "type": "string"
            }
          },
          "metadata": {},
          "execution_count": 3
        }
      ],
      "source": [
        "\"comillas dobles\""
      ]
    },
    {
      "cell_type": "code",
      "execution_count": 4,
      "metadata": {
        "colab": {
          "base_uri": "https://localhost:8080/",
          "height": 36
        },
        "id": "AjS9ivXw1rXG",
        "outputId": "3aef02e9-f0ae-4c01-ef37-f8253c53c3a1"
      },
      "outputs": [
        {
          "output_type": "execute_result",
          "data": {
            "text/plain": [
              "\" wrap lot's of other quotes\""
            ],
            "application/vnd.google.colaboratory.intrinsic+json": {
              "type": "string"
            }
          },
          "metadata": {},
          "execution_count": 4
        }
      ],
      "source": [
        "\" wrap lot's of other quotes\""
      ]
    },
    {
      "cell_type": "markdown",
      "metadata": {
        "id": "qy3Bnv_L1rXG"
      },
      "source": [
        "### Impresión por pantalla"
      ]
    },
    {
      "cell_type": "code",
      "execution_count": null,
      "metadata": {
        "collapsed": true,
        "id": "txFQG2QL1rXG"
      },
      "outputs": [],
      "source": [
        "x = 'hola'"
      ]
    },
    {
      "cell_type": "code",
      "execution_count": null,
      "metadata": {
        "id": "molgBArl1rXH",
        "outputId": "2a7fd56a-1c28-476a-82d1-d62df6603578"
      },
      "outputs": [
        {
          "data": {
            "text/plain": [
              "'hello'"
            ]
          },
          "execution_count": 21,
          "metadata": {},
          "output_type": "execute_result"
        }
      ],
      "source": [
        "x"
      ]
    },
    {
      "cell_type": "code",
      "execution_count": null,
      "metadata": {
        "id": "ZZuqv3-P1rXH",
        "outputId": "c8adcc9e-ef38-42c1-8349-d9f0bbd342aa"
      },
      "outputs": [
        {
          "name": "stdout",
          "output_type": "stream",
          "text": [
            "hello\n"
          ]
        }
      ],
      "source": [
        "print(x)"
      ]
    },
    {
      "cell_type": "code",
      "execution_count": null,
      "metadata": {
        "collapsed": true,
        "id": "XMrFdPHW1rXH"
      },
      "outputs": [],
      "source": [
        "num = 12\n",
        "name = 'Sam'"
      ]
    },
    {
      "cell_type": "code",
      "execution_count": null,
      "metadata": {
        "id": "geuv0h1t1rXH",
        "outputId": "b324f137-3124-48df-ea00-bfaf79796874"
      },
      "outputs": [
        {
          "name": "stdout",
          "output_type": "stream",
          "text": [
            "My number is: 12, and my name is: Sam\n"
          ]
        }
      ],
      "source": [
        "print('Mi número es: {one}, y mi nombre es: {two}'.format(one=num,two=name))"
      ]
    },
    {
      "cell_type": "code",
      "execution_count": null,
      "metadata": {
        "id": "mkKT1hUj1rXH",
        "outputId": "f5417f49-f512-4165-8587-c681121c9134"
      },
      "outputs": [
        {
          "name": "stdout",
          "output_type": "stream",
          "text": [
            "My number is: 12, and my name is: Sam\n"
          ]
        }
      ],
      "source": [
        "print('Mi número es: {}, y mi nombre es: {}'.format(num,name))"
      ]
    },
    {
      "cell_type": "markdown",
      "metadata": {
        "id": "Qo7uql461rXH"
      },
      "source": [
        "\n",
        "\n",
        "### 4. **Secuencias**\n",
        "   - `list`: listas, ordenadas y mutables.\n",
        "   - `tuple`: tuplas, ordenadas e inmutables.\n",
        "   - `range`: secuencia de enteros generados automáticamente.\n",
        "\n",
        "\n"
      ]
    },
    {
      "cell_type": "markdown",
      "source": [
        "#### Listas"
      ],
      "metadata": {
        "id": "tW5i7Fyr4o1Q"
      }
    },
    {
      "cell_type": "code",
      "execution_count": null,
      "metadata": {
        "id": "7F5Qe0_C1rXH",
        "outputId": "e985097e-c720-493e-9bc4-654f7e1fa3b1"
      },
      "outputs": [
        {
          "data": {
            "text/plain": [
              "[1, 2, 3]"
            ]
          },
          "execution_count": 26,
          "metadata": {},
          "output_type": "execute_result"
        }
      ],
      "source": [
        "[1,2,3]"
      ]
    },
    {
      "cell_type": "code",
      "execution_count": null,
      "metadata": {
        "id": "5UA0NVTk1rXH",
        "outputId": "b344e963-d789-4d81-fb55-e55e3dbabd81"
      },
      "outputs": [
        {
          "data": {
            "text/plain": [
              "['hi', 1, [1, 2]]"
            ]
          },
          "execution_count": 27,
          "metadata": {},
          "output_type": "execute_result"
        }
      ],
      "source": [
        "['hi',1,[1,2]]"
      ]
    },
    {
      "cell_type": "code",
      "execution_count": null,
      "metadata": {
        "collapsed": true,
        "id": "RENYqxNp1rXH"
      },
      "outputs": [],
      "source": [
        "my_list = ['a','b','c']"
      ]
    },
    {
      "cell_type": "code",
      "execution_count": null,
      "metadata": {
        "collapsed": true,
        "id": "r78atmea1rXH"
      },
      "outputs": [],
      "source": [
        "my_list.append('d')"
      ]
    },
    {
      "cell_type": "code",
      "execution_count": null,
      "metadata": {
        "id": "zw7TKU2C1rXH",
        "outputId": "8c938e16-766e-466f-8905-f69bc1d924fc"
      },
      "outputs": [
        {
          "data": {
            "text/plain": [
              "['a', 'b', 'c', 'd']"
            ]
          },
          "execution_count": 30,
          "metadata": {},
          "output_type": "execute_result"
        }
      ],
      "source": [
        "my_list"
      ]
    },
    {
      "cell_type": "code",
      "execution_count": null,
      "metadata": {
        "id": "Ij9qLQWD1rXH",
        "outputId": "f9e07ce1-de7a-4c2a-dd14-5dc3d7aa2f7c"
      },
      "outputs": [
        {
          "data": {
            "text/plain": [
              "'a'"
            ]
          },
          "execution_count": 31,
          "metadata": {},
          "output_type": "execute_result"
        }
      ],
      "source": [
        "my_list[0]"
      ]
    },
    {
      "cell_type": "code",
      "execution_count": null,
      "metadata": {
        "id": "7jbzAMSF1rXH",
        "outputId": "a7b81ff5-6720-4ee0-aae4-04fe94ef738c"
      },
      "outputs": [
        {
          "data": {
            "text/plain": [
              "'b'"
            ]
          },
          "execution_count": 32,
          "metadata": {},
          "output_type": "execute_result"
        }
      ],
      "source": [
        "my_list[1]"
      ]
    },
    {
      "cell_type": "code",
      "execution_count": null,
      "metadata": {
        "id": "NhKAngxw1rXH",
        "outputId": "e521cf05-763f-4b87-946d-0cfa4a7c6c23"
      },
      "outputs": [
        {
          "data": {
            "text/plain": [
              "['b', 'c', 'd']"
            ]
          },
          "execution_count": 33,
          "metadata": {},
          "output_type": "execute_result"
        }
      ],
      "source": [
        "my_list[1:]"
      ]
    },
    {
      "cell_type": "code",
      "execution_count": null,
      "metadata": {
        "id": "V_52BmZX1rXH",
        "outputId": "f1b225de-0d55-45e9-a494-5d9b112cd985"
      },
      "outputs": [
        {
          "data": {
            "text/plain": [
              "['a']"
            ]
          },
          "execution_count": 34,
          "metadata": {},
          "output_type": "execute_result"
        }
      ],
      "source": [
        "my_list[:1]"
      ]
    },
    {
      "cell_type": "code",
      "execution_count": null,
      "metadata": {
        "collapsed": true,
        "id": "D1NpfFhx1rXH"
      },
      "outputs": [],
      "source": [
        "my_list[0] = 'NUEVO'"
      ]
    },
    {
      "cell_type": "code",
      "execution_count": null,
      "metadata": {
        "id": "1dVwE3Fx1rXH",
        "outputId": "23b3761b-7c82-4a15-b442-1e0119087471"
      },
      "outputs": [
        {
          "data": {
            "text/plain": [
              "['NEW', 'b', 'c', 'd']"
            ]
          },
          "execution_count": 98,
          "metadata": {},
          "output_type": "execute_result"
        }
      ],
      "source": [
        "my_list"
      ]
    },
    {
      "cell_type": "code",
      "execution_count": null,
      "metadata": {
        "collapsed": true,
        "id": "C2jWLH2u1rXH"
      },
      "outputs": [],
      "source": [
        "nest = [1,2,3,[4,5,['target']]]"
      ]
    },
    {
      "cell_type": "code",
      "execution_count": null,
      "metadata": {
        "id": "ItWJVIXe1rXH",
        "outputId": "b65a5d16-e950-4e67-ec09-ba7f2476a528"
      },
      "outputs": [
        {
          "data": {
            "text/plain": [
              "[4, 5, ['target']]"
            ]
          },
          "execution_count": 100,
          "metadata": {},
          "output_type": "execute_result"
        }
      ],
      "source": [
        "nest[3]"
      ]
    },
    {
      "cell_type": "code",
      "execution_count": null,
      "metadata": {
        "id": "DsvFAb8q1rXK",
        "outputId": "a9d461c9-f2ed-445b-91d9-0c9bd8c4ad4e"
      },
      "outputs": [
        {
          "data": {
            "text/plain": [
              "['target']"
            ]
          },
          "execution_count": 101,
          "metadata": {},
          "output_type": "execute_result"
        }
      ],
      "source": [
        "nest[3][2]"
      ]
    },
    {
      "cell_type": "code",
      "execution_count": null,
      "metadata": {
        "id": "L_sFIzFR1rXK",
        "outputId": "338e5350-fd64-4e2e-d34d-4f09918222fa"
      },
      "outputs": [
        {
          "data": {
            "text/plain": [
              "'target'"
            ]
          },
          "execution_count": 102,
          "metadata": {},
          "output_type": "execute_result"
        }
      ],
      "source": [
        "nest[3][2][0]"
      ]
    },
    {
      "cell_type": "markdown",
      "source": [
        "#### Tuplas"
      ],
      "metadata": {
        "id": "IQ93A_Di4xVP"
      }
    },
    {
      "cell_type": "code",
      "source": [
        "t = (1,2,3)"
      ],
      "metadata": {
        "id": "eeSbSe5v4zUH"
      },
      "execution_count": null,
      "outputs": []
    },
    {
      "cell_type": "code",
      "source": [
        "t[0]"
      ],
      "metadata": {
        "id": "oGbMMvw642A4"
      },
      "execution_count": null,
      "outputs": []
    },
    {
      "cell_type": "code",
      "source": [
        "t[0] = 'NEW'"
      ],
      "metadata": {
        "id": "5nYEebly45Ip"
      },
      "execution_count": null,
      "outputs": []
    },
    {
      "cell_type": "markdown",
      "metadata": {
        "id": "CTa57sGY1rXK"
      },
      "source": [
        "\n",
        " ### 6. **Diccionarios**\n",
        "   - `dict`: pares clave–valor."
      ]
    },
    {
      "cell_type": "code",
      "execution_count": null,
      "metadata": {
        "collapsed": true,
        "id": "Dkbac-9V1rXK"
      },
      "outputs": [],
      "source": [
        "d = {'key1':'item1','key2':'item2'}"
      ]
    },
    {
      "cell_type": "code",
      "execution_count": null,
      "metadata": {
        "id": "aluqgwB11rXL",
        "outputId": "72900cc1-49f2-40ad-ad69-7d0636bb7800"
      },
      "outputs": [
        {
          "data": {
            "text/plain": [
              "{'key1': 'item1', 'key2': 'item2'}"
            ]
          },
          "execution_count": 38,
          "metadata": {},
          "output_type": "execute_result"
        }
      ],
      "source": [
        "d"
      ]
    },
    {
      "cell_type": "code",
      "execution_count": null,
      "metadata": {
        "id": "F_PTQ5oc1rXL",
        "outputId": "d4c5d2b3-1cb8-4533-8d5d-67af9af81fd0"
      },
      "outputs": [
        {
          "data": {
            "text/plain": [
              "'item1'"
            ]
          },
          "execution_count": 39,
          "metadata": {},
          "output_type": "execute_result"
        }
      ],
      "source": [
        "d['key1']"
      ]
    },
    {
      "cell_type": "markdown",
      "metadata": {
        "id": "EVdR76L71rXL"
      },
      "source": [
        "###3. **Booleanos**\n",
        "   - `bool`: valores lógicos `True` o `False`."
      ]
    },
    {
      "cell_type": "code",
      "execution_count": null,
      "metadata": {
        "id": "rAIv_ZC11rXL",
        "outputId": "08552d67-259e-445d-adfd-1e047e4d9392"
      },
      "outputs": [
        {
          "data": {
            "text/plain": [
              "True"
            ]
          },
          "execution_count": 40,
          "metadata": {},
          "output_type": "execute_result"
        }
      ],
      "source": [
        "True"
      ]
    },
    {
      "cell_type": "code",
      "execution_count": null,
      "metadata": {
        "id": "6PreE2p01rXL",
        "outputId": "ba63c641-45e6-4536-81a3-7349aa529909"
      },
      "outputs": [
        {
          "data": {
            "text/plain": [
              "False"
            ]
          },
          "execution_count": 41,
          "metadata": {},
          "output_type": "execute_result"
        }
      ],
      "source": [
        "False"
      ]
    },
    {
      "cell_type": "markdown",
      "metadata": {
        "id": "czPofyC41rXL"
      },
      "source": [
        "### 5. **Conjuntos**\n",
        "   - `set`: colección de elementos únicos, sin orden.\n",
        "   - `frozenset`: como `set` pero inmutable."
      ]
    },
    {
      "cell_type": "code",
      "execution_count": null,
      "metadata": {
        "id": "lXSX5rYk1rXL",
        "outputId": "fe50723c-2179-4fdd-c5ed-0781ba040bc7"
      },
      "outputs": [
        {
          "data": {
            "text/plain": [
              "{1, 2, 3}"
            ]
          },
          "execution_count": 45,
          "metadata": {},
          "output_type": "execute_result"
        }
      ],
      "source": [
        "{1,2,3}"
      ]
    },
    {
      "cell_type": "code",
      "execution_count": null,
      "metadata": {
        "id": "eeIYhG3y1rXL",
        "outputId": "395ef1b9-4fce-4314-df81-2bd0e172da08"
      },
      "outputs": [
        {
          "data": {
            "text/plain": [
              "{1, 2, 3}"
            ]
          },
          "execution_count": 46,
          "metadata": {},
          "output_type": "execute_result"
        }
      ],
      "source": [
        "{1,2,3,1,2,1,2,3,3,3,3,2,2,2,1,1,2}"
      ]
    },
    {
      "cell_type": "markdown",
      "metadata": {
        "id": "8E1TX7hZ1rXL"
      },
      "source": [
        "## Operadores de comparación"
      ]
    },
    {
      "cell_type": "code",
      "execution_count": null,
      "metadata": {
        "id": "LNiVTbOi1rXL",
        "outputId": "7fb6e9f7-e2c7-45f3-ba4f-a822a1d341a0"
      },
      "outputs": [
        {
          "data": {
            "text/plain": [
              "False"
            ]
          },
          "execution_count": 47,
          "metadata": {},
          "output_type": "execute_result"
        }
      ],
      "source": [
        "1 > 2"
      ]
    },
    {
      "cell_type": "code",
      "execution_count": null,
      "metadata": {
        "id": "p6YImM0i1rXL",
        "outputId": "6ca2fc7a-cb57-400a-dfdd-bf408c4fe52a"
      },
      "outputs": [
        {
          "data": {
            "text/plain": [
              "True"
            ]
          },
          "execution_count": 48,
          "metadata": {},
          "output_type": "execute_result"
        }
      ],
      "source": [
        "1 < 2"
      ]
    },
    {
      "cell_type": "code",
      "execution_count": null,
      "metadata": {
        "id": "XPjo-4an1rXL",
        "outputId": "71ae6f55-d069-4bb4-fca7-d561ed232caa"
      },
      "outputs": [
        {
          "data": {
            "text/plain": [
              "True"
            ]
          },
          "execution_count": 49,
          "metadata": {},
          "output_type": "execute_result"
        }
      ],
      "source": [
        "1 >= 1"
      ]
    },
    {
      "cell_type": "code",
      "execution_count": null,
      "metadata": {
        "id": "AVRA-mf61rXL",
        "outputId": "e6d2e8de-5959-4e94-dea9-3830a3bc7ecc"
      },
      "outputs": [
        {
          "data": {
            "text/plain": [
              "True"
            ]
          },
          "execution_count": 50,
          "metadata": {},
          "output_type": "execute_result"
        }
      ],
      "source": [
        "1 <= 4"
      ]
    },
    {
      "cell_type": "code",
      "execution_count": null,
      "metadata": {
        "id": "jpeQLaK91rXL",
        "outputId": "e8dde7a1-314c-4212-9a9c-3c0c840a360d"
      },
      "outputs": [
        {
          "data": {
            "text/plain": [
              "True"
            ]
          },
          "execution_count": 51,
          "metadata": {},
          "output_type": "execute_result"
        }
      ],
      "source": [
        "1 == 1"
      ]
    },
    {
      "cell_type": "code",
      "execution_count": null,
      "metadata": {
        "id": "1sXel_fO1rXM",
        "outputId": "4994ca41-605d-4699-eed8-bf221c6de45a"
      },
      "outputs": [
        {
          "data": {
            "text/plain": [
              "False"
            ]
          },
          "execution_count": 52,
          "metadata": {},
          "output_type": "execute_result"
        }
      ],
      "source": [
        "'hi' == 'bye'"
      ]
    },
    {
      "cell_type": "markdown",
      "metadata": {
        "id": "n29DT3Sf1rXM"
      },
      "source": [
        "## Operadores Lógicos"
      ]
    },
    {
      "cell_type": "code",
      "execution_count": null,
      "metadata": {
        "id": "lsKJTFTC1rXM",
        "outputId": "649c7a48-58fc-4ed7-fb44-02dce0fa3028"
      },
      "outputs": [
        {
          "data": {
            "text/plain": [
              "False"
            ]
          },
          "execution_count": 53,
          "metadata": {},
          "output_type": "execute_result"
        }
      ],
      "source": [
        "(1 > 2) and (2 < 3)"
      ]
    },
    {
      "cell_type": "code",
      "execution_count": null,
      "metadata": {
        "id": "2BhNRkhz1rXM",
        "outputId": "a2228fe2-ee20-482f-d9ef-4069b910b88e"
      },
      "outputs": [
        {
          "data": {
            "text/plain": [
              "True"
            ]
          },
          "execution_count": 54,
          "metadata": {},
          "output_type": "execute_result"
        }
      ],
      "source": [
        "(1 > 2) or (2 < 3)"
      ]
    },
    {
      "cell_type": "code",
      "execution_count": null,
      "metadata": {
        "id": "G934-M9g1rXM",
        "outputId": "edb8c643-18f1-45c8-9295-a4048f19a766"
      },
      "outputs": [
        {
          "data": {
            "text/plain": [
              "True"
            ]
          },
          "execution_count": 55,
          "metadata": {},
          "output_type": "execute_result"
        }
      ],
      "source": [
        "(1 == 2) or (2 == 3) or (4 == 4)"
      ]
    },
    {
      "cell_type": "markdown",
      "metadata": {
        "id": "5jMavisN1rXM"
      },
      "source": [
        "## Operadores condicionales\n",
        "\n",
        "`if,elif, else`"
      ]
    },
    {
      "cell_type": "code",
      "execution_count": null,
      "metadata": {
        "id": "oPrQoLlv1rXM",
        "outputId": "71b72bd3-92af-4b37-a536-3356876e9a0a"
      },
      "outputs": [
        {
          "name": "stdout",
          "output_type": "stream",
          "text": [
            "Yep!\n"
          ]
        }
      ],
      "source": [
        "if 1 < 2:\n",
        "    print('Yep!')"
      ]
    },
    {
      "cell_type": "code",
      "execution_count": null,
      "metadata": {
        "id": "jHjRBNd31rXM",
        "outputId": "07b0b94d-b32f-4d3e-fdad-8fb248627e33"
      },
      "outputs": [
        {
          "name": "stdout",
          "output_type": "stream",
          "text": [
            "yep!\n"
          ]
        }
      ],
      "source": [
        "if 1 < 2:\n",
        "    print('yep!')"
      ]
    },
    {
      "cell_type": "code",
      "execution_count": null,
      "metadata": {
        "id": "qeSbT6p21rXM",
        "outputId": "99d3fbf5-e2c3-437e-d207-716191c1c704"
      },
      "outputs": [
        {
          "name": "stdout",
          "output_type": "stream",
          "text": [
            "first\n"
          ]
        }
      ],
      "source": [
        "if 1 < 2:\n",
        "    print('first')\n",
        "else:\n",
        "    print('last')"
      ]
    },
    {
      "cell_type": "code",
      "execution_count": null,
      "metadata": {
        "id": "fovabCNd1rXM",
        "outputId": "58257c02-f480-43e6-975a-e16c3dbaa6a2"
      },
      "outputs": [
        {
          "name": "stdout",
          "output_type": "stream",
          "text": [
            "last\n"
          ]
        }
      ],
      "source": [
        "if 1 > 2:\n",
        "    print('first')\n",
        "else:\n",
        "    print('last')"
      ]
    },
    {
      "cell_type": "code",
      "execution_count": null,
      "metadata": {
        "id": "dG_JcyVl1rXM",
        "outputId": "41f24e30-abb0-4e7c-bb6e-8844db410bc2"
      },
      "outputs": [
        {
          "name": "stdout",
          "output_type": "stream",
          "text": [
            "middle\n"
          ]
        }
      ],
      "source": [
        "if 1 == 2:\n",
        "    print('first')\n",
        "elif 3 == 3:\n",
        "    print('middle')\n",
        "else:\n",
        "    print('Last')"
      ]
    },
    {
      "cell_type": "markdown",
      "metadata": {
        "id": "SIhIZPUr1rXM"
      },
      "source": [
        "## Bucles `for`"
      ]
    },
    {
      "cell_type": "code",
      "execution_count": null,
      "metadata": {
        "id": "S3VDFk0R1rXM"
      },
      "outputs": [],
      "source": [
        "seq = [1,2,3,4,5]"
      ]
    },
    {
      "cell_type": "code",
      "execution_count": null,
      "metadata": {
        "id": "aOJ28gV01rXM",
        "outputId": "86a442fb-18bf-4e64-c354-2d8896781a3e"
      },
      "outputs": [
        {
          "name": "stdout",
          "output_type": "stream",
          "text": [
            "1\n",
            "2\n",
            "3\n",
            "4\n",
            "5\n"
          ]
        }
      ],
      "source": [
        "for item in seq:\n",
        "    print(item)"
      ]
    },
    {
      "cell_type": "code",
      "execution_count": null,
      "metadata": {
        "id": "SToDAijC1rXM",
        "outputId": "9e79254c-7510-468b-b990-fed04227144a"
      },
      "outputs": [
        {
          "name": "stdout",
          "output_type": "stream",
          "text": [
            "Yep\n",
            "Yep\n",
            "Yep\n",
            "Yep\n",
            "Yep\n"
          ]
        }
      ],
      "source": [
        "for item in seq:\n",
        "    print('Sí')"
      ]
    },
    {
      "cell_type": "code",
      "execution_count": null,
      "metadata": {
        "id": "DwW4Kd4k1rXN",
        "outputId": "3b6623e7-2d07-4b79-83f4-a73b0dc70d8f"
      },
      "outputs": [
        {
          "name": "stdout",
          "output_type": "stream",
          "text": [
            "2\n",
            "4\n",
            "6\n",
            "8\n",
            "10\n"
          ]
        }
      ],
      "source": [
        "for jelly in seq:\n",
        "    print(jelly+jelly)"
      ]
    },
    {
      "cell_type": "markdown",
      "metadata": {
        "id": "yLJIiTKV1rXN"
      },
      "source": [
        "## Bucles `while`"
      ]
    },
    {
      "cell_type": "code",
      "execution_count": null,
      "metadata": {
        "id": "mgdF_3R41rXN",
        "outputId": "b2ffaddb-d02f-4315-c52b-293f36098b5f"
      },
      "outputs": [
        {
          "name": "stdout",
          "output_type": "stream",
          "text": [
            "i is: 1\n",
            "i is: 2\n",
            "i is: 3\n",
            "i is: 4\n"
          ]
        }
      ],
      "source": [
        "i = 1\n",
        "while i < 5:\n",
        "    print('i is: {}'.format(i))\n",
        "    i = i+1"
      ]
    },
    {
      "cell_type": "markdown",
      "metadata": {
        "id": "93YvKLoT1rXN"
      },
      "source": [
        "## Operador `range`"
      ]
    },
    {
      "cell_type": "code",
      "execution_count": null,
      "metadata": {
        "id": "zEarqp-I1rXN",
        "outputId": "f34eeff6-6b8b-4cdc-863e-2a4ec2888e5b"
      },
      "outputs": [
        {
          "data": {
            "text/plain": [
              "range(0, 5)"
            ]
          },
          "execution_count": 66,
          "metadata": {},
          "output_type": "execute_result"
        }
      ],
      "source": [
        "range(5)"
      ]
    },
    {
      "cell_type": "code",
      "execution_count": null,
      "metadata": {
        "id": "4wtmGBoK1rXN",
        "outputId": "b0f3d15b-3fe8-426b-ab95-5e851f797ce5"
      },
      "outputs": [
        {
          "name": "stdout",
          "output_type": "stream",
          "text": [
            "0\n",
            "1\n",
            "2\n",
            "3\n",
            "4\n"
          ]
        }
      ],
      "source": [
        "for i in range(5):\n",
        "    print(i)"
      ]
    },
    {
      "cell_type": "code",
      "execution_count": null,
      "metadata": {
        "id": "L2jYegdr1rXN",
        "outputId": "9885eb1f-2f9a-4516-d6ab-6834837bc399"
      },
      "outputs": [
        {
          "data": {
            "text/plain": [
              "[0, 1, 2, 3, 4]"
            ]
          },
          "execution_count": 68,
          "metadata": {},
          "output_type": "execute_result"
        }
      ],
      "source": [
        "list(range(5))"
      ]
    },
    {
      "cell_type": "markdown",
      "metadata": {
        "id": "i0ZN--LE1rXN"
      },
      "source": [
        "## list comprehension"
      ]
    },
    {
      "cell_type": "code",
      "execution_count": null,
      "metadata": {
        "collapsed": true,
        "id": "QQicoR5i1rXN"
      },
      "outputs": [],
      "source": [
        "x = [1,2,3,4]"
      ]
    },
    {
      "cell_type": "code",
      "execution_count": null,
      "metadata": {
        "id": "4q76Dqcp1rXN",
        "outputId": "ee22c2f5-bec5-4399-fc05-f62e0913163b"
      },
      "outputs": [
        {
          "name": "stdout",
          "output_type": "stream",
          "text": [
            "[1, 4, 9, 16]\n"
          ]
        }
      ],
      "source": [
        "out = []\n",
        "for item in x:\n",
        "    out.append(item**2)\n",
        "print(out)"
      ]
    },
    {
      "cell_type": "code",
      "execution_count": null,
      "metadata": {
        "id": "55fF0xF_1rXN",
        "outputId": "22b15c44-4f46-48cb-f5a9-70cdbb6b7aa3"
      },
      "outputs": [
        {
          "data": {
            "text/plain": [
              "[1, 4, 9, 16]"
            ]
          },
          "execution_count": 71,
          "metadata": {},
          "output_type": "execute_result"
        }
      ],
      "source": [
        "[item**2 for item in x]"
      ]
    },
    {
      "cell_type": "markdown",
      "metadata": {
        "id": "X2oHpP911rXN"
      },
      "source": [
        "## Funciones"
      ]
    },
    {
      "cell_type": "code",
      "execution_count": null,
      "metadata": {
        "collapsed": true,
        "id": "H5WVIy8-1rXN"
      },
      "outputs": [],
      "source": [
        "def my_func(param1='default'):\n",
        "    \"\"\"\n",
        "    Docstring para explicar la funcionalidad, entrada y salida de la función.\n",
        "    \"\"\"\n",
        "    print(param1)"
      ]
    },
    {
      "cell_type": "code",
      "execution_count": null,
      "metadata": {
        "id": "ypyLkXRe1rXN",
        "outputId": "e43ae43b-0dcc-4628-8ce3-99a0f215538d"
      },
      "outputs": [
        {
          "data": {
            "text/plain": [
              "<function __main__.my_func>"
            ]
          },
          "execution_count": 73,
          "metadata": {},
          "output_type": "execute_result"
        }
      ],
      "source": [
        "my_func"
      ]
    },
    {
      "cell_type": "code",
      "execution_count": null,
      "metadata": {
        "id": "7QxRUTj91rXN",
        "outputId": "d48f52e7-1d73-4120-f14e-64d06ec3a4ed"
      },
      "outputs": [
        {
          "name": "stdout",
          "output_type": "stream",
          "text": [
            "default\n"
          ]
        }
      ],
      "source": [
        "my_func()"
      ]
    },
    {
      "cell_type": "code",
      "execution_count": null,
      "metadata": {
        "id": "UJo-gkKl1rXN",
        "outputId": "79985019-3a45-43b1-b67f-87ab8f55f080"
      },
      "outputs": [
        {
          "name": "stdout",
          "output_type": "stream",
          "text": [
            "new param\n"
          ]
        }
      ],
      "source": [
        "my_func('new param')"
      ]
    },
    {
      "cell_type": "code",
      "execution_count": null,
      "metadata": {
        "id": "ddhce1LX1rXN",
        "outputId": "c37e3fa8-773f-4ec1-da40-5fa880c86e68"
      },
      "outputs": [
        {
          "name": "stdout",
          "output_type": "stream",
          "text": [
            "new param\n"
          ]
        }
      ],
      "source": [
        "my_func(param1='new param')"
      ]
    },
    {
      "cell_type": "code",
      "execution_count": null,
      "metadata": {
        "collapsed": true,
        "id": "BBONEmb61rXN"
      },
      "outputs": [],
      "source": [
        "def square(x):\n",
        "    return x**2"
      ]
    },
    {
      "cell_type": "code",
      "execution_count": null,
      "metadata": {
        "collapsed": true,
        "id": "SCt74fjh1rXO"
      },
      "outputs": [],
      "source": [
        "out = square(2)"
      ]
    },
    {
      "cell_type": "code",
      "execution_count": null,
      "metadata": {
        "scrolled": true,
        "id": "jXZ8FozJ1rXO",
        "outputId": "3009f76f-6a4c-47df-d348-9e8d19ddc4e5"
      },
      "outputs": [
        {
          "name": "stdout",
          "output_type": "stream",
          "text": [
            "4\n"
          ]
        }
      ],
      "source": [
        "print(out)"
      ]
    },
    {
      "cell_type": "markdown",
      "source": [
        "#### Definición de funciones con anotaciones de tipo\n",
        "\n",
        "En Python se pueden indicar los **tipos de datos esperados** en los argumentos de una función, así como el **tipo de dato de salida**, usando *type hints*.  \n",
        "Esto no obliga a Python a verificar los tipos en tiempo de ejecución, pero ayuda a la legibilidad del código y a herramientas como linters o editores (por ejemplo, VS Code o PyCharm).\n"
      ],
      "metadata": {
        "id": "oEiSmLTz7ipA"
      }
    },
    {
      "cell_type": "code",
      "source": [
        "def suma(a: int, b: int) -> int:\n",
        "    \"\"\"\n",
        "    Suma dos números enteros.\n",
        "\n",
        "    Args:\n",
        "        a (int): Primer número.\n",
        "        b (int): Segundo número.\n",
        "\n",
        "    Returns:\n",
        "        int: La suma de ambos números.\n",
        "    \"\"\"\n",
        "    return a + b\n",
        "\n",
        "print(suma(3, 5))  # 8\n"
      ],
      "metadata": {
        "id": "2Z4XqAjm7oUG"
      },
      "execution_count": null,
      "outputs": []
    },
    {
      "cell_type": "markdown",
      "source": [
        "También se pueden usar tipos más complejos, como `list`, `dict`, `tuple`, etc.\n"
      ],
      "metadata": {
        "id": "r4HRAI9x7wMy"
      }
    },
    {
      "cell_type": "code",
      "source": [
        "from typing import List, Dict, Tuple\n",
        "\n",
        "def promedio(numeros: List[float]) -> float:\n",
        "    \"\"\"\n",
        "    Calcula el promedio de una lista de números.\n",
        "    \"\"\"\n",
        "    return sum(numeros) / len(numeros)\n",
        "\n",
        "print(promedio([10, 20, 30]))  # 20.0\n"
      ],
      "metadata": {
        "id": "8lqWvSOZ7vpQ"
      },
      "execution_count": null,
      "outputs": []
    },
    {
      "cell_type": "markdown",
      "metadata": {
        "id": "18uHKepD1rXO"
      },
      "source": [
        "## Expresiones `lambda`\n",
        "\n",
        "Las funciones *lambda* son funciones anónimas (sin nombre) que se definen en una sola línea.  \n",
        "Se usan principalmente cuando necesitamos una función \"rápida\" y de corta duración."
      ]
    },
    {
      "cell_type": "code",
      "source": [
        "# Sintaxis general:\n",
        "# lambda argumentos: expresión\n",
        "\n",
        "cuadrado = lambda x: x ** 2\n",
        "print(cuadrado(5))  # 25\n",
        "\n",
        "suma = lambda a, b: a + b\n",
        "print(suma(3, 7))  # 10"
      ],
      "metadata": {
        "id": "UerdhzNl8OHH"
      },
      "execution_count": null,
      "outputs": []
    },
    {
      "cell_type": "code",
      "execution_count": null,
      "metadata": {
        "collapsed": true,
        "id": "89dHwCP91rXO"
      },
      "outputs": [],
      "source": [
        "def times2(var):\n",
        "    return var*2"
      ]
    },
    {
      "cell_type": "code",
      "execution_count": null,
      "metadata": {
        "id": "qkOIGQN51rXO",
        "outputId": "f16c1c02-ccc0-4480-ab14-90aaa2b4fd4e"
      },
      "outputs": [
        {
          "data": {
            "text/plain": [
              "4"
            ]
          },
          "execution_count": 81,
          "metadata": {},
          "output_type": "execute_result"
        }
      ],
      "source": [
        "times2(2)"
      ]
    },
    {
      "cell_type": "code",
      "execution_count": null,
      "metadata": {
        "id": "xMnvy8ef1rXO",
        "outputId": "a639e6ec-7d24-47b5-e720-3f5c3f74d3b0"
      },
      "outputs": [
        {
          "data": {
            "text/plain": [
              "<function __main__.<lambda>>"
            ]
          },
          "execution_count": 82,
          "metadata": {},
          "output_type": "execute_result"
        }
      ],
      "source": [
        "lambda var: var*2"
      ]
    },
    {
      "cell_type": "code",
      "source": [],
      "metadata": {
        "id": "IQr7V3A88Mnv"
      },
      "execution_count": null,
      "outputs": []
    },
    {
      "cell_type": "markdown",
      "metadata": {
        "id": "5jjxGs7r1rXO"
      },
      "source": [
        "### Funciones `map` y `filter`"
      ]
    },
    {
      "cell_type": "code",
      "execution_count": null,
      "metadata": {
        "collapsed": true,
        "id": "wR55QjTn1rXO"
      },
      "outputs": [],
      "source": [
        "seq = [1,2,3,4,5]"
      ]
    },
    {
      "cell_type": "code",
      "execution_count": null,
      "metadata": {
        "id": "2P7zptXY1rXO",
        "outputId": "08358639-78f0-4c3d-c766-ffc2fc58dafc"
      },
      "outputs": [
        {
          "data": {
            "text/plain": [
              "<map at 0x105316748>"
            ]
          },
          "execution_count": 84,
          "metadata": {},
          "output_type": "execute_result"
        }
      ],
      "source": [
        "map(times2,seq)"
      ]
    },
    {
      "cell_type": "code",
      "execution_count": null,
      "metadata": {
        "id": "CH3btrlT1rXO",
        "outputId": "88e7dc5f-e112-4537-bdac-7e362630d8a7"
      },
      "outputs": [
        {
          "data": {
            "text/plain": [
              "[2, 4, 6, 8, 10]"
            ]
          },
          "execution_count": 85,
          "metadata": {},
          "output_type": "execute_result"
        }
      ],
      "source": [
        "list(map(times2,seq))"
      ]
    },
    {
      "cell_type": "code",
      "execution_count": null,
      "metadata": {
        "id": "3IAqK32h1rXO",
        "outputId": "9fa9719c-5395-42ac-d3c8-b2fab3dfd214"
      },
      "outputs": [
        {
          "data": {
            "text/plain": [
              "[2, 4, 6, 8, 10]"
            ]
          },
          "execution_count": 86,
          "metadata": {},
          "output_type": "execute_result"
        }
      ],
      "source": [
        "list(map(lambda var: var*2,seq))"
      ]
    },
    {
      "cell_type": "code",
      "execution_count": null,
      "metadata": {
        "id": "nsYIbHm01rXO",
        "outputId": "ef934fce-287d-4905-b743-7eeb511765bb"
      },
      "outputs": [
        {
          "data": {
            "text/plain": [
              "<filter at 0x105316ac8>"
            ]
          },
          "execution_count": 87,
          "metadata": {},
          "output_type": "execute_result"
        }
      ],
      "source": [
        "filter(lambda item: item%2 == 0,seq)"
      ]
    },
    {
      "cell_type": "code",
      "execution_count": null,
      "metadata": {
        "id": "R1rksRcJ1rXO",
        "outputId": "aa7be521-68fe-43d5-a23c-a873525cceee"
      },
      "outputs": [
        {
          "data": {
            "text/plain": [
              "[2, 4]"
            ]
          },
          "execution_count": 88,
          "metadata": {},
          "output_type": "execute_result"
        }
      ],
      "source": [
        "list(filter(lambda item: item%2 == 0,seq))"
      ]
    },
    {
      "cell_type": "markdown",
      "source": [
        "Vamos a usar `map` y `filter` de forma conjunta"
      ],
      "metadata": {
        "id": "0cliJVqq8kPg"
      }
    },
    {
      "cell_type": "code",
      "source": [
        "# Lista de números\n",
        "numeros = [1, 2, 3, 4, 5, 6, 7, 8, 9]\n",
        "\n",
        "# Paso 1: elevar al cuadrado cada número usando map\n",
        "cuadrados = map(lambda x: x**2, numeros)\n",
        "\n",
        "# Paso 2: quedarnos solo con los pares usando filter\n",
        "cuadrados_pares = filter(lambda x: x % 2 == 0, cuadrados)\n",
        "\n",
        "# Convertimos a lista para ver el resultado\n",
        "resultado = list(cuadrados_pares)\n",
        "print(resultado)  # [4, 16, 36, 64]"
      ],
      "metadata": {
        "id": "TwQt_6pD8jR_"
      },
      "execution_count": null,
      "outputs": []
    },
    {
      "cell_type": "markdown",
      "metadata": {
        "id": "MW1wuusP1rXO"
      },
      "source": [
        "## methods"
      ]
    },
    {
      "cell_type": "code",
      "execution_count": null,
      "metadata": {
        "collapsed": true,
        "id": "QbsIESLz1rXO"
      },
      "outputs": [],
      "source": [
        "st = 'hola mi nombre es fernando'"
      ]
    },
    {
      "cell_type": "code",
      "execution_count": null,
      "metadata": {
        "id": "taLx5BUz1rXO",
        "outputId": "bdb242b7-6949-4cb4-d387-cb0ac9aa65cf"
      },
      "outputs": [
        {
          "data": {
            "text/plain": [
              "'hello my name is sam'"
            ]
          },
          "execution_count": 112,
          "metadata": {},
          "output_type": "execute_result"
        }
      ],
      "source": [
        "st.lower()"
      ]
    },
    {
      "cell_type": "code",
      "execution_count": null,
      "metadata": {
        "id": "JfYihcgT1rXO",
        "outputId": "5e833e3f-daf3-4cdd-b336-4b0cf97443a9"
      },
      "outputs": [
        {
          "data": {
            "text/plain": [
              "'HELLO MY NAME IS SAM'"
            ]
          },
          "execution_count": 113,
          "metadata": {},
          "output_type": "execute_result"
        }
      ],
      "source": [
        "st.upper()"
      ]
    },
    {
      "cell_type": "code",
      "execution_count": null,
      "metadata": {
        "id": "HFh1f9DW1rXO",
        "outputId": "e364d3a1-ffb2-448f-e055-5e6f0392186d"
      },
      "outputs": [
        {
          "data": {
            "text/plain": [
              "['hello', 'my', 'name', 'is', 'Sam']"
            ]
          },
          "execution_count": 103,
          "metadata": {},
          "output_type": "execute_result"
        }
      ],
      "source": [
        "st.split()"
      ]
    },
    {
      "cell_type": "code",
      "execution_count": null,
      "metadata": {
        "collapsed": true,
        "id": "Fb4O4Yba1rXP"
      },
      "outputs": [],
      "source": [
        "tweet = 'Go Sports! #Sports'"
      ]
    },
    {
      "cell_type": "code",
      "execution_count": null,
      "metadata": {
        "id": "UpuGxwGp1rXP",
        "outputId": "526df915-3816-493d-e43c-68fbba0c1095"
      },
      "outputs": [
        {
          "data": {
            "text/plain": [
              "['Go Sports! ', 'Sports']"
            ]
          },
          "execution_count": 106,
          "metadata": {},
          "output_type": "execute_result"
        }
      ],
      "source": [
        "tweet.split('#')"
      ]
    },
    {
      "cell_type": "code",
      "execution_count": null,
      "metadata": {
        "id": "gn0sz0N91rXP",
        "outputId": "20918bfd-616c-479a-c955-b507f9170ea8"
      },
      "outputs": [
        {
          "data": {
            "text/plain": [
              "'Sports'"
            ]
          },
          "execution_count": 107,
          "metadata": {},
          "output_type": "execute_result"
        }
      ],
      "source": [
        "tweet.split('#')[1]"
      ]
    },
    {
      "cell_type": "code",
      "execution_count": null,
      "metadata": {
        "id": "Hk22ct-M1rXP",
        "outputId": "83e6f630-5fdd-4e25-ada4-004222bcf88a"
      },
      "outputs": [
        {
          "data": {
            "text/plain": [
              "{'key1': 'item1', 'key2': 'item2'}"
            ]
          },
          "execution_count": 92,
          "metadata": {},
          "output_type": "execute_result"
        }
      ],
      "source": [
        "d"
      ]
    },
    {
      "cell_type": "code",
      "execution_count": null,
      "metadata": {
        "id": "a7olYzqm1rXP",
        "outputId": "5b8a60fc-ab3c-4b06-ac1d-6f42bb1d8d46"
      },
      "outputs": [
        {
          "data": {
            "text/plain": [
              "dict_keys(['key2', 'key1'])"
            ]
          },
          "execution_count": 93,
          "metadata": {},
          "output_type": "execute_result"
        }
      ],
      "source": [
        "d.keys()"
      ]
    },
    {
      "cell_type": "code",
      "execution_count": null,
      "metadata": {
        "id": "kbCMvrJi1rXP",
        "outputId": "11957d5b-2875-4718-a3d0-9a1fccdd358b"
      },
      "outputs": [
        {
          "data": {
            "text/plain": [
              "dict_items([('key2', 'item2'), ('key1', 'item1')])"
            ]
          },
          "execution_count": 94,
          "metadata": {},
          "output_type": "execute_result"
        }
      ],
      "source": [
        "d.items()"
      ]
    },
    {
      "cell_type": "code",
      "execution_count": null,
      "metadata": {
        "collapsed": true,
        "id": "50bcninE1rXP"
      },
      "outputs": [],
      "source": [
        "lst = [1,2,3]"
      ]
    },
    {
      "cell_type": "code",
      "execution_count": null,
      "metadata": {
        "id": "w31LFatR1rXP",
        "outputId": "6f0d5226-2dcf-4354-c2af-637bcc7c71fc"
      },
      "outputs": [
        {
          "data": {
            "text/plain": [
              "3"
            ]
          },
          "execution_count": 96,
          "metadata": {},
          "output_type": "execute_result"
        }
      ],
      "source": [
        "lst.pop()"
      ]
    },
    {
      "cell_type": "code",
      "execution_count": null,
      "metadata": {
        "id": "Vg0HD0uA1rXP",
        "outputId": "dfcdf951-8b77-416e-9bc8-26c1ce945763"
      },
      "outputs": [
        {
          "data": {
            "text/plain": [
              "[1, 2]"
            ]
          },
          "execution_count": 108,
          "metadata": {},
          "output_type": "execute_result"
        }
      ],
      "source": [
        "lst"
      ]
    },
    {
      "cell_type": "code",
      "execution_count": null,
      "metadata": {
        "id": "fs0ITwm01rXP",
        "outputId": "efabacf6-baa7-4e3c-9187-f5fe84f14791"
      },
      "outputs": [
        {
          "data": {
            "text/plain": [
              "False"
            ]
          },
          "execution_count": 109,
          "metadata": {},
          "output_type": "execute_result"
        }
      ],
      "source": [
        "'x' in [1,2,3]"
      ]
    },
    {
      "cell_type": "code",
      "execution_count": null,
      "metadata": {
        "id": "Rm-QZjqG1rXP",
        "outputId": "0ca7a869-8270-4dfc-818b-509ae43df1f6"
      },
      "outputs": [
        {
          "data": {
            "text/plain": [
              "True"
            ]
          },
          "execution_count": 110,
          "metadata": {},
          "output_type": "execute_result"
        }
      ],
      "source": [
        "'x' in ['x','y','z']"
      ]
    },
    {
      "cell_type": "markdown",
      "metadata": {
        "id": "0zfvKuwh1rXP"
      },
      "source": [
        "¡Eso es todo amigos!"
      ]
    }
  ],
  "metadata": {
    "kernelspec": {
      "display_name": "Python 3",
      "language": "python",
      "name": "python3"
    },
    "language_info": {
      "codemirror_mode": {
        "name": "ipython",
        "version": 3
      },
      "file_extension": ".py",
      "mimetype": "text/x-python",
      "name": "python",
      "nbconvert_exporter": "python",
      "pygments_lexer": "ipython3",
      "version": "3.6.3"
    },
    "colab": {
      "provenance": [],
      "toc_visible": true
    }
  },
  "nbformat": 4,
  "nbformat_minor": 0
}