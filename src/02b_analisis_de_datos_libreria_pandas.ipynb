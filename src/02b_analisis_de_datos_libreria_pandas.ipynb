{
  "cells": [
    {
      "cell_type": "markdown",
      "metadata": {
        "collapsed": true,
        "id": "_zORGohxMQSJ"
      },
      "source": [
        "# Introducción a Pandas\n",
        "\n",
        "En esta sección del taller aprenderemos a utilizar Pandas para el análisis de datos.\n",
        "\n",
        "Pandas puede considerarse como una versión extremadamente potente de Excel, con muchas más funciones. En concreto, veremos las siguientes funcionalidades de pandas\n",
        "\n",
        "* Series\n",
        "* DataFrames\n",
        "* Datos faltantes\n",
        "* GroupBy\n",
        "* Fusión, unión y concatenación\n",
        "* Operaciones\n",
        "* Entrada y salida de datos"
      ]
    },
    {
      "cell_type": "markdown",
      "source": [
        "# Series\n",
        "\n",
        "El primer tipo de datos principal que aprenderemos sobre pandas es el tipo de datos Series. Importemos Pandas y exploremos el objeto Series.\n",
        "\n",
        "Una serie es muy similar a una matriz NumPy (de hecho, se basa en el objeto de matriz `numpy`).\n",
        "\n",
        "Lo que diferencia a la matriz NumPy de una serie es que una serie puede tener etiquetas de eje, lo que significa que se puede indexar por una etiqueta, en lugar de solo por una ubicación numérica. Tampoco necesita contener datos numéricos, sino que puede contener cualquier objeto Python arbitrario.\n",
        "\n",
        "Exploremos este concepto a través de algunos ejemplos:"
      ],
      "metadata": {
        "id": "JvjSzubfNWSQ"
      }
    },
    {
      "cell_type": "code",
      "source": [
        "import numpy as np\n",
        "import pandas as pd"
      ],
      "metadata": {
        "id": "QgNLYZTsNk89"
      },
      "execution_count": null,
      "outputs": []
    },
    {
      "cell_type": "markdown",
      "source": [
        "### Creación de una serie\n",
        "\n",
        "Puede convertir una lista, una matriz numpy o un diccionario en una serie:"
      ],
      "metadata": {
        "id": "Xwi4qhWlNpP-"
      }
    },
    {
      "cell_type": "code",
      "source": [
        "labels = ['a','b','c']\n",
        "my_list = [10,20,30]\n",
        "arr = np.array([10,20,30])\n",
        "d = {'a':10,'b':20,'c':30}"
      ],
      "metadata": {
        "id": "18fb8CG5Nqts"
      },
      "execution_count": null,
      "outputs": []
    },
    {
      "cell_type": "code",
      "source": [
        "pd.Series(data=my_list)"
      ],
      "metadata": {
        "id": "U82ZxyfJNuOU"
      },
      "execution_count": null,
      "outputs": []
    },
    {
      "cell_type": "code",
      "source": [
        "pd.Series(data=my_list,index=labels)"
      ],
      "metadata": {
        "id": "gMYB86saNuvJ"
      },
      "execution_count": null,
      "outputs": []
    },
    {
      "cell_type": "code",
      "source": [
        "pd.Series(my_list,labels)"
      ],
      "metadata": {
        "id": "aVIkbIUPNv_b"
      },
      "execution_count": null,
      "outputs": []
    },
    {
      "cell_type": "markdown",
      "source": [
        "`numpy`arrays"
      ],
      "metadata": {
        "id": "qmg1SROiNz6C"
      }
    },
    {
      "cell_type": "code",
      "source": [
        "pd.Series(arr)"
      ],
      "metadata": {
        "id": "LCSrvAt2N6l6"
      },
      "execution_count": null,
      "outputs": []
    },
    {
      "cell_type": "code",
      "source": [
        "pd.Series(arr,labels)"
      ],
      "metadata": {
        "id": "nsNZOaAwN38o"
      },
      "execution_count": null,
      "outputs": []
    },
    {
      "cell_type": "markdown",
      "source": [
        "Diccionarios"
      ],
      "metadata": {
        "id": "pCsfQPSRN7-4"
      }
    },
    {
      "cell_type": "code",
      "source": [
        "pd.Series(d)"
      ],
      "metadata": {
        "id": "nvef1xY6N9bO"
      },
      "execution_count": null,
      "outputs": []
    },
    {
      "cell_type": "markdown",
      "source": [
        "### Datos en una serie\n",
        "\n",
        "Una serie de pandas puede contener una variedad de tipos de objetos:"
      ],
      "metadata": {
        "id": "Q9iMyIlpNtpU"
      }
    },
    {
      "cell_type": "code",
      "source": [
        "pd.Series(data=labels)"
      ],
      "metadata": {
        "id": "2kpXck6eOCVP"
      },
      "execution_count": null,
      "outputs": []
    },
    {
      "cell_type": "code",
      "source": [
        "# Incluso funciones pares\n",
        "pd.Series([sum,print,len])"
      ],
      "metadata": {
        "id": "7aVOjfBfOH-P"
      },
      "execution_count": null,
      "outputs": []
    },
    {
      "cell_type": "markdown",
      "source": [
        "## Uso de un índice\n",
        "\n",
        "La clave para utilizar una serie es comprender su índice. Pandas utiliza estos nombres o números de índice para permitir búsquedas rápidas de información (funciona como una tabla hash o un diccionario).\n",
        "\n",
        "Veamos algunos ejemplos de cómo obtener información de una serie. Creemos dos series, `ser1` y `ser2`:"
      ],
      "metadata": {
        "id": "YuzPoplrOM7V"
      }
    },
    {
      "cell_type": "code",
      "source": [
        "ser1 = pd.Series([1,2,3,4],index = ['USA', 'Germany','USSR', 'Japan'])\n",
        "ser1"
      ],
      "metadata": {
        "id": "hnnX1yShObSk"
      },
      "execution_count": null,
      "outputs": []
    },
    {
      "cell_type": "code",
      "source": [
        "ser2 = pd.Series([1,2,5,4],index = ['USA', 'Germany','Italy', 'Japan'])\n",
        "ser2"
      ],
      "metadata": {
        "id": "gVKWSRHTOc9N"
      },
      "execution_count": null,
      "outputs": []
    },
    {
      "cell_type": "code",
      "source": [
        "ser1['USA']"
      ],
      "metadata": {
        "id": "2XIfRRWDOjUj"
      },
      "execution_count": null,
      "outputs": []
    },
    {
      "cell_type": "markdown",
      "source": [
        "Las operaciones también se realizan en función del índice:"
      ],
      "metadata": {
        "id": "9TxpV5CuOmwr"
      }
    },
    {
      "cell_type": "code",
      "source": [
        "ser1 + ser2"
      ],
      "metadata": {
        "id": "5KQmirZKOn3r"
      },
      "execution_count": null,
      "outputs": []
    },
    {
      "cell_type": "markdown",
      "source": [
        "# DataFrames\n",
        "\n",
        "Los DataFrames son el motor de pandas y están directamente inspirados en el lenguaje de programación R. Podemos pensar en un `DataFrame` como un conjunto de objetos Series reunidos para compartir el mismo índice. ¡Usemos pandas para explorar este tema!"
      ],
      "metadata": {
        "id": "RBATvYHZO2hK"
      }
    },
    {
      "cell_type": "code",
      "source": [
        "from numpy.random import randn\n",
        "np.random.seed(101)\n",
        "\n",
        "df = pd.DataFrame(randn(5,4),index='A B C D E'.split(),columns='W X Y Z'.split())\n",
        "df"
      ],
      "metadata": {
        "id": "reGx12__O70-"
      },
      "execution_count": null,
      "outputs": []
    },
    {
      "cell_type": "markdown",
      "source": [
        "## Selección e indexación\n",
        "\n",
        "Aprendamos los distintos métodos para extraer datos de un DataFrame."
      ],
      "metadata": {
        "id": "IB783Tt5PB9f"
      }
    },
    {
      "cell_type": "code",
      "source": [
        "df['W']"
      ],
      "metadata": {
        "id": "UfMiFoaaPDLP"
      },
      "execution_count": null,
      "outputs": []
    },
    {
      "cell_type": "code",
      "source": [
        "df[['W','Z']]"
      ],
      "metadata": {
        "id": "3yxwMYoSPEkA"
      },
      "execution_count": null,
      "outputs": []
    },
    {
      "cell_type": "code",
      "source": [
        "df.W"
      ],
      "metadata": {
        "id": "xP0AsQcWPF1K"
      },
      "execution_count": null,
      "outputs": []
    },
    {
      "cell_type": "markdown",
      "source": [
        "Las columnas de DataFrame son simplemente `series`."
      ],
      "metadata": {
        "id": "B4gMvlt8PJGW"
      }
    },
    {
      "cell_type": "code",
      "source": [
        "type(df['W'])"
      ],
      "metadata": {
        "id": "mnLj0BmhPLQV"
      },
      "execution_count": null,
      "outputs": []
    },
    {
      "cell_type": "markdown",
      "source": [
        "Creemos una nueva columna en nuestro dataframe"
      ],
      "metadata": {
        "id": "SGGth6SGPMiW"
      }
    },
    {
      "cell_type": "code",
      "source": [
        "df['new'] = df['W'] + df['Y']\n",
        "df"
      ],
      "metadata": {
        "id": "AKSyUirkPO_1"
      },
      "execution_count": null,
      "outputs": []
    },
    {
      "cell_type": "markdown",
      "source": [
        "Borremosla"
      ],
      "metadata": {
        "id": "rOrMdbKxPRN9"
      }
    },
    {
      "cell_type": "code",
      "source": [
        "df.drop('new',axis=1)\n",
        "df"
      ],
      "metadata": {
        "id": "ym7Xzd_TPS1E"
      },
      "execution_count": null,
      "outputs": []
    },
    {
      "cell_type": "code",
      "source": [
        "df.drop('new',axis=1,inplace=True)\n",
        "df"
      ],
      "metadata": {
        "id": "LkUPLLMfPX8k"
      },
      "execution_count": null,
      "outputs": []
    },
    {
      "cell_type": "markdown",
      "source": [
        "Podemos borrar también filas"
      ],
      "metadata": {
        "id": "nVIqn7psPaj6"
      }
    },
    {
      "cell_type": "code",
      "source": [
        "df.drop('E',axis=0)"
      ],
      "metadata": {
        "id": "uWiY3_DePc-7"
      },
      "execution_count": null,
      "outputs": []
    },
    {
      "cell_type": "markdown",
      "source": [
        "Seleccionar filas"
      ],
      "metadata": {
        "id": "uTw7uCsJPeGV"
      }
    },
    {
      "cell_type": "code",
      "source": [
        "df.loc['A']"
      ],
      "metadata": {
        "id": "fma7C8c3PfTj"
      },
      "execution_count": null,
      "outputs": []
    },
    {
      "cell_type": "markdown",
      "source": [
        "O seleccionar en función de la posición en lugar de la etiqueta."
      ],
      "metadata": {
        "id": "Z4LtcRDfPjv1"
      }
    },
    {
      "cell_type": "code",
      "source": [
        "df.iloc[2]"
      ],
      "metadata": {
        "id": "FqRtXLkRPgH0"
      },
      "execution_count": null,
      "outputs": []
    },
    {
      "cell_type": "markdown",
      "source": [
        "Selección de un subconjunto de filas y columnas"
      ],
      "metadata": {
        "id": "0leUcHQvPn7q"
      }
    },
    {
      "cell_type": "code",
      "source": [
        "df.loc['B','Y']"
      ],
      "metadata": {
        "id": "TGHcdoNcPpAx"
      },
      "execution_count": null,
      "outputs": []
    },
    {
      "cell_type": "code",
      "source": [
        "df.loc[['A','B'],['W','Y']]"
      ],
      "metadata": {
        "id": "A_c-GJauPqPw"
      },
      "execution_count": null,
      "outputs": []
    },
    {
      "cell_type": "markdown",
      "source": [
        "### Selección condicional\n",
        "\n",
        "Una característica importante de pandas es la selección condicional mediante notación entre corchetes, muy similar a numpy:"
      ],
      "metadata": {
        "id": "XtoqrnlyPtM7"
      }
    },
    {
      "cell_type": "code",
      "source": [
        "df>0"
      ],
      "metadata": {
        "id": "XmMOvVYQPtkg"
      },
      "execution_count": null,
      "outputs": []
    },
    {
      "cell_type": "code",
      "source": [
        "df[df>0]"
      ],
      "metadata": {
        "id": "MebpFAkGPwzo"
      },
      "execution_count": null,
      "outputs": []
    },
    {
      "cell_type": "code",
      "source": [
        "df[df['W']>0]"
      ],
      "metadata": {
        "id": "skXamXS1PyVg"
      },
      "execution_count": null,
      "outputs": []
    },
    {
      "cell_type": "code",
      "source": [
        "df[df['W']>0]['Y']"
      ],
      "metadata": {
        "id": "9biT8-fUPznS"
      },
      "execution_count": null,
      "outputs": []
    },
    {
      "cell_type": "code",
      "source": [
        "df[df['W']>0][['Y','X']]"
      ],
      "metadata": {
        "id": "TgET3CCFP04h"
      },
      "execution_count": null,
      "outputs": []
    },
    {
      "cell_type": "markdown",
      "source": [
        "Para dos condiciones, puede utilizar | y & con paréntesis:"
      ],
      "metadata": {
        "id": "hzAmIqQvP3xX"
      }
    },
    {
      "cell_type": "code",
      "source": [
        "df[(df['W']>0) & (df['Y'] > 1)]"
      ],
      "metadata": {
        "id": "D5mAJHStP4zH"
      },
      "execution_count": null,
      "outputs": []
    },
    {
      "cell_type": "markdown",
      "source": [
        "### Más detalles sobre los índices\n",
        "\n",
        "Veamos algunas características más de la indexación, como restablecer el índice o configurarlo de otra manera. ¡También hablaremos de la jerarquía de los índices!"
      ],
      "metadata": {
        "id": "hcLsdtMgP9hY"
      }
    },
    {
      "cell_type": "code",
      "source": [
        "# Reset to default 0,1...n index\n",
        "df.reset_index()"
      ],
      "metadata": {
        "id": "aqYwSCOLQAYW"
      },
      "execution_count": null,
      "outputs": []
    },
    {
      "cell_type": "code",
      "source": [
        "newind = 'CA NY WY OR CO'.split()"
      ],
      "metadata": {
        "id": "JE7LlhnAQGil"
      },
      "execution_count": null,
      "outputs": []
    },
    {
      "cell_type": "code",
      "source": [
        "df['States'] = newind\n",
        "df"
      ],
      "metadata": {
        "id": "KHUE-frnQIBt"
      },
      "execution_count": null,
      "outputs": []
    },
    {
      "cell_type": "code",
      "source": [
        "df.set_index('States')"
      ],
      "metadata": {
        "id": "RNiMoSDAQJhN"
      },
      "execution_count": null,
      "outputs": []
    },
    {
      "cell_type": "code",
      "source": [
        "df.set_index('States',inplace=True)\n",
        "df"
      ],
      "metadata": {
        "id": "Kw9ZCN4jQLf8"
      },
      "execution_count": null,
      "outputs": []
    },
    {
      "cell_type": "markdown",
      "source": [
        "## Multiíndice y jerarquía de índices\n",
        "\n",
        "Repasemos cómo trabajar con el multiíndice. Primero, crearemos un ejemplo rápido de cómo sería un DataFrame con multiíndice:"
      ],
      "metadata": {
        "id": "BBbtIPYKQUWe"
      }
    },
    {
      "cell_type": "code",
      "source": [
        "outside = ['G1','G1','G1','G2','G2','G2']\n",
        "inside = [1,2,3,1,2,3]\n",
        "hier_index = list(zip(outside,inside))\n",
        "hier_index = pd.MultiIndex.from_tuples(hier_index)\n",
        "hier_index"
      ],
      "metadata": {
        "id": "Fh3AFSwzQc61"
      },
      "execution_count": null,
      "outputs": []
    },
    {
      "cell_type": "code",
      "source": [
        "df = pd.DataFrame(np.random.randn(6,2),index=hier_index,columns=['A','B'])\n",
        "df"
      ],
      "metadata": {
        "id": "t0EgiLr9Qfsa"
      },
      "execution_count": null,
      "outputs": []
    },
    {
      "cell_type": "markdown",
      "source": [
        "Ahora veamos cómo indexar esto. Para la jerarquía del índice utilizamos df.loc[], si esto estuviera en el eje de columnas, solo tendrías que utilizar la notación normal entre corchetes df[]. Al llamar a un nivel del índice se devuelve el sub-dataframe:"
      ],
      "metadata": {
        "id": "260tzaQFQisL"
      }
    },
    {
      "cell_type": "code",
      "source": [
        "df.loc['G1']"
      ],
      "metadata": {
        "id": "kwJZeHdiQjXT"
      },
      "execution_count": null,
      "outputs": []
    },
    {
      "cell_type": "code",
      "source": [
        "df.loc['G1'].loc[1]"
      ],
      "metadata": {
        "id": "50ErPo_WQlUy"
      },
      "execution_count": null,
      "outputs": []
    },
    {
      "cell_type": "code",
      "source": [
        "df.index.names"
      ],
      "metadata": {
        "id": "G-EnPDEeQmQx"
      },
      "execution_count": null,
      "outputs": []
    },
    {
      "cell_type": "code",
      "source": [
        "df.index.names = ['Group','Num']\n",
        "df"
      ],
      "metadata": {
        "id": "ADxyFe76Qn9C"
      },
      "execution_count": null,
      "outputs": []
    },
    {
      "cell_type": "code",
      "source": [
        "df.xs('G1')"
      ],
      "metadata": {
        "id": "Rk_PjAo7QqYQ"
      },
      "execution_count": null,
      "outputs": []
    },
    {
      "cell_type": "code",
      "source": [
        "df.xs(('G1',1))"
      ],
      "metadata": {
        "id": "XDptaPNhQrpp"
      },
      "execution_count": null,
      "outputs": []
    },
    {
      "cell_type": "code",
      "source": [
        "df.xs(1,level='Num')"
      ],
      "metadata": {
        "id": "cJ1rEvTFQsyR"
      },
      "execution_count": null,
      "outputs": []
    },
    {
      "cell_type": "markdown",
      "source": [
        "# Datos faltantes\n",
        "\n",
        "Veamos algunos métodos prácticos para tratar los datos faltantes en pandas:"
      ],
      "metadata": {
        "id": "BvarVCjARBdf"
      }
    },
    {
      "cell_type": "code",
      "source": [
        "df = pd.DataFrame({'A':[1,2,np.nan],\n",
        "                  'B':[5,np.nan,np.nan],\n",
        "                  'C':[1,2,3]})\n",
        "df"
      ],
      "metadata": {
        "id": "Qs0Sr2v_RI-y"
      },
      "execution_count": null,
      "outputs": []
    },
    {
      "cell_type": "code",
      "source": [
        "df.dropna()"
      ],
      "metadata": {
        "id": "AHjxnKakRK83"
      },
      "execution_count": null,
      "outputs": []
    },
    {
      "cell_type": "code",
      "source": [
        "df.dropna(axis=1)"
      ],
      "metadata": {
        "id": "emcIasr3RL5t"
      },
      "execution_count": null,
      "outputs": []
    },
    {
      "cell_type": "code",
      "source": [
        "df.dropna(thresh=2)"
      ],
      "metadata": {
        "id": "GjOZojxTRNFW"
      },
      "execution_count": null,
      "outputs": []
    },
    {
      "cell_type": "code",
      "source": [
        "df.fillna(value='FILL VALUE')"
      ],
      "metadata": {
        "id": "lE1Q0bBaROG-"
      },
      "execution_count": null,
      "outputs": []
    },
    {
      "cell_type": "code",
      "source": [
        "df['A'].fillna(value=df['A'].mean())"
      ],
      "metadata": {
        "id": "N7tpjw8tRPMX"
      },
      "execution_count": null,
      "outputs": []
    },
    {
      "cell_type": "markdown",
      "source": [
        "# `GroupBy`\n",
        "\n",
        "El método `groupby` permite agrupar filas de datos y llamar a funciones de agregación."
      ],
      "metadata": {
        "id": "OOvukOOlRXrt"
      }
    },
    {
      "cell_type": "code",
      "source": [
        "data = {'Company':['GOOG','GOOG','MSFT','MSFT','FB','FB'],\n",
        "       'Person':['Sam','Charlie','Amy','Vanessa','Carl','Sarah'],\n",
        "       'Sales':[200,120,340,124,243,350]}\n",
        "df = pd.DataFrame(data)\n",
        "df"
      ],
      "metadata": {
        "id": "f_Uits_cRhG7"
      },
      "execution_count": null,
      "outputs": []
    },
    {
      "cell_type": "markdown",
      "source": [
        " Ahora podemos utilizar el método `groupby` para agrupar filas en función del nombre de una columna. Por ejemplo, agrupemos en función de `Company`. Esto creará un objeto `DataFrameGroupBy`."
      ],
      "metadata": {
        "id": "A4QATPcpRrmT"
      }
    },
    {
      "cell_type": "code",
      "source": [
        "df.groupby('Company')"
      ],
      "metadata": {
        "id": "JLNzttGURiO3"
      },
      "execution_count": null,
      "outputs": []
    },
    {
      "cell_type": "code",
      "source": [
        "by_comp = df.groupby(\"Company\")\n",
        "by_comp.head()"
      ],
      "metadata": {
        "id": "3qUaz85NR3Lz"
      },
      "execution_count": null,
      "outputs": []
    },
    {
      "cell_type": "markdown",
      "source": [
        "Ahora podemos llamar a varios métodos de agregacion sobre el objeto `DataFrameGroupBy` creado."
      ],
      "metadata": {
        "id": "LXHT-7_-R40b"
      }
    },
    {
      "cell_type": "code",
      "source": [
        "by_comp.mean(numeric_only=True)"
      ],
      "metadata": {
        "id": "37mU15URR_C3"
      },
      "execution_count": null,
      "outputs": []
    },
    {
      "cell_type": "code",
      "source": [
        "by_comp.std(numeric_only=True)"
      ],
      "metadata": {
        "id": "n1pT4hI0SBzb"
      },
      "execution_count": null,
      "outputs": []
    },
    {
      "cell_type": "code",
      "source": [
        "by_comp.min(numeric_only=True)"
      ],
      "metadata": {
        "id": "JoeEabZWSDCh"
      },
      "execution_count": null,
      "outputs": []
    },
    {
      "cell_type": "code",
      "source": [
        "by_comp.max(numeric_only=True)"
      ],
      "metadata": {
        "id": "snT5gWd0SEIY"
      },
      "execution_count": null,
      "outputs": []
    },
    {
      "cell_type": "code",
      "source": [
        "by_comp.count()"
      ],
      "metadata": {
        "id": "TNUXh_c2SFG5"
      },
      "execution_count": null,
      "outputs": []
    },
    {
      "cell_type": "code",
      "source": [
        "by_comp.describe()"
      ],
      "metadata": {
        "id": "GAbCIUytSGIq"
      },
      "execution_count": null,
      "outputs": []
    },
    {
      "cell_type": "code",
      "source": [
        "by_comp.describe().transpose()"
      ],
      "metadata": {
        "id": "xNmZn8eWSHmk"
      },
      "execution_count": null,
      "outputs": []
    },
    {
      "cell_type": "code",
      "source": [
        "by_comp.describe().transpose()['GOOG']"
      ],
      "metadata": {
        "id": "QlB9OQawSJrt"
      },
      "execution_count": null,
      "outputs": []
    },
    {
      "cell_type": "markdown",
      "source": [
        "# Operaciones\n",
        "\n",
        "Hay muchas operaciones con `pandas` que nos resultarán muy útiles, pero que no entran en ninguna categoría concreta. Veámos algunas de ellas"
      ],
      "metadata": {
        "id": "LS1Q8mqLSa-X"
      }
    },
    {
      "cell_type": "code",
      "source": [
        "df = pd.DataFrame({'col1':[1,2,3,4],'col2':[444,555,666,444],'col3':['abc','def','ghi','xyz']})\n",
        "df.head()"
      ],
      "metadata": {
        "id": "mfCVq9rLSiF0"
      },
      "execution_count": null,
      "outputs": []
    },
    {
      "cell_type": "code",
      "source": [
        "df['col2'].unique()"
      ],
      "metadata": {
        "id": "A0t8oPoxSjsG"
      },
      "execution_count": null,
      "outputs": []
    },
    {
      "cell_type": "code",
      "source": [
        "df['col2'].nunique()"
      ],
      "metadata": {
        "id": "C74-JoRrSknm"
      },
      "execution_count": null,
      "outputs": []
    },
    {
      "cell_type": "code",
      "source": [
        "df['col2'].value_counts()"
      ],
      "metadata": {
        "id": "pG7CLATwSlh2"
      },
      "execution_count": null,
      "outputs": []
    },
    {
      "cell_type": "markdown",
      "source": [
        "Selección de datos"
      ],
      "metadata": {
        "id": "wzYOl0tJSnC1"
      }
    },
    {
      "cell_type": "code",
      "source": [
        "newdf = df[(df['col1']>2) & (df['col2']==444)]\n",
        "newdf"
      ],
      "metadata": {
        "id": "T9Qo8X0BSozD"
      },
      "execution_count": null,
      "outputs": []
    },
    {
      "cell_type": "markdown",
      "source": [
        "Aplicar funciones"
      ],
      "metadata": {
        "id": "bNcM9UWPSra0"
      }
    },
    {
      "cell_type": "code",
      "source": [
        "def times2(x):\n",
        "    return x*2\n",
        "\n",
        "df['col1'].apply(times2)"
      ],
      "metadata": {
        "id": "mbYLurJ-StB7"
      },
      "execution_count": null,
      "outputs": []
    },
    {
      "cell_type": "code",
      "source": [
        "df['col3'].apply(len)"
      ],
      "metadata": {
        "id": "B7Tj0EnwSwdT"
      },
      "execution_count": null,
      "outputs": []
    },
    {
      "cell_type": "code",
      "source": [
        "df['col1'].sum()"
      ],
      "metadata": {
        "id": "XZOwfoQWSxqd"
      },
      "execution_count": null,
      "outputs": []
    },
    {
      "cell_type": "markdown",
      "source": [
        "¿Cómo podemos borrar de forma permanente una columna?"
      ],
      "metadata": {
        "id": "0wEG9kyBSzNd"
      }
    },
    {
      "cell_type": "code",
      "source": [
        "del df['col1']\n",
        "df"
      ],
      "metadata": {
        "id": "NmYkwUK1S2Oz"
      },
      "execution_count": null,
      "outputs": []
    },
    {
      "cell_type": "markdown",
      "source": [
        "También podemos obtener los nombres de las columnas e índices de un `dataframe`"
      ],
      "metadata": {
        "id": "fCediPNrS5kC"
      }
    },
    {
      "cell_type": "code",
      "source": [
        "df.columns"
      ],
      "metadata": {
        "id": "cgqBYL34S--7"
      },
      "execution_count": null,
      "outputs": []
    },
    {
      "cell_type": "code",
      "source": [
        "df.index"
      ],
      "metadata": {
        "id": "DduYqXEHS_z8"
      },
      "execution_count": null,
      "outputs": []
    },
    {
      "cell_type": "markdown",
      "source": [
        "O ordenar sus valores"
      ],
      "metadata": {
        "id": "ZDfk7KP0TBF7"
      }
    },
    {
      "cell_type": "code",
      "source": [
        "df.sort_values(by='col2') #inplace=False por defecto"
      ],
      "metadata": {
        "id": "gJCMbAwATCej"
      },
      "execution_count": null,
      "outputs": []
    },
    {
      "cell_type": "markdown",
      "source": [
        "Operaciones relacionadas con los valores nulos"
      ],
      "metadata": {
        "id": "ql8-UBdCTIYT"
      }
    },
    {
      "cell_type": "code",
      "source": [
        "df.isnull()"
      ],
      "metadata": {
        "id": "sQaCq6D2TOdy"
      },
      "execution_count": null,
      "outputs": []
    },
    {
      "cell_type": "code",
      "source": [
        "df.dropna()"
      ],
      "metadata": {
        "id": "KWqMeTa5TP5T"
      },
      "execution_count": null,
      "outputs": []
    },
    {
      "cell_type": "markdown",
      "source": [
        "Podemos incluso rellenar los valores `nan`que tengamos en un `dataframe`"
      ],
      "metadata": {
        "id": "2a5STniuTSw6"
      }
    },
    {
      "cell_type": "code",
      "source": [
        "import numpy as np\n",
        "\n",
        "df = pd.DataFrame({'col1':[1,2,3,np.nan],\n",
        "                   'col2':[np.nan,555,666,444],\n",
        "                   'col3':['abc','def','ghi','xyz']})\n",
        "df.head()"
      ],
      "metadata": {
        "id": "M5I7bayMTSCJ"
      },
      "execution_count": null,
      "outputs": []
    },
    {
      "cell_type": "code",
      "source": [
        "df.fillna('FILL')"
      ],
      "metadata": {
        "id": "b1qj5plWTcWH"
      },
      "execution_count": null,
      "outputs": []
    },
    {
      "cell_type": "code",
      "source": [
        "data = {'A':['foo','foo','foo','bar','bar','bar'],\n",
        "     'B':['one','one','two','two','one','one'],\n",
        "       'C':['x','y','x','y','x','y'],\n",
        "       'D':[1,3,2,5,4,1]}\n",
        "\n",
        "df = pd.DataFrame(data)\n",
        "df"
      ],
      "metadata": {
        "id": "_ieL5ZVxTd_3"
      },
      "execution_count": null,
      "outputs": []
    },
    {
      "cell_type": "code",
      "source": [
        "df.pivot_table(values='D',index=['A', 'B'],columns=['C'])"
      ],
      "metadata": {
        "id": "7jOYWzTZTgDU"
      },
      "execution_count": null,
      "outputs": []
    },
    {
      "cell_type": "markdown",
      "source": [
        "# Entrada y salida de datos\n",
        "\n",
        "Pandas puede leer una gran variedad de tipos de archivos utilizando sus métodos `pd.read_`. Echemos un vistazo a los tipos de datos más comunes:"
      ],
      "metadata": {
        "id": "9jGQCZIUTILa"
      }
    },
    {
      "cell_type": "markdown",
      "source": [
        "### CSV"
      ],
      "metadata": {
        "id": "QkeBgumvUK-a"
      }
    },
    {
      "cell_type": "code",
      "source": [
        "df = pd.read_csv('https://raw.githubusercontent.com/fterroso/curso_ia_smart_cities/refs/heads/main/datos/ejemplo.csv')\n",
        "df"
      ],
      "metadata": {
        "id": "SP42PCGkULa7"
      },
      "execution_count": null,
      "outputs": []
    },
    {
      "cell_type": "code",
      "source": [
        "df.to_csv('ejemplo2.csv',index=False)"
      ],
      "metadata": {
        "id": "kLMy6AcwUO11"
      },
      "execution_count": null,
      "outputs": []
    },
    {
      "cell_type": "markdown",
      "source": [
        "## Excel\n",
        "Pandas puede leer y escribir archivos Excel, pero ten en cuenta que solo importa datos. No importa fórmulas ni imágenes, ya que la presencia de imágenes o macros puede provocar que el método `read_excel` falle."
      ],
      "metadata": {
        "id": "EteiQvrSUSsb"
      }
    },
    {
      "cell_type": "code",
      "source": [
        "pd.read_excel('https://raw.githubusercontent.com/fterroso/curso_ia_smart_cities/refs/heads/main/datos/Ejemplo_Excel.xlsx')"
      ],
      "metadata": {
        "id": "F2qNh_BEUd-Z"
      },
      "execution_count": null,
      "outputs": []
    },
    {
      "cell_type": "code",
      "source": [
        "df.to_excel('Ejemplo_Excel2.xlsx')"
      ],
      "metadata": {
        "id": "NRp2ZH51UU4d"
      },
      "execution_count": null,
      "outputs": []
    },
    {
      "cell_type": "markdown",
      "source": [
        "## HTML\n",
        "\n",
        "Para poder leer un fichero HTML Es posible que tengas que instalar las librearías `htmllib5`, `lxml` y `BeautifulSoup4`."
      ],
      "metadata": {
        "id": "0qqMqtisU21g"
      }
    },
    {
      "cell_type": "code",
      "source": [
        "!pip install lxml html5lib BeautifulSoup4"
      ],
      "metadata": {
        "id": "p2T8qRvLVBdv"
      },
      "execution_count": null,
      "outputs": []
    },
    {
      "cell_type": "code",
      "source": [
        "df = pd.read_html('http://www.fdic.gov/bank/individual/failed/banklist.html')"
      ],
      "metadata": {
        "id": "UeOgTZaLVQId"
      },
      "execution_count": null,
      "outputs": []
    },
    {
      "cell_type": "code",
      "source": [
        "df[0]"
      ],
      "metadata": {
        "id": "R3GgZDGgVR_e"
      },
      "execution_count": null,
      "outputs": []
    },
    {
      "cell_type": "markdown",
      "source": [
        "# Caso de uso - Contaminación atmosférica\n",
        "\n",
        "Vamos ahora a emplear todo lo aprendido para hacer un pequeño análisis inicial de un conjunto de datos que almacena la información sobre partículas contaminantes y niveles de tráfico en diferentes barrios de una ciudad ficticia."
      ],
      "metadata": {
        "id": "vcGUbQItbgcW"
      }
    },
    {
      "cell_type": "code",
      "source": [
        "import pandas as pd\n",
        "\n",
        "# 1. Leer el CSV\n",
        "df = pd.read_csv(\"https://raw.githubusercontent.com/fterroso/curso_ia_smart_cities/refs/heads/main/datos/contaminacion_ejemplo.csv\")"
      ],
      "metadata": {
        "id": "AfaQt-EWb6e0"
      },
      "execution_count": null,
      "outputs": []
    },
    {
      "cell_type": "code",
      "source": [
        "# 2. Mostrar los primeros registros\n",
        "print(\"Datos iniciales:\")\n",
        "print(df.head())"
      ],
      "metadata": {
        "id": "ndkcJ-Gib8P8"
      },
      "execution_count": null,
      "outputs": []
    },
    {
      "cell_type": "code",
      "source": [
        "# 3. Calcular medias de contaminantes por barrio\n",
        "medias = df.groupby(\"barrio\")[[\"no2\", \"pm10\", \"o3\"]].mean()\n",
        "print(\"\\nMedia de contaminantes por barrio:\")\n",
        "print(medias)"
      ],
      "metadata": {
        "id": "Y63lKvRcb9jr"
      },
      "execution_count": null,
      "outputs": []
    },
    {
      "cell_type": "code",
      "source": [
        "# 4. Detectar el barrio con mayor tráfico promedio\n",
        "trafico_prom = df.groupby(\"barrio\")[\"trafico\"].mean().sort_values(ascending=False)\n",
        "print(\"\\nBarrio con más tráfico promedio:\")\n",
        "print(trafico_prom.head(1))"
      ],
      "metadata": {
        "id": "wtvbF85Yb-2m"
      },
      "execution_count": null,
      "outputs": []
    },
    {
      "cell_type": "code",
      "source": [
        "\n",
        "# 5. Correlación entre tráfico y NO2\n",
        "corr = df[\"trafico\"].corr(df[\"no2\"])\n",
        "print(f\"\\nCorrelación entre tráfico y NO₂: {corr:.2f}\")"
      ],
      "metadata": {
        "id": "RDyw6x9Rb_dF"
      },
      "execution_count": null,
      "outputs": []
    }
  ],
  "metadata": {
    "kernelspec": {
      "display_name": "Python 3",
      "language": "python",
      "name": "python3"
    },
    "language_info": {
      "codemirror_mode": {
        "name": "ipython",
        "version": 3
      },
      "file_extension": ".py",
      "mimetype": "text/x-python",
      "name": "python",
      "nbconvert_exporter": "python",
      "pygments_lexer": "ipython3",
      "version": "3.5.1"
    },
    "colab": {
      "provenance": [],
      "toc_visible": true
    }
  },
  "nbformat": 4,
  "nbformat_minor": 0
}